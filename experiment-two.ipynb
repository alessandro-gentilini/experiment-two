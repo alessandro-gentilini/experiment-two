{
 "cells": [
  {
   "cell_type": "code",
   "execution_count": 100,
   "metadata": {
    "collapsed": false,
    "scrolled": false
   },
   "outputs": [
    {
     "data": {
      "text/latex": [
       "$$\\left[\\begin{matrix}\\alpha & \\gamma & 0 & u_{0}\\\\0 & \\beta & 0 & v_{0}\\\\0 & 0 & 0 & 1\\end{matrix}\\right]$$"
      ],
      "text/plain": [
       "⎡α  γ  0  u₀⎤\n",
       "⎢           ⎥\n",
       "⎢0  β  0  v₀⎥\n",
       "⎢           ⎥\n",
       "⎣0  0  0  1 ⎦"
      ]
     },
     "execution_count": 100,
     "metadata": {},
     "output_type": "execute_result"
    }
   ],
   "source": [
    "from sympy import *\n",
    "init_printing(use_latex='mathjax')\n",
    "r11, r12, r13 = symbols('r_11 r_12 r_13')\n",
    "r21, r22, r23 = symbols('r_21 r_22 r_23')\n",
    "r31, r32, r33 = symbols('r_31 r_32 r_33')\n",
    "R = Matrix([[r11, r12, r13], [r21, r22, r23], [r31, r32, r33]])\n",
    "\n",
    "t_1, t_2, t_3 = symbols('t_1 t_2 t_3')\n",
    "T = Matrix([[t_1], [t_2], [t_3]])\n",
    "\n",
    "X, Y, Z = symbols('X Y Z')\n",
    "P = Matrix([[X], [Y], [Z], [1]])\n",
    "\n",
    "\n",
    "\n",
    "alpha, beta, gamma = symbols('alpha beta gamma')\n",
    "u_0, v_0 = symbols('u_0 v_0')\n",
    "g = symbols('g')\n",
    "K= Matrix([[alpha, gamma, 0, u_0], [0, beta, 0, v_0], [0,0,0,1]] )\n",
    "\n",
    "K"
   ]
  },
  {
   "cell_type": "code",
   "execution_count": 101,
   "metadata": {
    "collapsed": false
   },
   "outputs": [
    {
     "data": {
      "text/latex": [
       "$$\\left[\\begin{matrix}r_{11} & r_{12} & r_{13}\\\\r_{21} & r_{22} & r_{23}\\\\r_{31} & r_{32} & r_{33}\\end{matrix}\\right]$$"
      ],
      "text/plain": [
       "⎡r₁₁  r₁₂  r₁₃⎤\n",
       "⎢             ⎥\n",
       "⎢r₂₁  r₂₂  r₂₃⎥\n",
       "⎢             ⎥\n",
       "⎣r₃₁  r₃₂  r₃₃⎦"
      ]
     },
     "execution_count": 101,
     "metadata": {},
     "output_type": "execute_result"
    }
   ],
   "source": [
    "R"
   ]
  },
  {
   "cell_type": "code",
   "execution_count": 102,
   "metadata": {
    "collapsed": false
   },
   "outputs": [
    {
     "data": {
      "text/latex": [
       "$$\\left[\\begin{matrix}t_{1}\\\\t_{2}\\\\t_{3}\\end{matrix}\\right]$$"
      ],
      "text/plain": [
       "⎡t₁⎤\n",
       "⎢  ⎥\n",
       "⎢t₂⎥\n",
       "⎢  ⎥\n",
       "⎣t₃⎦"
      ]
     },
     "execution_count": 102,
     "metadata": {},
     "output_type": "execute_result"
    }
   ],
   "source": [
    "T"
   ]
  },
  {
   "cell_type": "code",
   "execution_count": 103,
   "metadata": {
    "collapsed": false
   },
   "outputs": [
    {
     "data": {
      "text/latex": [
       "$$\\left[\\begin{matrix}r_{11} & r_{12} & r_{13} & t_{1}\\\\r_{21} & r_{22} & r_{23} & t_{2}\\\\r_{31} & r_{32} & r_{33} & t_{3}\\end{matrix}\\right]$$"
      ],
      "text/plain": [
       "⎡r₁₁  r₁₂  r₁₃  t₁⎤\n",
       "⎢                 ⎥\n",
       "⎢r₂₁  r₂₂  r₂₃  t₂⎥\n",
       "⎢                 ⎥\n",
       "⎣r₃₁  r₃₂  r₃₃  t₃⎦"
      ]
     },
     "execution_count": 103,
     "metadata": {},
     "output_type": "execute_result"
    }
   ],
   "source": [
    "E=R.row_join(T)\n",
    "E"
   ]
  },
  {
   "cell_type": "code",
   "execution_count": 104,
   "metadata": {
    "collapsed": false
   },
   "outputs": [],
   "source": [
    "last_row = Matrix([[0],[0],[0],[1]])\n",
    "last_row.T\n",
    "E=E.col_join(last_row.T)"
   ]
  },
  {
   "cell_type": "code",
   "execution_count": 105,
   "metadata": {
    "collapsed": false
   },
   "outputs": [
    {
     "data": {
      "text/latex": [
       "$$\\left[\\begin{matrix}r_{11} & r_{12} & r_{13} & t_{1}\\\\r_{21} & r_{22} & r_{23} & t_{2}\\\\r_{31} & r_{32} & r_{33} & t_{3}\\\\0 & 0 & 0 & 1\\end{matrix}\\right]$$"
      ],
      "text/plain": [
       "⎡r₁₁  r₁₂  r₁₃  t₁⎤\n",
       "⎢                 ⎥\n",
       "⎢r₂₁  r₂₂  r₂₃  t₂⎥\n",
       "⎢                 ⎥\n",
       "⎢r₃₁  r₃₂  r₃₃  t₃⎥\n",
       "⎢                 ⎥\n",
       "⎣ 0    0    0   1 ⎦"
      ]
     },
     "execution_count": 105,
     "metadata": {},
     "output_type": "execute_result"
    }
   ],
   "source": [
    "E"
   ]
  },
  {
   "cell_type": "code",
   "execution_count": 106,
   "metadata": {
    "collapsed": false
   },
   "outputs": [
    {
     "data": {
      "text/latex": [
       "$$\\left[\\begin{matrix}X \\left(\\alpha r_{11} + \\gamma r_{21}\\right) + Y \\left(\\alpha r_{12} + \\gamma r_{22}\\right) + Z \\left(\\alpha r_{13} + \\gamma r_{23}\\right) + \\alpha t_{1} + \\gamma t_{2} + u_{0}\\\\X \\beta r_{21} + Y \\beta r_{22} + Z \\beta r_{23} + \\beta t_{2} + v_{0}\\\\1\\end{matrix}\\right]$$"
      ],
      "text/plain": [
       "⎡X⋅(α⋅r₁₁ + γ⋅r₂₁) + Y⋅(α⋅r₁₂ + γ⋅r₂₂) + Z⋅(α⋅r₁₃ + γ⋅r₂₃) + α⋅t₁ + γ⋅t₂ + u₀⎤\n",
       "⎢                                                                            ⎥\n",
       "⎢                  X⋅β⋅r₂₁ + Y⋅β⋅r₂₂ + Z⋅β⋅r₂₃ + β⋅t₂ + v₀                   ⎥\n",
       "⎢                                                                            ⎥\n",
       "⎣                                     1                                      ⎦"
      ]
     },
     "execution_count": 106,
     "metadata": {},
     "output_type": "execute_result"
    }
   ],
   "source": [
    "K*E*P"
   ]
  },
  {
   "cell_type": "code",
   "execution_count": 107,
   "metadata": {
    "collapsed": false
   },
   "outputs": [
    {
     "data": {
      "text/latex": [
       "$$\\left[\\begin{matrix}\\alpha & \\gamma & u_{0}\\\\0 & \\beta & v_{0}\\\\0 & 0 & 1\\end{matrix}\\right]$$"
      ],
      "text/plain": [
       "⎡α  γ  u₀⎤\n",
       "⎢        ⎥\n",
       "⎢0  β  v₀⎥\n",
       "⎢        ⎥\n",
       "⎣0  0  1 ⎦"
      ]
     },
     "execution_count": 107,
     "metadata": {},
     "output_type": "execute_result"
    }
   ],
   "source": [
    "K_s=Matrix([[alpha, gamma, u_0], [0, beta, v_0], [0,0,1]] )\n",
    "K_s"
   ]
  },
  {
   "cell_type": "code",
   "execution_count": 108,
   "metadata": {
    "collapsed": false
   },
   "outputs": [
    {
     "data": {
      "text/latex": [
       "$$\\left[\\begin{matrix}\\alpha & 0 & u_{0}\\\\0 & \\beta & v_{0}\\\\0 & 0 & 1\\end{matrix}\\right]$$"
      ],
      "text/plain": [
       "⎡α  0  u₀⎤\n",
       "⎢        ⎥\n",
       "⎢0  β  v₀⎥\n",
       "⎢        ⎥\n",
       "⎣0  0  1 ⎦"
      ]
     },
     "execution_count": 108,
     "metadata": {},
     "output_type": "execute_result"
    }
   ],
   "source": [
    "#K_s = K_s.subs(u_0,0)\n",
    "#K_s = K_s.subs(v_0,0)\n",
    "K_s = K_s.subs(gamma,0)\n",
    "K_s"
   ]
  },
  {
   "cell_type": "code",
   "execution_count": 109,
   "metadata": {
    "collapsed": false
   },
   "outputs": [
    {
     "data": {
      "text/latex": [
       "$$\\left[\\begin{matrix}r_{11} & r_{12} & t_{1}\\\\r_{21} & r_{22} & t_{2}\\\\0 & 0 & 1\\end{matrix}\\right]$$"
      ],
      "text/plain": [
       "⎡r₁₁  r₁₂  t₁⎤\n",
       "⎢            ⎥\n",
       "⎢r₂₁  r₂₂  t₂⎥\n",
       "⎢            ⎥\n",
       "⎣ 0    0   1 ⎦"
      ]
     },
     "execution_count": 109,
     "metadata": {},
     "output_type": "execute_result"
    }
   ],
   "source": [
    "E_s= Matrix([[r11, r12, t_1], [r21, r22, t_2], [0, 0, 1]])\n",
    "E_s"
   ]
  },
  {
   "cell_type": "code",
   "execution_count": 110,
   "metadata": {
    "collapsed": true
   },
   "outputs": [],
   "source": [
    "P_s=Matrix([[X], [Y], [1]])"
   ]
  },
  {
   "cell_type": "code",
   "execution_count": 111,
   "metadata": {
    "collapsed": false
   },
   "outputs": [
    {
     "data": {
      "text/latex": [
       "$$\\left[\\begin{matrix}X \\alpha r_{11} + Y \\alpha r_{12} + \\alpha t_{1} + u_{0}\\\\X \\beta r_{21} + Y \\beta r_{22} + \\beta t_{2} + v_{0}\\\\1\\end{matrix}\\right]$$"
      ],
      "text/plain": [
       "⎡X⋅α⋅r₁₁ + Y⋅α⋅r₁₂ + α⋅t₁ + u₀⎤\n",
       "⎢                             ⎥\n",
       "⎢X⋅β⋅r₂₁ + Y⋅β⋅r₂₂ + β⋅t₂ + v₀⎥\n",
       "⎢                             ⎥\n",
       "⎣              1              ⎦"
      ]
     },
     "execution_count": 111,
     "metadata": {},
     "output_type": "execute_result"
    }
   ],
   "source": [
    "K_s*E_s*P_s"
   ]
  },
  {
   "cell_type": "code",
   "execution_count": 112,
   "metadata": {
    "collapsed": false
   },
   "outputs": [
    {
     "data": {
      "text/latex": [
       "$$\\left[\\begin{matrix}h_{11} & h_{12} & h_{13}\\\\h_{21} & h_{22} & h_{23}\\\\h_{31} & h_{32} & h_{33}\\end{matrix}\\right]$$"
      ],
      "text/plain": [
       "⎡h₁₁  h₁₂  h₁₃⎤\n",
       "⎢             ⎥\n",
       "⎢h₂₁  h₂₂  h₂₃⎥\n",
       "⎢             ⎥\n",
       "⎣h₃₁  h₃₂  h₃₃⎦"
      ]
     },
     "execution_count": 112,
     "metadata": {},
     "output_type": "execute_result"
    }
   ],
   "source": [
    "h11, h12, h13 = symbols('h_11 h_12 h_13')\n",
    "h21, h22, h23 = symbols('h_21 h_22 h_23')\n",
    "h31, h32, h33 = symbols('h_31 h_32 h_33')\n",
    "H = Matrix([[h11, h12, h13], [h21, h22, h23], [h31, h32, h33]])\n",
    "H"
   ]
  },
  {
   "cell_type": "code",
   "execution_count": 113,
   "metadata": {
    "collapsed": false
   },
   "outputs": [
    {
     "data": {
      "text/latex": [
       "$$\\left[\\begin{matrix}\\frac{1}{\\alpha} & 0 & - \\frac{u_{0}}{\\alpha}\\\\0 & \\frac{1}{\\beta} & - \\frac{v_{0}}{\\beta}\\\\0 & 0 & 1\\end{matrix}\\right]$$"
      ],
      "text/plain": [
       "⎡1     -u₀ ⎤\n",
       "⎢─  0  ────⎥\n",
       "⎢α      α  ⎥\n",
       "⎢          ⎥\n",
       "⎢   1  -v₀ ⎥\n",
       "⎢0  ─  ────⎥\n",
       "⎢   β   β  ⎥\n",
       "⎢          ⎥\n",
       "⎣0  0   1  ⎦"
      ]
     },
     "execution_count": 113,
     "metadata": {},
     "output_type": "execute_result"
    }
   ],
   "source": [
    "K_s.inv()"
   ]
  },
  {
   "cell_type": "code",
   "execution_count": 114,
   "metadata": {
    "collapsed": false
   },
   "outputs": [
    {
     "data": {
      "text/latex": [
       "$$\\left[\\begin{matrix}\\frac{h_{11}}{\\alpha} - \\frac{h_{31} u_{0}}{\\alpha} & \\frac{h_{12}}{\\alpha} - \\frac{h_{32} u_{0}}{\\alpha} & \\frac{h_{13}}{\\alpha} - \\frac{h_{33} u_{0}}{\\alpha}\\\\\\frac{h_{21}}{\\beta} - \\frac{h_{31} v_{0}}{\\beta} & \\frac{h_{22}}{\\beta} - \\frac{h_{32} v_{0}}{\\beta} & \\frac{h_{23}}{\\beta} - \\frac{h_{33} v_{0}}{\\beta}\\\\h_{31} & h_{32} & h_{33}\\end{matrix}\\right]$$"
      ],
      "text/plain": [
       "⎡h₁₁   h₃₁⋅u₀  h₁₂   h₃₂⋅u₀  h₁₃   h₃₃⋅u₀⎤\n",
       "⎢─── - ──────  ─── - ──────  ─── - ──────⎥\n",
       "⎢ α      α      α      α      α      α   ⎥\n",
       "⎢                                        ⎥\n",
       "⎢h₂₁   h₃₁⋅v₀  h₂₂   h₃₂⋅v₀  h₂₃   h₃₃⋅v₀⎥\n",
       "⎢─── - ──────  ─── - ──────  ─── - ──────⎥\n",
       "⎢ β      β      β      β      β      β   ⎥\n",
       "⎢                                        ⎥\n",
       "⎣    h₃₁           h₃₂           h₃₃     ⎦"
      ]
     },
     "execution_count": 114,
     "metadata": {},
     "output_type": "execute_result"
    }
   ],
   "source": [
    "K_s.inv()*H"
   ]
  },
  {
   "cell_type": "code",
   "execution_count": 115,
   "metadata": {
    "collapsed": false
   },
   "outputs": [
    {
     "data": {
      "text/latex": [
       "$$\\left[\\begin{matrix}h_{31}^{2} + \\left(\\frac{h_{11}}{\\alpha} - \\frac{h_{31} u_{0}}{\\alpha}\\right)^{2} + \\left(\\frac{h_{21}}{\\beta} - \\frac{h_{31} v_{0}}{\\beta}\\right)^{2} & h_{31} h_{32} + \\left(\\frac{h_{11}}{\\alpha} - \\frac{h_{31} u_{0}}{\\alpha}\\right) \\left(\\frac{h_{12}}{\\alpha} - \\frac{h_{32} u_{0}}{\\alpha}\\right) + \\left(\\frac{h_{21}}{\\beta} - \\frac{h_{31} v_{0}}{\\beta}\\right) \\left(\\frac{h_{22}}{\\beta} - \\frac{h_{32} v_{0}}{\\beta}\\right) & h_{31} h_{33} + \\left(\\frac{h_{11}}{\\alpha} - \\frac{h_{31} u_{0}}{\\alpha}\\right) \\left(\\frac{h_{13}}{\\alpha} - \\frac{h_{33} u_{0}}{\\alpha}\\right) + \\left(\\frac{h_{21}}{\\beta} - \\frac{h_{31} v_{0}}{\\beta}\\right) \\left(\\frac{h_{23}}{\\beta} - \\frac{h_{33} v_{0}}{\\beta}\\right)\\\\h_{31} h_{32} + \\left(\\frac{h_{11}}{\\alpha} - \\frac{h_{31} u_{0}}{\\alpha}\\right) \\left(\\frac{h_{12}}{\\alpha} - \\frac{h_{32} u_{0}}{\\alpha}\\right) + \\left(\\frac{h_{21}}{\\beta} - \\frac{h_{31} v_{0}}{\\beta}\\right) \\left(\\frac{h_{22}}{\\beta} - \\frac{h_{32} v_{0}}{\\beta}\\right) & h_{32}^{2} + \\left(\\frac{h_{12}}{\\alpha} - \\frac{h_{32} u_{0}}{\\alpha}\\right)^{2} + \\left(\\frac{h_{22}}{\\beta} - \\frac{h_{32} v_{0}}{\\beta}\\right)^{2} & h_{32} h_{33} + \\left(\\frac{h_{12}}{\\alpha} - \\frac{h_{32} u_{0}}{\\alpha}\\right) \\left(\\frac{h_{13}}{\\alpha} - \\frac{h_{33} u_{0}}{\\alpha}\\right) + \\left(\\frac{h_{22}}{\\beta} - \\frac{h_{32} v_{0}}{\\beta}\\right) \\left(\\frac{h_{23}}{\\beta} - \\frac{h_{33} v_{0}}{\\beta}\\right)\\\\h_{31} h_{33} + \\left(\\frac{h_{11}}{\\alpha} - \\frac{h_{31} u_{0}}{\\alpha}\\right) \\left(\\frac{h_{13}}{\\alpha} - \\frac{h_{33} u_{0}}{\\alpha}\\right) + \\left(\\frac{h_{21}}{\\beta} - \\frac{h_{31} v_{0}}{\\beta}\\right) \\left(\\frac{h_{23}}{\\beta} - \\frac{h_{33} v_{0}}{\\beta}\\right) & h_{32} h_{33} + \\left(\\frac{h_{12}}{\\alpha} - \\frac{h_{32} u_{0}}{\\alpha}\\right) \\left(\\frac{h_{13}}{\\alpha} - \\frac{h_{33} u_{0}}{\\alpha}\\right) + \\left(\\frac{h_{22}}{\\beta} - \\frac{h_{32} v_{0}}{\\beta}\\right) \\left(\\frac{h_{23}}{\\beta} - \\frac{h_{33} v_{0}}{\\beta}\\right) & h_{33}^{2} + \\left(\\frac{h_{13}}{\\alpha} - \\frac{h_{33} u_{0}}{\\alpha}\\right)^{2} + \\left(\\frac{h_{23}}{\\beta} - \\frac{h_{33} v_{0}}{\\beta}\\right)^{2}\\end{matrix}\\right]$$"
      ],
      "text/plain": [
       "⎡                                    2                 2                      \n",
       "⎢                  2   ⎛h₁₁   h₃₁⋅u₀⎞    ⎛h₂₁   h₃₁⋅v₀⎞                       \n",
       "⎢               h₃₁  + ⎜─── - ──────⎟  + ⎜─── - ──────⎟                   h₃₁⋅\n",
       "⎢                      ⎝ α      α   ⎠    ⎝ β      β   ⎠                       \n",
       "⎢                                                                             \n",
       "⎢                                                                             \n",
       "⎢          ⎛h₁₁   h₃₁⋅u₀⎞ ⎛h₁₂   h₃₂⋅u₀⎞   ⎛h₂₁   h₃₁⋅v₀⎞ ⎛h₂₂   h₃₂⋅v₀⎞      \n",
       "⎢h₃₁⋅h₃₂ + ⎜─── - ──────⎟⋅⎜─── - ──────⎟ + ⎜─── - ──────⎟⋅⎜─── - ──────⎟      \n",
       "⎢          ⎝ α      α   ⎠ ⎝ α      α   ⎠   ⎝ β      β   ⎠ ⎝ β      β   ⎠      \n",
       "⎢                                                                             \n",
       "⎢                                                                             \n",
       "⎢          ⎛h₁₁   h₃₁⋅u₀⎞ ⎛h₁₃   h₃₃⋅u₀⎞   ⎛h₂₁   h₃₁⋅v₀⎞ ⎛h₂₃   h₃₃⋅v₀⎞      \n",
       "⎢h₃₁⋅h₃₃ + ⎜─── - ──────⎟⋅⎜─── - ──────⎟ + ⎜─── - ──────⎟⋅⎜─── - ──────⎟  h₃₂⋅\n",
       "⎣          ⎝ α      α   ⎠ ⎝ α      α   ⎠   ⎝ β      β   ⎠ ⎝ β      β   ⎠      \n",
       "\n",
       "                                                                              \n",
       "      ⎛h₁₁   h₃₁⋅u₀⎞ ⎛h₁₂   h₃₂⋅u₀⎞   ⎛h₂₁   h₃₁⋅v₀⎞ ⎛h₂₂   h₃₂⋅v₀⎞           \n",
       "h₃₂ + ⎜─── - ──────⎟⋅⎜─── - ──────⎟ + ⎜─── - ──────⎟⋅⎜─── - ──────⎟  h₃₁⋅h₃₃ +\n",
       "      ⎝ α      α   ⎠ ⎝ α      α   ⎠   ⎝ β      β   ⎠ ⎝ β      β   ⎠           \n",
       "                                                                              \n",
       "                                2                 2                           \n",
       "              2   ⎛h₁₂   h₃₂⋅u₀⎞    ⎛h₂₂   h₃₂⋅v₀⎞                            \n",
       "           h₃₂  + ⎜─── - ──────⎟  + ⎜─── - ──────⎟                   h₃₂⋅h₃₃ +\n",
       "                  ⎝ α      α   ⎠    ⎝ β      β   ⎠                            \n",
       "                                                                              \n",
       "                                                                              \n",
       "      ⎛h₁₂   h₃₂⋅u₀⎞ ⎛h₁₃   h₃₃⋅u₀⎞   ⎛h₂₂   h₃₂⋅v₀⎞ ⎛h₂₃   h₃₃⋅v₀⎞           \n",
       "h₃₃ + ⎜─── - ──────⎟⋅⎜─── - ──────⎟ + ⎜─── - ──────⎟⋅⎜─── - ──────⎟           \n",
       "      ⎝ α      α   ⎠ ⎝ α      α   ⎠   ⎝ β      β   ⎠ ⎝ β      β   ⎠           \n",
       "\n",
       "                                                              ⎤\n",
       " ⎛h₁₁   h₃₁⋅u₀⎞ ⎛h₁₃   h₃₃⋅u₀⎞   ⎛h₂₁   h₃₁⋅v₀⎞ ⎛h₂₃   h₃₃⋅v₀⎞⎥\n",
       " ⎜─── - ──────⎟⋅⎜─── - ──────⎟ + ⎜─── - ──────⎟⋅⎜─── - ──────⎟⎥\n",
       " ⎝ α      α   ⎠ ⎝ α      α   ⎠   ⎝ β      β   ⎠ ⎝ β      β   ⎠⎥\n",
       "                                                              ⎥\n",
       "                                                              ⎥\n",
       " ⎛h₁₂   h₃₂⋅u₀⎞ ⎛h₁₃   h₃₃⋅u₀⎞   ⎛h₂₂   h₃₂⋅v₀⎞ ⎛h₂₃   h₃₃⋅v₀⎞⎥\n",
       " ⎜─── - ──────⎟⋅⎜─── - ──────⎟ + ⎜─── - ──────⎟⋅⎜─── - ──────⎟⎥\n",
       " ⎝ α      α   ⎠ ⎝ α      α   ⎠   ⎝ β      β   ⎠ ⎝ β      β   ⎠⎥\n",
       "                                                              ⎥\n",
       "                           2                 2                ⎥\n",
       "         2   ⎛h₁₃   h₃₃⋅u₀⎞    ⎛h₂₃   h₃₃⋅v₀⎞                 ⎥\n",
       "      h₃₃  + ⎜─── - ──────⎟  + ⎜─── - ──────⎟                 ⎥\n",
       "             ⎝ α      α   ⎠    ⎝ β      β   ⎠                 ⎦"
      ]
     },
     "execution_count": 115,
     "metadata": {},
     "output_type": "execute_result"
    }
   ],
   "source": [
    "((K_s.inv()*H).T)*(K_s.inv()*H)"
   ]
  },
  {
   "cell_type": "code",
   "execution_count": 116,
   "metadata": {
    "collapsed": false
   },
   "outputs": [],
   "source": [
    "LHS_7=(H.T*K_s.inv().T)*(K_s.inv()*H)"
   ]
  },
  {
   "cell_type": "code",
   "execution_count": 117,
   "metadata": {
    "collapsed": false
   },
   "outputs": [
    {
     "data": {
      "text/latex": [
       "$$\\left[\\begin{matrix}h_{31}^{2} + \\left(\\frac{h_{11}}{\\alpha} - \\frac{h_{31} u_{0}}{\\alpha}\\right)^{2} + \\left(\\frac{h_{21}}{\\beta} - \\frac{h_{31} v_{0}}{\\beta}\\right)^{2} & h_{31} h_{32} + \\left(\\frac{h_{11}}{\\alpha} - \\frac{h_{31} u_{0}}{\\alpha}\\right) \\left(\\frac{h_{12}}{\\alpha} - \\frac{h_{32} u_{0}}{\\alpha}\\right) + \\left(\\frac{h_{21}}{\\beta} - \\frac{h_{31} v_{0}}{\\beta}\\right) \\left(\\frac{h_{22}}{\\beta} - \\frac{h_{32} v_{0}}{\\beta}\\right) & h_{31} h_{33} + \\left(\\frac{h_{11}}{\\alpha} - \\frac{h_{31} u_{0}}{\\alpha}\\right) \\left(\\frac{h_{13}}{\\alpha} - \\frac{h_{33} u_{0}}{\\alpha}\\right) + \\left(\\frac{h_{21}}{\\beta} - \\frac{h_{31} v_{0}}{\\beta}\\right) \\left(\\frac{h_{23}}{\\beta} - \\frac{h_{33} v_{0}}{\\beta}\\right)\\\\h_{31} h_{32} + \\left(\\frac{h_{11}}{\\alpha} - \\frac{h_{31} u_{0}}{\\alpha}\\right) \\left(\\frac{h_{12}}{\\alpha} - \\frac{h_{32} u_{0}}{\\alpha}\\right) + \\left(\\frac{h_{21}}{\\beta} - \\frac{h_{31} v_{0}}{\\beta}\\right) \\left(\\frac{h_{22}}{\\beta} - \\frac{h_{32} v_{0}}{\\beta}\\right) & h_{32}^{2} + \\left(\\frac{h_{12}}{\\alpha} - \\frac{h_{32} u_{0}}{\\alpha}\\right)^{2} + \\left(\\frac{h_{22}}{\\beta} - \\frac{h_{32} v_{0}}{\\beta}\\right)^{2} & h_{32} h_{33} + \\left(\\frac{h_{12}}{\\alpha} - \\frac{h_{32} u_{0}}{\\alpha}\\right) \\left(\\frac{h_{13}}{\\alpha} - \\frac{h_{33} u_{0}}{\\alpha}\\right) + \\left(\\frac{h_{22}}{\\beta} - \\frac{h_{32} v_{0}}{\\beta}\\right) \\left(\\frac{h_{23}}{\\beta} - \\frac{h_{33} v_{0}}{\\beta}\\right)\\\\h_{31} h_{33} + \\left(\\frac{h_{11}}{\\alpha} - \\frac{h_{31} u_{0}}{\\alpha}\\right) \\left(\\frac{h_{13}}{\\alpha} - \\frac{h_{33} u_{0}}{\\alpha}\\right) + \\left(\\frac{h_{21}}{\\beta} - \\frac{h_{31} v_{0}}{\\beta}\\right) \\left(\\frac{h_{23}}{\\beta} - \\frac{h_{33} v_{0}}{\\beta}\\right) & h_{32} h_{33} + \\left(\\frac{h_{12}}{\\alpha} - \\frac{h_{32} u_{0}}{\\alpha}\\right) \\left(\\frac{h_{13}}{\\alpha} - \\frac{h_{33} u_{0}}{\\alpha}\\right) + \\left(\\frac{h_{22}}{\\beta} - \\frac{h_{32} v_{0}}{\\beta}\\right) \\left(\\frac{h_{23}}{\\beta} - \\frac{h_{33} v_{0}}{\\beta}\\right) & h_{33}^{2} + \\left(\\frac{h_{13}}{\\alpha} - \\frac{h_{33} u_{0}}{\\alpha}\\right)^{2} + \\left(\\frac{h_{23}}{\\beta} - \\frac{h_{33} v_{0}}{\\beta}\\right)^{2}\\end{matrix}\\right]$$"
      ],
      "text/plain": [
       "⎡                                    2                 2                      \n",
       "⎢                  2   ⎛h₁₁   h₃₁⋅u₀⎞    ⎛h₂₁   h₃₁⋅v₀⎞                       \n",
       "⎢               h₃₁  + ⎜─── - ──────⎟  + ⎜─── - ──────⎟                   h₃₁⋅\n",
       "⎢                      ⎝ α      α   ⎠    ⎝ β      β   ⎠                       \n",
       "⎢                                                                             \n",
       "⎢                                                                             \n",
       "⎢          ⎛h₁₁   h₃₁⋅u₀⎞ ⎛h₁₂   h₃₂⋅u₀⎞   ⎛h₂₁   h₃₁⋅v₀⎞ ⎛h₂₂   h₃₂⋅v₀⎞      \n",
       "⎢h₃₁⋅h₃₂ + ⎜─── - ──────⎟⋅⎜─── - ──────⎟ + ⎜─── - ──────⎟⋅⎜─── - ──────⎟      \n",
       "⎢          ⎝ α      α   ⎠ ⎝ α      α   ⎠   ⎝ β      β   ⎠ ⎝ β      β   ⎠      \n",
       "⎢                                                                             \n",
       "⎢                                                                             \n",
       "⎢          ⎛h₁₁   h₃₁⋅u₀⎞ ⎛h₁₃   h₃₃⋅u₀⎞   ⎛h₂₁   h₃₁⋅v₀⎞ ⎛h₂₃   h₃₃⋅v₀⎞      \n",
       "⎢h₃₁⋅h₃₃ + ⎜─── - ──────⎟⋅⎜─── - ──────⎟ + ⎜─── - ──────⎟⋅⎜─── - ──────⎟  h₃₂⋅\n",
       "⎣          ⎝ α      α   ⎠ ⎝ α      α   ⎠   ⎝ β      β   ⎠ ⎝ β      β   ⎠      \n",
       "\n",
       "                                                                              \n",
       "      ⎛h₁₁   h₃₁⋅u₀⎞ ⎛h₁₂   h₃₂⋅u₀⎞   ⎛h₂₁   h₃₁⋅v₀⎞ ⎛h₂₂   h₃₂⋅v₀⎞           \n",
       "h₃₂ + ⎜─── - ──────⎟⋅⎜─── - ──────⎟ + ⎜─── - ──────⎟⋅⎜─── - ──────⎟  h₃₁⋅h₃₃ +\n",
       "      ⎝ α      α   ⎠ ⎝ α      α   ⎠   ⎝ β      β   ⎠ ⎝ β      β   ⎠           \n",
       "                                                                              \n",
       "                                2                 2                           \n",
       "              2   ⎛h₁₂   h₃₂⋅u₀⎞    ⎛h₂₂   h₃₂⋅v₀⎞                            \n",
       "           h₃₂  + ⎜─── - ──────⎟  + ⎜─── - ──────⎟                   h₃₂⋅h₃₃ +\n",
       "                  ⎝ α      α   ⎠    ⎝ β      β   ⎠                            \n",
       "                                                                              \n",
       "                                                                              \n",
       "      ⎛h₁₂   h₃₂⋅u₀⎞ ⎛h₁₃   h₃₃⋅u₀⎞   ⎛h₂₂   h₃₂⋅v₀⎞ ⎛h₂₃   h₃₃⋅v₀⎞           \n",
       "h₃₃ + ⎜─── - ──────⎟⋅⎜─── - ──────⎟ + ⎜─── - ──────⎟⋅⎜─── - ──────⎟           \n",
       "      ⎝ α      α   ⎠ ⎝ α      α   ⎠   ⎝ β      β   ⎠ ⎝ β      β   ⎠           \n",
       "\n",
       "                                                              ⎤\n",
       " ⎛h₁₁   h₃₁⋅u₀⎞ ⎛h₁₃   h₃₃⋅u₀⎞   ⎛h₂₁   h₃₁⋅v₀⎞ ⎛h₂₃   h₃₃⋅v₀⎞⎥\n",
       " ⎜─── - ──────⎟⋅⎜─── - ──────⎟ + ⎜─── - ──────⎟⋅⎜─── - ──────⎟⎥\n",
       " ⎝ α      α   ⎠ ⎝ α      α   ⎠   ⎝ β      β   ⎠ ⎝ β      β   ⎠⎥\n",
       "                                                              ⎥\n",
       "                                                              ⎥\n",
       " ⎛h₁₂   h₃₂⋅u₀⎞ ⎛h₁₃   h₃₃⋅u₀⎞   ⎛h₂₂   h₃₂⋅v₀⎞ ⎛h₂₃   h₃₃⋅v₀⎞⎥\n",
       " ⎜─── - ──────⎟⋅⎜─── - ──────⎟ + ⎜─── - ──────⎟⋅⎜─── - ──────⎟⎥\n",
       " ⎝ α      α   ⎠ ⎝ α      α   ⎠   ⎝ β      β   ⎠ ⎝ β      β   ⎠⎥\n",
       "                                                              ⎥\n",
       "                           2                 2                ⎥\n",
       "         2   ⎛h₁₃   h₃₃⋅u₀⎞    ⎛h₂₃   h₃₃⋅v₀⎞                 ⎥\n",
       "      h₃₃  + ⎜─── - ──────⎟  + ⎜─── - ──────⎟                 ⎥\n",
       "             ⎝ α      α   ⎠    ⎝ β      β   ⎠                 ⎦"
      ]
     },
     "execution_count": 117,
     "metadata": {},
     "output_type": "execute_result"
    }
   ],
   "source": [
    "LHS_7"
   ]
  },
  {
   "cell_type": "code",
   "execution_count": 118,
   "metadata": {
    "collapsed": false
   },
   "outputs": [
    {
     "data": {
      "text/latex": [
       "$$\\left[\\begin{matrix}h_{31}^{2} + \\left(\\frac{h_{11}}{\\alpha} - \\frac{h_{31} u_{0}}{\\alpha}\\right)^{2} + \\left(\\frac{h_{21}}{\\beta} - \\frac{h_{31} v_{0}}{\\beta}\\right)^{2} & h_{31} h_{32} + \\left(\\frac{h_{11}}{\\alpha} - \\frac{h_{31} u_{0}}{\\alpha}\\right) \\left(\\frac{h_{12}}{\\alpha} - \\frac{h_{32} u_{0}}{\\alpha}\\right) + \\left(\\frac{h_{21}}{\\beta} - \\frac{h_{31} v_{0}}{\\beta}\\right) \\left(\\frac{h_{22}}{\\beta} - \\frac{h_{32} v_{0}}{\\beta}\\right)\\\\h_{31} h_{32} + \\left(\\frac{h_{11}}{\\alpha} - \\frac{h_{31} u_{0}}{\\alpha}\\right) \\left(\\frac{h_{12}}{\\alpha} - \\frac{h_{32} u_{0}}{\\alpha}\\right) + \\left(\\frac{h_{21}}{\\beta} - \\frac{h_{31} v_{0}}{\\beta}\\right) \\left(\\frac{h_{22}}{\\beta} - \\frac{h_{32} v_{0}}{\\beta}\\right) & h_{32}^{2} + \\left(\\frac{h_{12}}{\\alpha} - \\frac{h_{32} u_{0}}{\\alpha}\\right)^{2} + \\left(\\frac{h_{22}}{\\beta} - \\frac{h_{32} v_{0}}{\\beta}\\right)^{2}\\end{matrix}\\right]$$"
      ],
      "text/plain": [
       "⎡                                    2                 2                      \n",
       "⎢                  2   ⎛h₁₁   h₃₁⋅u₀⎞    ⎛h₂₁   h₃₁⋅v₀⎞                       \n",
       "⎢               h₃₁  + ⎜─── - ──────⎟  + ⎜─── - ──────⎟                   h₃₁⋅\n",
       "⎢                      ⎝ α      α   ⎠    ⎝ β      β   ⎠                       \n",
       "⎢                                                                             \n",
       "⎢                                                                             \n",
       "⎢          ⎛h₁₁   h₃₁⋅u₀⎞ ⎛h₁₂   h₃₂⋅u₀⎞   ⎛h₂₁   h₃₁⋅v₀⎞ ⎛h₂₂   h₃₂⋅v₀⎞      \n",
       "⎢h₃₁⋅h₃₂ + ⎜─── - ──────⎟⋅⎜─── - ──────⎟ + ⎜─── - ──────⎟⋅⎜─── - ──────⎟      \n",
       "⎣          ⎝ α      α   ⎠ ⎝ α      α   ⎠   ⎝ β      β   ⎠ ⎝ β      β   ⎠      \n",
       "\n",
       "                                                                   ⎤\n",
       "      ⎛h₁₁   h₃₁⋅u₀⎞ ⎛h₁₂   h₃₂⋅u₀⎞   ⎛h₂₁   h₃₁⋅v₀⎞ ⎛h₂₂   h₃₂⋅v₀⎞⎥\n",
       "h₃₂ + ⎜─── - ──────⎟⋅⎜─── - ──────⎟ + ⎜─── - ──────⎟⋅⎜─── - ──────⎟⎥\n",
       "      ⎝ α      α   ⎠ ⎝ α      α   ⎠   ⎝ β      β   ⎠ ⎝ β      β   ⎠⎥\n",
       "                                                                   ⎥\n",
       "                                2                 2                ⎥\n",
       "              2   ⎛h₁₂   h₃₂⋅u₀⎞    ⎛h₂₂   h₃₂⋅v₀⎞                 ⎥\n",
       "           h₃₂  + ⎜─── - ──────⎟  + ⎜─── - ──────⎟                 ⎥\n",
       "                  ⎝ α      α   ⎠    ⎝ β      β   ⎠                 ⎦"
      ]
     },
     "execution_count": 118,
     "metadata": {},
     "output_type": "execute_result"
    }
   ],
   "source": [
    "LHS_7[0:2,0:2]"
   ]
  },
  {
   "cell_type": "code",
   "execution_count": 119,
   "metadata": {
    "collapsed": false
   },
   "outputs": [
    {
     "data": {
      "text/latex": [
       "$$\\left[\\begin{matrix}r_{11}^{2} + r_{21}^{2} & r_{11} r_{12} + r_{21} r_{22} & r_{11} t_{1} + r_{21} t_{2}\\\\r_{11} r_{12} + r_{21} r_{22} & r_{12}^{2} + r_{22}^{2} & r_{12} t_{1} + r_{22} t_{2}\\\\r_{11} t_{1} + r_{21} t_{2} & r_{12} t_{1} + r_{22} t_{2} & t_{1}^{2} + t_{2}^{2} + 1\\end{matrix}\\right]$$"
      ],
      "text/plain": [
       "⎡      2      2                                       ⎤\n",
       "⎢   r₁₁  + r₂₁      r₁₁⋅r₁₂ + r₂₁⋅r₂₂  r₁₁⋅t₁ + r₂₁⋅t₂⎥\n",
       "⎢                                                     ⎥\n",
       "⎢                         2      2                    ⎥\n",
       "⎢r₁₁⋅r₁₂ + r₂₁⋅r₂₂     r₁₂  + r₂₂      r₁₂⋅t₁ + r₂₂⋅t₂⎥\n",
       "⎢                                                     ⎥\n",
       "⎢                                         2     2     ⎥\n",
       "⎣ r₁₁⋅t₁ + r₂₁⋅t₂    r₁₂⋅t₁ + r₂₂⋅t₂    t₁  + t₂  + 1 ⎦"
      ]
     },
     "execution_count": 119,
     "metadata": {},
     "output_type": "execute_result"
    }
   ],
   "source": [
    "E_s.T*E_s"
   ]
  },
  {
   "cell_type": "code",
   "execution_count": 120,
   "metadata": {
    "collapsed": false
   },
   "outputs": [
    {
     "data": {
      "text/latex": [
       "$$\\left[\\begin{matrix}r_{11} & r_{12}\\\\r_{21} & r_{22}\\end{matrix}\\right]$$"
      ],
      "text/plain": [
       "⎡r₁₁  r₁₂⎤\n",
       "⎢        ⎥\n",
       "⎣r₂₁  r₂₂⎦"
      ]
     },
     "execution_count": 120,
     "metadata": {},
     "output_type": "execute_result"
    }
   ],
   "source": [
    "R_s=Matrix([[r11, r12],[r21, r22]])\n",
    "R_s"
   ]
  },
  {
   "cell_type": "code",
   "execution_count": 121,
   "metadata": {
    "collapsed": false
   },
   "outputs": [
    {
     "data": {
      "text/latex": [
       "$$\\left[\\begin{matrix}t_{1}\\\\t_{2}\\end{matrix}\\right]$$"
      ],
      "text/plain": [
       "⎡t₁⎤\n",
       "⎢  ⎥\n",
       "⎣t₂⎦"
      ]
     },
     "execution_count": 121,
     "metadata": {},
     "output_type": "execute_result"
    }
   ],
   "source": [
    "T_s=Matrix([[t_1],[t_2]])\n",
    "T_s\n",
    "            "
   ]
  },
  {
   "cell_type": "code",
   "execution_count": 122,
   "metadata": {
    "collapsed": false
   },
   "outputs": [
    {
     "data": {
      "text/latex": [
       "$$\\left[\\begin{matrix}\\alpha r_{11} & \\alpha r_{12} & \\alpha t_{1} + u_{0}\\\\\\beta r_{21} & \\beta r_{22} & \\beta t_{2} + v_{0}\\\\0 & 0 & 1\\end{matrix}\\right]$$"
      ],
      "text/plain": [
       "⎡α⋅r₁₁  α⋅r₁₂  α⋅t₁ + u₀⎤\n",
       "⎢                       ⎥\n",
       "⎢β⋅r₂₁  β⋅r₂₂  β⋅t₂ + v₀⎥\n",
       "⎢                       ⎥\n",
       "⎣  0      0        1    ⎦"
      ]
     },
     "execution_count": 122,
     "metadata": {},
     "output_type": "execute_result"
    }
   ],
   "source": [
    "K_s*E_s"
   ]
  },
  {
   "cell_type": "code",
   "execution_count": 123,
   "metadata": {
    "collapsed": false
   },
   "outputs": [
    {
     "data": {
      "text/latex": [
       "$$\\left[\\begin{matrix}r_{11}^{2} + r_{21}^{2} & r_{11} r_{12} + r_{21} r_{22}\\\\r_{11} r_{12} + r_{21} r_{22} & r_{12}^{2} + r_{22}^{2}\\end{matrix}\\right]$$"
      ],
      "text/plain": [
       "⎡      2      2                      ⎤\n",
       "⎢   r₁₁  + r₂₁      r₁₁⋅r₁₂ + r₂₁⋅r₂₂⎥\n",
       "⎢                                    ⎥\n",
       "⎢                         2      2   ⎥\n",
       "⎣r₁₁⋅r₁₂ + r₂₁⋅r₂₂     r₁₂  + r₂₂    ⎦"
      ]
     },
     "execution_count": 123,
     "metadata": {},
     "output_type": "execute_result"
    }
   ],
   "source": [
    "R_s.T*R_s"
   ]
  },
  {
   "cell_type": "code",
   "execution_count": 124,
   "metadata": {
    "collapsed": false
   },
   "outputs": [
    {
     "data": {
      "text/latex": [
       "$$\\left[\\begin{matrix}r_{11} t_{1} + r_{21} t_{2}\\\\r_{12} t_{1} + r_{22} t_{2}\\end{matrix}\\right]$$"
      ],
      "text/plain": [
       "⎡r₁₁⋅t₁ + r₂₁⋅t₂⎤\n",
       "⎢               ⎥\n",
       "⎣r₁₂⋅t₁ + r₂₂⋅t₂⎦"
      ]
     },
     "execution_count": 124,
     "metadata": {},
     "output_type": "execute_result"
    }
   ],
   "source": [
    "R_s.T*T_s"
   ]
  },
  {
   "cell_type": "code",
   "execution_count": 125,
   "metadata": {
    "collapsed": false
   },
   "outputs": [
    {
     "data": {
      "text/latex": [
       "$$\\left[\\begin{matrix}r_{11} t_{1} + r_{21} t_{2} & r_{12} t_{1} + r_{22} t_{2}\\end{matrix}\\right]$$"
      ],
      "text/plain": [
       "[r₁₁⋅t₁ + r₂₁⋅t₂  r₁₂⋅t₁ + r₂₂⋅t₂]"
      ]
     },
     "execution_count": 125,
     "metadata": {},
     "output_type": "execute_result"
    }
   ],
   "source": [
    "T_s.T*R_s"
   ]
  },
  {
   "cell_type": "code",
   "execution_count": 126,
   "metadata": {
    "collapsed": false
   },
   "outputs": [
    {
     "data": {
      "text/latex": [
       "$$\\left[\\begin{matrix}t_{1}^{2} + t_{2}^{2}\\end{matrix}\\right]$$"
      ],
      "text/plain": [
       "⎡  2     2⎤\n",
       "⎣t₁  + t₂ ⎦"
      ]
     },
     "execution_count": 126,
     "metadata": {},
     "output_type": "execute_result"
    }
   ],
   "source": [
    "T_s.T*T_s"
   ]
  },
  {
   "cell_type": "code",
   "execution_count": 127,
   "metadata": {
    "collapsed": false
   },
   "outputs": [
    {
     "data": {
      "text/latex": [
       "$$\\left[\\begin{matrix}1 & 0\\\\0 & 1\\end{matrix}\\right]$$"
      ],
      "text/plain": [
       "⎡1  0⎤\n",
       "⎢    ⎥\n",
       "⎣0  1⎦"
      ]
     },
     "execution_count": 127,
     "metadata": {},
     "output_type": "execute_result"
    }
   ],
   "source": [
    "I_2=Matrix([[1,0],[0,1]])\n",
    "I_2"
   ]
  },
  {
   "cell_type": "code",
   "execution_count": 128,
   "metadata": {
    "collapsed": false
   },
   "outputs": [
    {
     "data": {
      "text/latex": [
       "$$r_{11}^{2} r_{22}^{2} - r_{11}^{2} - 2 r_{11} r_{12} r_{21} r_{22} + r_{12}^{2} r_{21}^{2} - r_{12}^{2} - r_{21}^{2} - r_{22}^{2} + 1$$"
      ],
      "text/plain": [
       "   2    2      2                          2    2      2      2      2    \n",
       "r₁₁ ⋅r₂₂  - r₁₁  - 2⋅r₁₁⋅r₁₂⋅r₂₁⋅r₂₂ + r₁₂ ⋅r₂₁  - r₁₂  - r₂₁  - r₂₂  + 1"
      ]
     },
     "execution_count": 128,
     "metadata": {},
     "output_type": "execute_result"
    }
   ],
   "source": [
    "(R_s.T*R_s-I_2).det()"
   ]
  },
  {
   "cell_type": "code",
   "execution_count": 129,
   "metadata": {
    "collapsed": false
   },
   "outputs": [
    {
     "data": {
      "text/latex": [
       "$$- h_{31}^{2} - h_{32}^{2} + 1 + \\frac{1}{\\alpha^{2} \\beta^{2}} \\left(\\alpha^{2} h_{21}^{2} h_{32}^{2} - \\alpha^{2} h_{21}^{2} - 2 \\alpha^{2} h_{21} h_{22} h_{31} h_{32} + 2 \\alpha^{2} h_{21} h_{31} v_{0} + \\alpha^{2} h_{22}^{2} h_{31}^{2} - \\alpha^{2} h_{22}^{2} + 2 \\alpha^{2} h_{22} h_{32} v_{0} - \\alpha^{2} h_{31}^{2} v_{0}^{2} - \\alpha^{2} h_{32}^{2} v_{0}^{2} + \\beta^{2} h_{11}^{2} h_{32}^{2} - \\beta^{2} h_{11}^{2} - 2 \\beta^{2} h_{11} h_{12} h_{31} h_{32} + 2 \\beta^{2} h_{11} h_{31} u_{0} + \\beta^{2} h_{12}^{2} h_{31}^{2} - \\beta^{2} h_{12}^{2} + 2 \\beta^{2} h_{12} h_{32} u_{0} - \\beta^{2} h_{31}^{2} u_{0}^{2} - \\beta^{2} h_{32}^{2} u_{0}^{2} + h_{11}^{2} h_{22}^{2} - 2 h_{11}^{2} h_{22} h_{32} v_{0} + h_{11}^{2} h_{32}^{2} v_{0}^{2} - 2 h_{11} h_{12} h_{21} h_{22} + 2 h_{11} h_{12} h_{21} h_{32} v_{0} + 2 h_{11} h_{12} h_{22} h_{31} v_{0} - 2 h_{11} h_{12} h_{31} h_{32} v_{0}^{2} + 2 h_{11} h_{21} h_{22} h_{32} u_{0} - 2 h_{11} h_{21} h_{32}^{2} u_{0} v_{0} - 2 h_{11} h_{22}^{2} h_{31} u_{0} + 2 h_{11} h_{22} h_{31} h_{32} u_{0} v_{0} + h_{12}^{2} h_{21}^{2} - 2 h_{12}^{2} h_{21} h_{31} v_{0} + h_{12}^{2} h_{31}^{2} v_{0}^{2} - 2 h_{12} h_{21}^{2} h_{32} u_{0} + 2 h_{12} h_{21} h_{22} h_{31} u_{0} + 2 h_{12} h_{21} h_{31} h_{32} u_{0} v_{0} - 2 h_{12} h_{22} h_{31}^{2} u_{0} v_{0} + h_{21}^{2} h_{32}^{2} u_{0}^{2} - 2 h_{21} h_{22} h_{31} h_{32} u_{0}^{2} + h_{22}^{2} h_{31}^{2} u_{0}^{2}\\right)$$"
      ],
      "text/plain": [
       "                     2    2    2    2    2      2                      2      \n",
       "     2      2       α ⋅h₂₁ ⋅h₃₂  - α ⋅h₂₁  - 2⋅α ⋅h₂₁⋅h₂₂⋅h₃₁⋅h₃₂ + 2⋅α ⋅h₂₁⋅h\n",
       "- h₃₁  - h₃₂  + 1 + ──────────────────────────────────────────────────────────\n",
       "                                                                              \n",
       "                                                                              \n",
       "\n",
       "         2    2    2    2    2      2               2    2   2    2    2   2  \n",
       "₃₁⋅v₀ + α ⋅h₂₂ ⋅h₃₁  - α ⋅h₂₂  + 2⋅α ⋅h₂₂⋅h₃₂⋅v₀ - α ⋅h₃₁ ⋅v₀  - α ⋅h₃₂ ⋅v₀  +\n",
       "──────────────────────────────────────────────────────────────────────────────\n",
       "                                                                              \n",
       "                                                                              \n",
       "\n",
       "  2    2    2    2    2      2                      2               2    2    \n",
       " β ⋅h₁₁ ⋅h₃₂  - β ⋅h₁₁  - 2⋅β ⋅h₁₁⋅h₁₂⋅h₃₁⋅h₃₂ + 2⋅β ⋅h₁₁⋅h₃₁⋅u₀ + β ⋅h₁₂ ⋅h₃₁\n",
       "──────────────────────────────────────────────────────────────────────────────\n",
       "                                                                              \n",
       "                                                                              \n",
       "\n",
       "2    2    2      2               2    2   2    2    2   2      2    2        2\n",
       "  - β ⋅h₁₂  + 2⋅β ⋅h₁₂⋅h₃₂⋅u₀ - β ⋅h₃₁ ⋅u₀  - β ⋅h₃₂ ⋅u₀  + h₁₁ ⋅h₂₂  - 2⋅h₁₁ \n",
       "──────────────────────────────────────────────────────────────────────────────\n",
       "                                                                              \n",
       "                                                                              \n",
       "\n",
       "                 2    2   2                                                   \n",
       "⋅h₂₂⋅h₃₂⋅v₀ + h₁₁ ⋅h₃₂ ⋅v₀  - 2⋅h₁₁⋅h₁₂⋅h₂₁⋅h₂₂ + 2⋅h₁₁⋅h₁₂⋅h₂₁⋅h₃₂⋅v₀ + 2⋅h₁₁\n",
       "──────────────────────────────────────────────────────────────────────────────\n",
       "                                                       2  2                   \n",
       "                                                      α ⋅β                    \n",
       "\n",
       "                                      2                                       \n",
       "⋅h₁₂⋅h₂₂⋅h₃₁⋅v₀ - 2⋅h₁₁⋅h₁₂⋅h₃₁⋅h₃₂⋅v₀  + 2⋅h₁₁⋅h₂₁⋅h₂₂⋅h₃₂⋅u₀ - 2⋅h₁₁⋅h₂₁⋅h₃₂\n",
       "──────────────────────────────────────────────────────────────────────────────\n",
       "                                                                              \n",
       "                                                                              \n",
       "\n",
       "2                  2                                       2    2        2    \n",
       " ⋅u₀⋅v₀ - 2⋅h₁₁⋅h₂₂ ⋅h₃₁⋅u₀ + 2⋅h₁₁⋅h₂₂⋅h₃₁⋅h₃₂⋅u₀⋅v₀ + h₁₂ ⋅h₂₁  - 2⋅h₁₂ ⋅h₂₁\n",
       "──────────────────────────────────────────────────────────────────────────────\n",
       "                                                                              \n",
       "                                                                              \n",
       "\n",
       "             2    2   2            2                                          \n",
       "⋅h₃₁⋅v₀ + h₁₂ ⋅h₃₁ ⋅v₀  - 2⋅h₁₂⋅h₂₁ ⋅h₃₂⋅u₀ + 2⋅h₁₂⋅h₂₁⋅h₂₂⋅h₃₁⋅u₀ + 2⋅h₁₂⋅h₂₁\n",
       "──────────────────────────────────────────────────────────────────────────────\n",
       "                                                                              \n",
       "                                                                              \n",
       "\n",
       "                              2            2    2   2                       2 \n",
       "⋅h₃₁⋅h₃₂⋅u₀⋅v₀ - 2⋅h₁₂⋅h₂₂⋅h₃₁ ⋅u₀⋅v₀ + h₂₁ ⋅h₃₂ ⋅u₀  - 2⋅h₂₁⋅h₂₂⋅h₃₁⋅h₃₂⋅u₀  \n",
       "──────────────────────────────────────────────────────────────────────────────\n",
       "                                                                              \n",
       "                                                                              \n",
       "\n",
       "     2    2   2\n",
       "+ h₂₂ ⋅h₃₁ ⋅u₀ \n",
       "───────────────\n",
       "               \n",
       "               "
      ]
     },
     "execution_count": 129,
     "metadata": {},
     "output_type": "execute_result"
    }
   ],
   "source": [
    "formula_8 = ratsimp(det(LHS_7[0:2,0:2]-I_2))\n",
    "formula_8"
   ]
  },
  {
   "cell_type": "code",
   "execution_count": 130,
   "metadata": {
    "collapsed": false
   },
   "outputs": [
    {
     "data": {
      "text/latex": [
       "$$\\alpha^{2} h_{21}^{2} h_{32}^{2} - \\alpha^{2} h_{21}^{2} - 2 \\alpha^{2} h_{21} h_{22} h_{31} h_{32} + 2 \\alpha^{2} h_{21} h_{31} v_{0} + \\alpha^{2} h_{22}^{2} h_{31}^{2} - \\alpha^{2} h_{22}^{2} + 2 \\alpha^{2} h_{22} h_{32} v_{0} - \\alpha^{2} h_{31}^{2} v_{0}^{2} - \\alpha^{2} h_{32}^{2} v_{0}^{2} + \\beta^{2} h_{11}^{2} h_{32}^{2} - \\beta^{2} h_{11}^{2} - 2 \\beta^{2} h_{11} h_{12} h_{31} h_{32} + 2 \\beta^{2} h_{11} h_{31} u_{0} + \\beta^{2} h_{12}^{2} h_{31}^{2} - \\beta^{2} h_{12}^{2} + 2 \\beta^{2} h_{12} h_{32} u_{0} - \\beta^{2} h_{31}^{2} u_{0}^{2} - \\beta^{2} h_{32}^{2} u_{0}^{2} + h_{11}^{2} h_{22}^{2} - 2 h_{11}^{2} h_{22} h_{32} v_{0} + h_{11}^{2} h_{32}^{2} v_{0}^{2} - 2 h_{11} h_{12} h_{21} h_{22} + 2 h_{11} h_{12} h_{21} h_{32} v_{0} + 2 h_{11} h_{12} h_{22} h_{31} v_{0} - 2 h_{11} h_{12} h_{31} h_{32} v_{0}^{2} + 2 h_{11} h_{21} h_{22} h_{32} u_{0} - 2 h_{11} h_{21} h_{32}^{2} u_{0} v_{0} - 2 h_{11} h_{22}^{2} h_{31} u_{0} + 2 h_{11} h_{22} h_{31} h_{32} u_{0} v_{0} + h_{12}^{2} h_{21}^{2} - 2 h_{12}^{2} h_{21} h_{31} v_{0} + h_{12}^{2} h_{31}^{2} v_{0}^{2} - 2 h_{12} h_{21}^{2} h_{32} u_{0} + 2 h_{12} h_{21} h_{22} h_{31} u_{0} + 2 h_{12} h_{21} h_{31} h_{32} u_{0} v_{0} - 2 h_{12} h_{22} h_{31}^{2} u_{0} v_{0} + h_{21}^{2} h_{32}^{2} u_{0}^{2} - 2 h_{21} h_{22} h_{31} h_{32} u_{0}^{2} + h_{22}^{2} h_{31}^{2} u_{0}^{2}$$"
      ],
      "text/plain": [
       " 2    2    2    2    2      2                      2               2    2    2\n",
       "α ⋅h₂₁ ⋅h₃₂  - α ⋅h₂₁  - 2⋅α ⋅h₂₁⋅h₂₂⋅h₃₁⋅h₃₂ + 2⋅α ⋅h₂₁⋅h₃₁⋅v₀ + α ⋅h₂₂ ⋅h₃₁ \n",
       "\n",
       "    2    2      2               2    2   2    2    2   2    2    2    2    2  \n",
       " - α ⋅h₂₂  + 2⋅α ⋅h₂₂⋅h₃₂⋅v₀ - α ⋅h₃₁ ⋅v₀  - α ⋅h₃₂ ⋅v₀  + β ⋅h₁₁ ⋅h₃₂  - β ⋅h\n",
       "\n",
       "  2      2                      2               2    2    2    2    2      2  \n",
       "₁₁  - 2⋅β ⋅h₁₁⋅h₁₂⋅h₃₁⋅h₃₂ + 2⋅β ⋅h₁₁⋅h₃₁⋅u₀ + β ⋅h₁₂ ⋅h₃₁  - β ⋅h₁₂  + 2⋅β ⋅h\n",
       "\n",
       "             2    2   2    2    2   2      2    2        2                 2  \n",
       "₁₂⋅h₃₂⋅u₀ - β ⋅h₃₁ ⋅u₀  - β ⋅h₃₂ ⋅u₀  + h₁₁ ⋅h₂₂  - 2⋅h₁₁ ⋅h₂₂⋅h₃₂⋅v₀ + h₁₁ ⋅h\n",
       "\n",
       "  2   2                                                                       \n",
       "₃₂ ⋅v₀  - 2⋅h₁₁⋅h₁₂⋅h₂₁⋅h₂₂ + 2⋅h₁₁⋅h₁₂⋅h₂₁⋅h₃₂⋅v₀ + 2⋅h₁₁⋅h₁₂⋅h₂₂⋅h₃₁⋅v₀ - 2⋅\n",
       "\n",
       "                  2                                       2                  2\n",
       "h₁₁⋅h₁₂⋅h₃₁⋅h₃₂⋅v₀  + 2⋅h₁₁⋅h₂₁⋅h₂₂⋅h₃₂⋅u₀ - 2⋅h₁₁⋅h₂₁⋅h₃₂ ⋅u₀⋅v₀ - 2⋅h₁₁⋅h₂₂ \n",
       "\n",
       "                                       2    2        2                 2    2 \n",
       "⋅h₃₁⋅u₀ + 2⋅h₁₁⋅h₂₂⋅h₃₁⋅h₃₂⋅u₀⋅v₀ + h₁₂ ⋅h₂₁  - 2⋅h₁₂ ⋅h₂₁⋅h₃₁⋅v₀ + h₁₂ ⋅h₃₁ ⋅\n",
       "\n",
       "  2            2                                                              \n",
       "v₀  - 2⋅h₁₂⋅h₂₁ ⋅h₃₂⋅u₀ + 2⋅h₁₂⋅h₂₁⋅h₂₂⋅h₃₁⋅u₀ + 2⋅h₁₂⋅h₂₁⋅h₃₁⋅h₃₂⋅u₀⋅v₀ - 2⋅h\n",
       "\n",
       "          2            2    2   2                       2      2    2   2\n",
       "₁₂⋅h₂₂⋅h₃₁ ⋅u₀⋅v₀ + h₂₁ ⋅h₃₂ ⋅u₀  - 2⋅h₂₁⋅h₂₂⋅h₃₁⋅h₃₂⋅u₀  + h₂₂ ⋅h₃₁ ⋅u₀ "
      ]
     },
     "execution_count": 130,
     "metadata": {},
     "output_type": "execute_result"
    }
   ],
   "source": [
    "expr=alpha**2*beta**2*(formula_8+h31**2+h32**2-1)\n",
    "expr"
   ]
  },
  {
   "cell_type": "code",
   "execution_count": 131,
   "metadata": {
    "collapsed": false
   },
   "outputs": [
    {
     "data": {
      "text/latex": [
       "$$\\alpha^{2} v_{0}^{2} \\left(- h_{31}^{2} - h_{32}^{2}\\right) + \\alpha^{2} v_{0} \\left(2 h_{21} h_{31} + 2 h_{22} h_{32}\\right) + \\alpha^{2} \\left(h_{21}^{2} h_{32}^{2} - h_{21}^{2} - 2 h_{21} h_{22} h_{31} h_{32} + h_{22}^{2} h_{31}^{2} - h_{22}^{2}\\right) + \\beta^{2} u_{0}^{2} \\left(- h_{31}^{2} - h_{32}^{2}\\right) + \\beta^{2} u_{0} \\left(2 h_{11} h_{31} + 2 h_{12} h_{32}\\right) + \\beta^{2} \\left(h_{11}^{2} h_{32}^{2} - h_{11}^{2} - 2 h_{11} h_{12} h_{31} h_{32} + h_{12}^{2} h_{31}^{2} - h_{12}^{2}\\right) + h_{11}^{2} h_{22}^{2} - 2 h_{11} h_{12} h_{21} h_{22} + h_{12}^{2} h_{21}^{2} + u_{0}^{2} \\left(h_{21}^{2} h_{32}^{2} - 2 h_{21} h_{22} h_{31} h_{32} + h_{22}^{2} h_{31}^{2}\\right) + u_{0} \\left(2 h_{11} h_{21} h_{22} h_{32} - 2 h_{11} h_{21} h_{32}^{2} v_{0} - 2 h_{11} h_{22}^{2} h_{31} + 2 h_{11} h_{22} h_{31} h_{32} v_{0} - 2 h_{12} h_{21}^{2} h_{32} + 2 h_{12} h_{21} h_{22} h_{31} + 2 h_{12} h_{21} h_{31} h_{32} v_{0} - 2 h_{12} h_{22} h_{31}^{2} v_{0}\\right) + v_{0}^{2} \\left(h_{11}^{2} h_{32}^{2} - 2 h_{11} h_{12} h_{31} h_{32} + h_{12}^{2} h_{31}^{2}\\right) + v_{0} \\left(- 2 h_{11}^{2} h_{22} h_{32} + 2 h_{11} h_{12} h_{21} h_{32} + 2 h_{11} h_{12} h_{22} h_{31} - 2 h_{12}^{2} h_{21} h_{31}\\right)$$"
      ],
      "text/plain": [
       " 2   2 ⎛     2      2⎞    2                               2 ⎛   2    2      2 \n",
       "α ⋅v₀ ⋅⎝- h₃₁  - h₃₂ ⎠ + α ⋅v₀⋅(2⋅h₂₁⋅h₃₁ + 2⋅h₂₂⋅h₃₂) + α ⋅⎝h₂₁ ⋅h₃₂  - h₂₁  \n",
       "\n",
       "                         2    2      2⎞    2   2 ⎛     2      2⎞    2         \n",
       "- 2⋅h₂₁⋅h₂₂⋅h₃₁⋅h₃₂ + h₂₂ ⋅h₃₁  - h₂₂ ⎠ + β ⋅u₀ ⋅⎝- h₃₁  - h₃₂ ⎠ + β ⋅u₀⋅(2⋅h₁\n",
       "\n",
       "                      2 ⎛   2    2      2                          2    2     \n",
       "₁⋅h₃₁ + 2⋅h₁₂⋅h₃₂) + β ⋅⎝h₁₁ ⋅h₃₂  - h₁₁  - 2⋅h₁₁⋅h₁₂⋅h₃₁⋅h₃₂ + h₁₂ ⋅h₃₁  - h₁\n",
       "\n",
       " 2⎞      2    2                          2    2     2 ⎛   2    2              \n",
       "₂ ⎠ + h₁₁ ⋅h₂₂  - 2⋅h₁₁⋅h₁₂⋅h₂₁⋅h₂₂ + h₁₂ ⋅h₂₁  + u₀ ⋅⎝h₂₁ ⋅h₃₂  - 2⋅h₂₁⋅h₂₂⋅h\n",
       "\n",
       "            2    2⎞      ⎛                                 2               2  \n",
       "₃₁⋅h₃₂ + h₂₂ ⋅h₃₁ ⎠ + u₀⋅⎝2⋅h₁₁⋅h₂₁⋅h₂₂⋅h₃₂ - 2⋅h₁₁⋅h₂₁⋅h₃₂ ⋅v₀ - 2⋅h₁₁⋅h₂₂ ⋅h\n",
       "\n",
       "                                     2                                        \n",
       "₃₁ + 2⋅h₁₁⋅h₂₂⋅h₃₁⋅h₃₂⋅v₀ - 2⋅h₁₂⋅h₂₁ ⋅h₃₂ + 2⋅h₁₂⋅h₂₁⋅h₂₂⋅h₃₁ + 2⋅h₁₂⋅h₂₁⋅h₃₁\n",
       "\n",
       "                       2   ⎞     2 ⎛   2    2                          2    2⎞\n",
       "⋅h₃₂⋅v₀ - 2⋅h₁₂⋅h₂₂⋅h₃₁ ⋅v₀⎠ + v₀ ⋅⎝h₁₁ ⋅h₃₂  - 2⋅h₁₁⋅h₁₂⋅h₃₁⋅h₃₂ + h₁₂ ⋅h₃₁ ⎠\n",
       "\n",
       "      ⎛       2                                                        2      \n",
       " + v₀⋅⎝- 2⋅h₁₁ ⋅h₂₂⋅h₃₂ + 2⋅h₁₁⋅h₁₂⋅h₂₁⋅h₃₂ + 2⋅h₁₁⋅h₁₂⋅h₂₂⋅h₃₁ - 2⋅h₁₂ ⋅h₂₁⋅h\n",
       "\n",
       "  ⎞\n",
       "₃₁⎠"
      ]
     },
     "execution_count": 131,
     "metadata": {},
     "output_type": "execute_result"
    }
   ],
   "source": [
    "collect(expr,[alpha**2*v_0**2,alpha**2*v_0,alpha**2,beta**2*u_0**2,beta**2*u_0,beta**2,u_0**2,v_0**2,u_0,v_0])"
   ]
  },
  {
   "cell_type": "code",
   "execution_count": 132,
   "metadata": {
    "collapsed": false
   },
   "outputs": [
    {
     "data": {
      "text/latex": [
       "$$- h_{31}^{2} - h_{32}^{2}$$"
      ],
      "text/plain": [
       "     2      2\n",
       "- h₃₁  - h₃₂ "
      ]
     },
     "execution_count": 132,
     "metadata": {},
     "output_type": "execute_result"
    }
   ],
   "source": [
    "(expr.coeff(alpha**2*v_0**2))"
   ]
  },
  {
   "cell_type": "code",
   "execution_count": 133,
   "metadata": {
    "collapsed": false
   },
   "outputs": [
    {
     "data": {
      "text/latex": [
       "$$2 h_{21} h_{31} + 2 h_{22} h_{32}$$"
      ],
      "text/plain": [
       "2⋅h₂₁⋅h₃₁ + 2⋅h₂₂⋅h₃₂"
      ]
     },
     "execution_count": 133,
     "metadata": {},
     "output_type": "execute_result"
    }
   ],
   "source": [
    "(expr.coeff(alpha**2*v_0))"
   ]
  },
  {
   "cell_type": "code",
   "execution_count": 134,
   "metadata": {
    "collapsed": false
   },
   "outputs": [
    {
     "data": {
      "text/latex": [
       "$$h_{21}^{2} h_{32}^{2} - h_{21}^{2} - 2 h_{21} h_{22} h_{31} h_{32} + 2 h_{21} h_{31} v_{0} + h_{22}^{2} h_{31}^{2} - h_{22}^{2} + 2 h_{22} h_{32} v_{0} - h_{31}^{2} v_{0}^{2} - h_{32}^{2} v_{0}^{2}$$"
      ],
      "text/plain": [
       "   2    2      2                                         2    2      2        \n",
       "h₂₁ ⋅h₃₂  - h₂₁  - 2⋅h₂₁⋅h₂₂⋅h₃₁⋅h₃₂ + 2⋅h₂₁⋅h₃₁⋅v₀ + h₂₂ ⋅h₃₁  - h₂₂  + 2⋅h₂₂\n",
       "\n",
       "             2   2      2   2\n",
       "⋅h₃₂⋅v₀ - h₃₁ ⋅v₀  - h₃₂ ⋅v₀ "
      ]
     },
     "execution_count": 134,
     "metadata": {},
     "output_type": "execute_result"
    }
   ],
   "source": [
    "(expr.coeff(alpha**2))"
   ]
  },
  {
   "cell_type": "code",
   "execution_count": 135,
   "metadata": {
    "collapsed": false
   },
   "outputs": [
    {
     "data": {
      "text/latex": [
       "$$- h_{31}^{2} - h_{32}^{2}$$"
      ],
      "text/plain": [
       "     2      2\n",
       "- h₃₁  - h₃₂ "
      ]
     },
     "execution_count": 135,
     "metadata": {},
     "output_type": "execute_result"
    }
   ],
   "source": [
    "(expr.coeff(beta**2*u_0**2))"
   ]
  },
  {
   "cell_type": "code",
   "execution_count": 136,
   "metadata": {
    "collapsed": false
   },
   "outputs": [
    {
     "data": {
      "text/latex": [
       "$$2 h_{11} h_{31} + 2 h_{12} h_{32}$$"
      ],
      "text/plain": [
       "2⋅h₁₁⋅h₃₁ + 2⋅h₁₂⋅h₃₂"
      ]
     },
     "execution_count": 136,
     "metadata": {},
     "output_type": "execute_result"
    }
   ],
   "source": [
    "(expr.coeff(beta**2*u_0))"
   ]
  },
  {
   "cell_type": "code",
   "execution_count": 137,
   "metadata": {
    "collapsed": false
   },
   "outputs": [
    {
     "data": {
      "text/latex": [
       "$$h_{11}^{2} h_{32}^{2} - h_{11}^{2} - 2 h_{11} h_{12} h_{31} h_{32} + 2 h_{11} h_{31} u_{0} + h_{12}^{2} h_{31}^{2} - h_{12}^{2} + 2 h_{12} h_{32} u_{0} - h_{31}^{2} u_{0}^{2} - h_{32}^{2} u_{0}^{2}$$"
      ],
      "text/plain": [
       "   2    2      2                                         2    2      2        \n",
       "h₁₁ ⋅h₃₂  - h₁₁  - 2⋅h₁₁⋅h₁₂⋅h₃₁⋅h₃₂ + 2⋅h₁₁⋅h₃₁⋅u₀ + h₁₂ ⋅h₃₁  - h₁₂  + 2⋅h₁₂\n",
       "\n",
       "             2   2      2   2\n",
       "⋅h₃₂⋅u₀ - h₃₁ ⋅u₀  - h₃₂ ⋅u₀ "
      ]
     },
     "execution_count": 137,
     "metadata": {},
     "output_type": "execute_result"
    }
   ],
   "source": [
    "(expr.coeff(beta**2))"
   ]
  },
  {
   "cell_type": "code",
   "execution_count": 138,
   "metadata": {
    "collapsed": false
   },
   "outputs": [
    {
     "data": {
      "text/latex": [
       "$$- \\beta^{2} h_{31}^{2} - \\beta^{2} h_{32}^{2} + h_{21}^{2} h_{32}^{2} - 2 h_{21} h_{22} h_{31} h_{32} + h_{22}^{2} h_{31}^{2}$$"
      ],
      "text/plain": [
       "   2    2    2    2      2    2                          2    2\n",
       "- β ⋅h₃₁  - β ⋅h₃₂  + h₂₁ ⋅h₃₂  - 2⋅h₂₁⋅h₂₂⋅h₃₁⋅h₃₂ + h₂₂ ⋅h₃₁ "
      ]
     },
     "execution_count": 138,
     "metadata": {},
     "output_type": "execute_result"
    }
   ],
   "source": [
    "(expr.coeff(u_0**2))"
   ]
  },
  {
   "cell_type": "code",
   "execution_count": 139,
   "metadata": {
    "collapsed": false
   },
   "outputs": [
    {
     "data": {
      "text/latex": [
       "$$- \\alpha^{2} h_{31}^{2} - \\alpha^{2} h_{32}^{2} + h_{11}^{2} h_{32}^{2} - 2 h_{11} h_{12} h_{31} h_{32} + h_{12}^{2} h_{31}^{2}$$"
      ],
      "text/plain": [
       "   2    2    2    2      2    2                          2    2\n",
       "- α ⋅h₃₁  - α ⋅h₃₂  + h₁₁ ⋅h₃₂  - 2⋅h₁₁⋅h₁₂⋅h₃₁⋅h₃₂ + h₁₂ ⋅h₃₁ "
      ]
     },
     "execution_count": 139,
     "metadata": {},
     "output_type": "execute_result"
    }
   ],
   "source": [
    "(expr.coeff(v_0**2))"
   ]
  },
  {
   "cell_type": "code",
   "execution_count": 140,
   "metadata": {
    "collapsed": false
   },
   "outputs": [
    {
     "data": {
      "text/latex": [
       "$$- 2 h_{11} h_{21} h_{32}^{2} + 2 h_{11} h_{22} h_{31} h_{32} + 2 h_{12} h_{21} h_{31} h_{32} - 2 h_{12} h_{22} h_{31}^{2}$$"
      ],
      "text/plain": [
       "               2                                                        2\n",
       "- 2⋅h₁₁⋅h₂₁⋅h₃₂  + 2⋅h₁₁⋅h₂₂⋅h₃₁⋅h₃₂ + 2⋅h₁₂⋅h₂₁⋅h₃₁⋅h₃₂ - 2⋅h₁₂⋅h₂₂⋅h₃₁ "
      ]
     },
     "execution_count": 140,
     "metadata": {},
     "output_type": "execute_result"
    }
   ],
   "source": [
    "(expr.coeff(u_0*v_0))"
   ]
  },
  {
   "cell_type": "code",
   "execution_count": 141,
   "metadata": {
    "collapsed": false
   },
   "outputs": [],
   "source": [
    "numer,denom=cancel(det(LHS_7[0:2,0:2]-I_2)).as_numer_denom()"
   ]
  },
  {
   "cell_type": "code",
   "execution_count": 142,
   "metadata": {
    "collapsed": false
   },
   "outputs": [
    {
     "data": {
      "text/latex": [
       "$$- \\alpha^{2} \\beta^{2} h_{31}^{2} - \\alpha^{2} \\beta^{2} h_{32}^{2} + \\alpha^{2} \\beta^{2} + \\alpha^{2} h_{21}^{2} h_{32}^{2} - \\alpha^{2} h_{21}^{2} - 2 \\alpha^{2} h_{21} h_{22} h_{31} h_{32} + 2 \\alpha^{2} h_{21} h_{31} v_{0} + \\alpha^{2} h_{22}^{2} h_{31}^{2} - \\alpha^{2} h_{22}^{2} + 2 \\alpha^{2} h_{22} h_{32} v_{0} - \\alpha^{2} h_{31}^{2} v_{0}^{2} - \\alpha^{2} h_{32}^{2} v_{0}^{2} + \\beta^{2} h_{11}^{2} h_{32}^{2} - \\beta^{2} h_{11}^{2} - 2 \\beta^{2} h_{11} h_{12} h_{31} h_{32} + 2 \\beta^{2} h_{11} h_{31} u_{0} + \\beta^{2} h_{12}^{2} h_{31}^{2} - \\beta^{2} h_{12}^{2} + 2 \\beta^{2} h_{12} h_{32} u_{0} - \\beta^{2} h_{31}^{2} u_{0}^{2} - \\beta^{2} h_{32}^{2} u_{0}^{2} + h_{11}^{2} h_{22}^{2} - 2 h_{11}^{2} h_{22} h_{32} v_{0} + h_{11}^{2} h_{32}^{2} v_{0}^{2} - 2 h_{11} h_{12} h_{21} h_{22} + 2 h_{11} h_{12} h_{21} h_{32} v_{0} + 2 h_{11} h_{12} h_{22} h_{31} v_{0} - 2 h_{11} h_{12} h_{31} h_{32} v_{0}^{2} + 2 h_{11} h_{21} h_{22} h_{32} u_{0} - 2 h_{11} h_{21} h_{32}^{2} u_{0} v_{0} - 2 h_{11} h_{22}^{2} h_{31} u_{0} + 2 h_{11} h_{22} h_{31} h_{32} u_{0} v_{0} + h_{12}^{2} h_{21}^{2} - 2 h_{12}^{2} h_{21} h_{31} v_{0} + h_{12}^{2} h_{31}^{2} v_{0}^{2} - 2 h_{12} h_{21}^{2} h_{32} u_{0} + 2 h_{12} h_{21} h_{22} h_{31} u_{0} + 2 h_{12} h_{21} h_{31} h_{32} u_{0} v_{0} - 2 h_{12} h_{22} h_{31}^{2} u_{0} v_{0} + h_{21}^{2} h_{32}^{2} u_{0}^{2} - 2 h_{21} h_{22} h_{31} h_{32} u_{0}^{2} + h_{22}^{2} h_{31}^{2} u_{0}^{2}$$"
      ],
      "text/plain": [
       "   2  2    2    2  2    2    2  2    2    2    2    2    2      2             \n",
       "- α ⋅β ⋅h₃₁  - α ⋅β ⋅h₃₂  + α ⋅β  + α ⋅h₂₁ ⋅h₃₂  - α ⋅h₂₁  - 2⋅α ⋅h₂₁⋅h₂₂⋅h₃₁⋅\n",
       "\n",
       "         2               2    2    2    2    2      2               2    2   2\n",
       "h₃₂ + 2⋅α ⋅h₂₁⋅h₃₁⋅v₀ + α ⋅h₂₂ ⋅h₃₁  - α ⋅h₂₂  + 2⋅α ⋅h₂₂⋅h₃₂⋅v₀ - α ⋅h₃₁ ⋅v₀ \n",
       "\n",
       "    2    2   2    2    2    2    2    2      2                      2         \n",
       " - α ⋅h₃₂ ⋅v₀  + β ⋅h₁₁ ⋅h₃₂  - β ⋅h₁₁  - 2⋅β ⋅h₁₁⋅h₁₂⋅h₃₁⋅h₃₂ + 2⋅β ⋅h₁₁⋅h₃₁⋅\n",
       "\n",
       "      2    2    2    2    2      2               2    2   2    2    2   2     \n",
       "u₀ + β ⋅h₁₂ ⋅h₃₁  - β ⋅h₁₂  + 2⋅β ⋅h₁₂⋅h₃₂⋅u₀ - β ⋅h₃₁ ⋅u₀  - β ⋅h₃₂ ⋅u₀  + h₁\n",
       "\n",
       " 2    2        2                 2    2   2                                   \n",
       "₁ ⋅h₂₂  - 2⋅h₁₁ ⋅h₂₂⋅h₃₂⋅v₀ + h₁₁ ⋅h₃₂ ⋅v₀  - 2⋅h₁₁⋅h₁₂⋅h₂₁⋅h₂₂ + 2⋅h₁₁⋅h₁₂⋅h₂\n",
       "\n",
       "                                                      2                       \n",
       "₁⋅h₃₂⋅v₀ + 2⋅h₁₁⋅h₁₂⋅h₂₂⋅h₃₁⋅v₀ - 2⋅h₁₁⋅h₁₂⋅h₃₁⋅h₃₂⋅v₀  + 2⋅h₁₁⋅h₂₁⋅h₂₂⋅h₃₂⋅u₀\n",
       "\n",
       "                2                  2                                       2  \n",
       " - 2⋅h₁₁⋅h₂₁⋅h₃₂ ⋅u₀⋅v₀ - 2⋅h₁₁⋅h₂₂ ⋅h₃₁⋅u₀ + 2⋅h₁₁⋅h₂₂⋅h₃₁⋅h₃₂⋅u₀⋅v₀ + h₁₂ ⋅h\n",
       "\n",
       "  2        2                 2    2   2            2                          \n",
       "₂₁  - 2⋅h₁₂ ⋅h₂₁⋅h₃₁⋅v₀ + h₁₂ ⋅h₃₁ ⋅v₀  - 2⋅h₁₂⋅h₂₁ ⋅h₃₂⋅u₀ + 2⋅h₁₂⋅h₂₁⋅h₂₂⋅h₃\n",
       "\n",
       "                                              2            2    2   2         \n",
       "₁⋅u₀ + 2⋅h₁₂⋅h₂₁⋅h₃₁⋅h₃₂⋅u₀⋅v₀ - 2⋅h₁₂⋅h₂₂⋅h₃₁ ⋅u₀⋅v₀ + h₂₁ ⋅h₃₂ ⋅u₀  - 2⋅h₂₁⋅\n",
       "\n",
       "              2      2    2   2\n",
       "h₂₂⋅h₃₁⋅h₃₂⋅u₀  + h₂₂ ⋅h₃₁ ⋅u₀ "
      ]
     },
     "execution_count": 142,
     "metadata": {},
     "output_type": "execute_result"
    }
   ],
   "source": [
    "numer"
   ]
  },
  {
   "cell_type": "code",
   "execution_count": 143,
   "metadata": {
    "collapsed": false
   },
   "outputs": [
    {
     "data": {
      "text/latex": [
       "$$- h_{31}^{2} - h_{32}^{2} + 1$$"
      ],
      "text/plain": [
       "     2      2    \n",
       "- h₃₁  - h₃₂  + 1"
      ]
     },
     "execution_count": 143,
     "metadata": {},
     "output_type": "execute_result"
    }
   ],
   "source": [
    "a2b2 = numer.coeff(alpha**2*beta**2)\n",
    "a2b2"
   ]
  },
  {
   "cell_type": "code",
   "execution_count": 144,
   "metadata": {
    "collapsed": false
   },
   "outputs": [
    {
     "data": {
      "text/latex": [
       "$$\\alpha^{2} h_{21}^{2} h_{32}^{2} - \\alpha^{2} h_{21}^{2} - 2 \\alpha^{2} h_{21} h_{22} h_{31} h_{32} + 2 \\alpha^{2} h_{21} h_{31} v_{0} + \\alpha^{2} h_{22}^{2} h_{31}^{2} - \\alpha^{2} h_{22}^{2} + 2 \\alpha^{2} h_{22} h_{32} v_{0} - \\alpha^{2} h_{31}^{2} v_{0}^{2} - \\alpha^{2} h_{32}^{2} v_{0}^{2} + \\beta^{2} h_{11}^{2} h_{32}^{2} - \\beta^{2} h_{11}^{2} - 2 \\beta^{2} h_{11} h_{12} h_{31} h_{32} + 2 \\beta^{2} h_{11} h_{31} u_{0} + \\beta^{2} h_{12}^{2} h_{31}^{2} - \\beta^{2} h_{12}^{2} + 2 \\beta^{2} h_{12} h_{32} u_{0} - \\beta^{2} h_{31}^{2} u_{0}^{2} - \\beta^{2} h_{32}^{2} u_{0}^{2} + h_{11}^{2} h_{22}^{2} - 2 h_{11}^{2} h_{22} h_{32} v_{0} + h_{11}^{2} h_{32}^{2} v_{0}^{2} - 2 h_{11} h_{12} h_{21} h_{22} + 2 h_{11} h_{12} h_{21} h_{32} v_{0} + 2 h_{11} h_{12} h_{22} h_{31} v_{0} - 2 h_{11} h_{12} h_{31} h_{32} v_{0}^{2} + 2 h_{11} h_{21} h_{22} h_{32} u_{0} - 2 h_{11} h_{21} h_{32}^{2} u_{0} v_{0} - 2 h_{11} h_{22}^{2} h_{31} u_{0} + 2 h_{11} h_{22} h_{31} h_{32} u_{0} v_{0} + h_{12}^{2} h_{21}^{2} - 2 h_{12}^{2} h_{21} h_{31} v_{0} + h_{12}^{2} h_{31}^{2} v_{0}^{2} - 2 h_{12} h_{21}^{2} h_{32} u_{0} + 2 h_{12} h_{21} h_{22} h_{31} u_{0} + 2 h_{12} h_{21} h_{31} h_{32} u_{0} v_{0} - 2 h_{12} h_{22} h_{31}^{2} u_{0} v_{0} + h_{21}^{2} h_{32}^{2} u_{0}^{2} - 2 h_{21} h_{22} h_{31} h_{32} u_{0}^{2} + h_{22}^{2} h_{31}^{2} u_{0}^{2}$$"
      ],
      "text/plain": [
       " 2    2    2    2    2      2                      2               2    2    2\n",
       "α ⋅h₂₁ ⋅h₃₂  - α ⋅h₂₁  - 2⋅α ⋅h₂₁⋅h₂₂⋅h₃₁⋅h₃₂ + 2⋅α ⋅h₂₁⋅h₃₁⋅v₀ + α ⋅h₂₂ ⋅h₃₁ \n",
       "\n",
       "    2    2      2               2    2   2    2    2   2    2    2    2    2  \n",
       " - α ⋅h₂₂  + 2⋅α ⋅h₂₂⋅h₃₂⋅v₀ - α ⋅h₃₁ ⋅v₀  - α ⋅h₃₂ ⋅v₀  + β ⋅h₁₁ ⋅h₃₂  - β ⋅h\n",
       "\n",
       "  2      2                      2               2    2    2    2    2      2  \n",
       "₁₁  - 2⋅β ⋅h₁₁⋅h₁₂⋅h₃₁⋅h₃₂ + 2⋅β ⋅h₁₁⋅h₃₁⋅u₀ + β ⋅h₁₂ ⋅h₃₁  - β ⋅h₁₂  + 2⋅β ⋅h\n",
       "\n",
       "             2    2   2    2    2   2      2    2        2                 2  \n",
       "₁₂⋅h₃₂⋅u₀ - β ⋅h₃₁ ⋅u₀  - β ⋅h₃₂ ⋅u₀  + h₁₁ ⋅h₂₂  - 2⋅h₁₁ ⋅h₂₂⋅h₃₂⋅v₀ + h₁₁ ⋅h\n",
       "\n",
       "  2   2                                                                       \n",
       "₃₂ ⋅v₀  - 2⋅h₁₁⋅h₁₂⋅h₂₁⋅h₂₂ + 2⋅h₁₁⋅h₁₂⋅h₂₁⋅h₃₂⋅v₀ + 2⋅h₁₁⋅h₁₂⋅h₂₂⋅h₃₁⋅v₀ - 2⋅\n",
       "\n",
       "                  2                                       2                  2\n",
       "h₁₁⋅h₁₂⋅h₃₁⋅h₃₂⋅v₀  + 2⋅h₁₁⋅h₂₁⋅h₂₂⋅h₃₂⋅u₀ - 2⋅h₁₁⋅h₂₁⋅h₃₂ ⋅u₀⋅v₀ - 2⋅h₁₁⋅h₂₂ \n",
       "\n",
       "                                       2    2        2                 2    2 \n",
       "⋅h₃₁⋅u₀ + 2⋅h₁₁⋅h₂₂⋅h₃₁⋅h₃₂⋅u₀⋅v₀ + h₁₂ ⋅h₂₁  - 2⋅h₁₂ ⋅h₂₁⋅h₃₁⋅v₀ + h₁₂ ⋅h₃₁ ⋅\n",
       "\n",
       "  2            2                                                              \n",
       "v₀  - 2⋅h₁₂⋅h₂₁ ⋅h₃₂⋅u₀ + 2⋅h₁₂⋅h₂₁⋅h₂₂⋅h₃₁⋅u₀ + 2⋅h₁₂⋅h₂₁⋅h₃₁⋅h₃₂⋅u₀⋅v₀ - 2⋅h\n",
       "\n",
       "          2            2    2   2                       2      2    2   2\n",
       "₁₂⋅h₂₂⋅h₃₁ ⋅u₀⋅v₀ + h₂₁ ⋅h₃₂ ⋅u₀  - 2⋅h₂₁⋅h₂₂⋅h₃₁⋅h₃₂⋅u₀  + h₂₂ ⋅h₃₁ ⋅u₀ "
      ]
     },
     "execution_count": 144,
     "metadata": {},
     "output_type": "execute_result"
    }
   ],
   "source": [
    "numer1 = simplify(numer-a2b2*alpha**2*beta**2)\n",
    "numer1"
   ]
  },
  {
   "cell_type": "code",
   "execution_count": 145,
   "metadata": {
    "collapsed": false
   },
   "outputs": [
    {
     "data": {
      "text/latex": [
       "$$- h_{31}^{2} - h_{32}^{2}$$"
      ],
      "text/plain": [
       "     2      2\n",
       "- h₃₁  - h₃₂ "
      ]
     },
     "execution_count": 145,
     "metadata": {},
     "output_type": "execute_result"
    }
   ],
   "source": [
    "a2v2=numer1.coeff(alpha**2*v_0**2)\n",
    "a2v2"
   ]
  },
  {
   "cell_type": "code",
   "execution_count": 146,
   "metadata": {
    "collapsed": false
   },
   "outputs": [
    {
     "data": {
      "text/latex": [
       "$$\\alpha^{2} h_{21}^{2} h_{32}^{2} - \\alpha^{2} h_{21}^{2} - 2 \\alpha^{2} h_{21} h_{22} h_{31} h_{32} + 2 \\alpha^{2} h_{21} h_{31} v_{0} + \\alpha^{2} h_{22}^{2} h_{31}^{2} - \\alpha^{2} h_{22}^{2} + 2 \\alpha^{2} h_{22} h_{32} v_{0} + \\beta^{2} h_{11}^{2} h_{32}^{2} - \\beta^{2} h_{11}^{2} - 2 \\beta^{2} h_{11} h_{12} h_{31} h_{32} + 2 \\beta^{2} h_{11} h_{31} u_{0} + \\beta^{2} h_{12}^{2} h_{31}^{2} - \\beta^{2} h_{12}^{2} + 2 \\beta^{2} h_{12} h_{32} u_{0} - \\beta^{2} h_{31}^{2} u_{0}^{2} - \\beta^{2} h_{32}^{2} u_{0}^{2} + h_{11}^{2} h_{22}^{2} - 2 h_{11}^{2} h_{22} h_{32} v_{0} + h_{11}^{2} h_{32}^{2} v_{0}^{2} - 2 h_{11} h_{12} h_{21} h_{22} + 2 h_{11} h_{12} h_{21} h_{32} v_{0} + 2 h_{11} h_{12} h_{22} h_{31} v_{0} - 2 h_{11} h_{12} h_{31} h_{32} v_{0}^{2} + 2 h_{11} h_{21} h_{22} h_{32} u_{0} - 2 h_{11} h_{21} h_{32}^{2} u_{0} v_{0} - 2 h_{11} h_{22}^{2} h_{31} u_{0} + 2 h_{11} h_{22} h_{31} h_{32} u_{0} v_{0} + h_{12}^{2} h_{21}^{2} - 2 h_{12}^{2} h_{21} h_{31} v_{0} + h_{12}^{2} h_{31}^{2} v_{0}^{2} - 2 h_{12} h_{21}^{2} h_{32} u_{0} + 2 h_{12} h_{21} h_{22} h_{31} u_{0} + 2 h_{12} h_{21} h_{31} h_{32} u_{0} v_{0} - 2 h_{12} h_{22} h_{31}^{2} u_{0} v_{0} + h_{21}^{2} h_{32}^{2} u_{0}^{2} - 2 h_{21} h_{22} h_{31} h_{32} u_{0}^{2} + h_{22}^{2} h_{31}^{2} u_{0}^{2}$$"
      ],
      "text/plain": [
       " 2    2    2    2    2      2                      2               2    2    2\n",
       "α ⋅h₂₁ ⋅h₃₂  - α ⋅h₂₁  - 2⋅α ⋅h₂₁⋅h₂₂⋅h₃₁⋅h₃₂ + 2⋅α ⋅h₂₁⋅h₃₁⋅v₀ + α ⋅h₂₂ ⋅h₃₁ \n",
       "\n",
       "    2    2      2               2    2    2    2    2      2                  \n",
       " - α ⋅h₂₂  + 2⋅α ⋅h₂₂⋅h₃₂⋅v₀ + β ⋅h₁₁ ⋅h₃₂  - β ⋅h₁₁  - 2⋅β ⋅h₁₁⋅h₁₂⋅h₃₁⋅h₃₂ +\n",
       "\n",
       "    2               2    2    2    2    2      2               2    2   2    2\n",
       " 2⋅β ⋅h₁₁⋅h₃₁⋅u₀ + β ⋅h₁₂ ⋅h₃₁  - β ⋅h₁₂  + 2⋅β ⋅h₁₂⋅h₃₂⋅u₀ - β ⋅h₃₁ ⋅u₀  - β \n",
       "\n",
       "    2   2      2    2        2                 2    2   2                     \n",
       "⋅h₃₂ ⋅u₀  + h₁₁ ⋅h₂₂  - 2⋅h₁₁ ⋅h₂₂⋅h₃₂⋅v₀ + h₁₁ ⋅h₃₂ ⋅v₀  - 2⋅h₁₁⋅h₁₂⋅h₂₁⋅h₂₂ \n",
       "\n",
       "                                                                    2         \n",
       "+ 2⋅h₁₁⋅h₁₂⋅h₂₁⋅h₃₂⋅v₀ + 2⋅h₁₁⋅h₁₂⋅h₂₂⋅h₃₁⋅v₀ - 2⋅h₁₁⋅h₁₂⋅h₃₁⋅h₃₂⋅v₀  + 2⋅h₁₁⋅\n",
       "\n",
       "                              2                  2                            \n",
       "h₂₁⋅h₂₂⋅h₃₂⋅u₀ - 2⋅h₁₁⋅h₂₁⋅h₃₂ ⋅u₀⋅v₀ - 2⋅h₁₁⋅h₂₂ ⋅h₃₁⋅u₀ + 2⋅h₁₁⋅h₂₂⋅h₃₁⋅h₃₂⋅\n",
       "\n",
       "           2    2        2                 2    2   2            2            \n",
       "u₀⋅v₀ + h₁₂ ⋅h₂₁  - 2⋅h₁₂ ⋅h₂₁⋅h₃₁⋅v₀ + h₁₂ ⋅h₃₁ ⋅v₀  - 2⋅h₁₂⋅h₂₁ ⋅h₃₂⋅u₀ + 2⋅\n",
       "\n",
       "                                                            2            2    \n",
       "h₁₂⋅h₂₁⋅h₂₂⋅h₃₁⋅u₀ + 2⋅h₁₂⋅h₂₁⋅h₃₁⋅h₃₂⋅u₀⋅v₀ - 2⋅h₁₂⋅h₂₂⋅h₃₁ ⋅u₀⋅v₀ + h₂₁ ⋅h₃₂\n",
       "\n",
       "2   2                       2      2    2   2\n",
       " ⋅u₀  - 2⋅h₂₁⋅h₂₂⋅h₃₁⋅h₃₂⋅u₀  + h₂₂ ⋅h₃₁ ⋅u₀ "
      ]
     },
     "execution_count": 146,
     "metadata": {},
     "output_type": "execute_result"
    }
   ],
   "source": [
    "numer2=simplify(numer1-a2v2*alpha**2*v_0**2)\n",
    "numer2"
   ]
  },
  {
   "cell_type": "code",
   "execution_count": 147,
   "metadata": {
    "collapsed": false
   },
   "outputs": [
    {
     "data": {
      "text/latex": [
       "$$2 h_{21} h_{31} + 2 h_{22} h_{32}$$"
      ],
      "text/plain": [
       "2⋅h₂₁⋅h₃₁ + 2⋅h₂₂⋅h₃₂"
      ]
     },
     "execution_count": 147,
     "metadata": {},
     "output_type": "execute_result"
    }
   ],
   "source": [
    "a2v=numer2.coeff(alpha**2*v_0)\n",
    "a2v"
   ]
  },
  {
   "cell_type": "code",
   "execution_count": 148,
   "metadata": {
    "collapsed": false
   },
   "outputs": [
    {
     "data": {
      "text/latex": [
       "$$\\alpha^{2} h_{21}^{2} h_{32}^{2} - \\alpha^{2} h_{21}^{2} - 2 \\alpha^{2} h_{21} h_{22} h_{31} h_{32} + \\alpha^{2} h_{22}^{2} h_{31}^{2} - \\alpha^{2} h_{22}^{2} + \\beta^{2} h_{11}^{2} h_{32}^{2} - \\beta^{2} h_{11}^{2} - 2 \\beta^{2} h_{11} h_{12} h_{31} h_{32} + 2 \\beta^{2} h_{11} h_{31} u_{0} + \\beta^{2} h_{12}^{2} h_{31}^{2} - \\beta^{2} h_{12}^{2} + 2 \\beta^{2} h_{12} h_{32} u_{0} - \\beta^{2} h_{31}^{2} u_{0}^{2} - \\beta^{2} h_{32}^{2} u_{0}^{2} + h_{11}^{2} h_{22}^{2} - 2 h_{11}^{2} h_{22} h_{32} v_{0} + h_{11}^{2} h_{32}^{2} v_{0}^{2} - 2 h_{11} h_{12} h_{21} h_{22} + 2 h_{11} h_{12} h_{21} h_{32} v_{0} + 2 h_{11} h_{12} h_{22} h_{31} v_{0} - 2 h_{11} h_{12} h_{31} h_{32} v_{0}^{2} + 2 h_{11} h_{21} h_{22} h_{32} u_{0} - 2 h_{11} h_{21} h_{32}^{2} u_{0} v_{0} - 2 h_{11} h_{22}^{2} h_{31} u_{0} + 2 h_{11} h_{22} h_{31} h_{32} u_{0} v_{0} + h_{12}^{2} h_{21}^{2} - 2 h_{12}^{2} h_{21} h_{31} v_{0} + h_{12}^{2} h_{31}^{2} v_{0}^{2} - 2 h_{12} h_{21}^{2} h_{32} u_{0} + 2 h_{12} h_{21} h_{22} h_{31} u_{0} + 2 h_{12} h_{21} h_{31} h_{32} u_{0} v_{0} - 2 h_{12} h_{22} h_{31}^{2} u_{0} v_{0} + h_{21}^{2} h_{32}^{2} u_{0}^{2} - 2 h_{21} h_{22} h_{31} h_{32} u_{0}^{2} + h_{22}^{2} h_{31}^{2} u_{0}^{2}$$"
      ],
      "text/plain": [
       " 2    2    2    2    2      2                    2    2    2    2    2    2   \n",
       "α ⋅h₂₁ ⋅h₃₂  - α ⋅h₂₁  - 2⋅α ⋅h₂₁⋅h₂₂⋅h₃₁⋅h₃₂ + α ⋅h₂₂ ⋅h₃₁  - α ⋅h₂₂  + β ⋅h₁\n",
       "\n",
       " 2    2    2    2      2                      2               2    2    2    2\n",
       "₁ ⋅h₃₂  - β ⋅h₁₁  - 2⋅β ⋅h₁₁⋅h₁₂⋅h₃₁⋅h₃₂ + 2⋅β ⋅h₁₁⋅h₃₁⋅u₀ + β ⋅h₁₂ ⋅h₃₁  - β \n",
       "\n",
       "    2      2               2    2   2    2    2   2      2    2        2      \n",
       "⋅h₁₂  + 2⋅β ⋅h₁₂⋅h₃₂⋅u₀ - β ⋅h₃₁ ⋅u₀  - β ⋅h₃₂ ⋅u₀  + h₁₁ ⋅h₂₂  - 2⋅h₁₁ ⋅h₂₂⋅h\n",
       "\n",
       "           2    2   2                                                         \n",
       "₃₂⋅v₀ + h₁₁ ⋅h₃₂ ⋅v₀  - 2⋅h₁₁⋅h₁₂⋅h₂₁⋅h₂₂ + 2⋅h₁₁⋅h₁₂⋅h₂₁⋅h₃₂⋅v₀ + 2⋅h₁₁⋅h₁₂⋅h\n",
       "\n",
       "                                2                                       2     \n",
       "₂₂⋅h₃₁⋅v₀ - 2⋅h₁₁⋅h₁₂⋅h₃₁⋅h₃₂⋅v₀  + 2⋅h₁₁⋅h₂₁⋅h₂₂⋅h₃₂⋅u₀ - 2⋅h₁₁⋅h₂₁⋅h₃₂ ⋅u₀⋅v\n",
       "\n",
       "             2                                       2    2        2          \n",
       "₀ - 2⋅h₁₁⋅h₂₂ ⋅h₃₁⋅u₀ + 2⋅h₁₁⋅h₂₂⋅h₃₁⋅h₃₂⋅u₀⋅v₀ + h₁₂ ⋅h₂₁  - 2⋅h₁₂ ⋅h₂₁⋅h₃₁⋅v\n",
       "\n",
       "       2    2   2            2                                                \n",
       "₀ + h₁₂ ⋅h₃₁ ⋅v₀  - 2⋅h₁₂⋅h₂₁ ⋅h₃₂⋅u₀ + 2⋅h₁₂⋅h₂₁⋅h₂₂⋅h₃₁⋅u₀ + 2⋅h₁₂⋅h₂₁⋅h₃₁⋅h\n",
       "\n",
       "                        2            2    2   2                       2      2\n",
       "₃₂⋅u₀⋅v₀ - 2⋅h₁₂⋅h₂₂⋅h₃₁ ⋅u₀⋅v₀ + h₂₁ ⋅h₃₂ ⋅u₀  - 2⋅h₂₁⋅h₂₂⋅h₃₁⋅h₃₂⋅u₀  + h₂₂ \n",
       "\n",
       "    2   2\n",
       "⋅h₃₁ ⋅u₀ "
      ]
     },
     "execution_count": 148,
     "metadata": {},
     "output_type": "execute_result"
    }
   ],
   "source": [
    "numer3=simplify(numer2-a2v*alpha**2*v_0)\n",
    "numer3"
   ]
  },
  {
   "cell_type": "code",
   "execution_count": 149,
   "metadata": {
    "collapsed": false
   },
   "outputs": [
    {
     "data": {
      "text/latex": [
       "$$h_{21}^{2} h_{32}^{2} - h_{21}^{2} - 2 h_{21} h_{22} h_{31} h_{32} + h_{22}^{2} h_{31}^{2} - h_{22}^{2}$$"
      ],
      "text/plain": [
       "   2    2      2                          2    2      2\n",
       "h₂₁ ⋅h₃₂  - h₂₁  - 2⋅h₂₁⋅h₂₂⋅h₃₁⋅h₃₂ + h₂₂ ⋅h₃₁  - h₂₂ "
      ]
     },
     "execution_count": 149,
     "metadata": {},
     "output_type": "execute_result"
    }
   ],
   "source": [
    "a2=numer3.coeff(alpha**2)\n",
    "a2"
   ]
  },
  {
   "cell_type": "code",
   "execution_count": 150,
   "metadata": {
    "collapsed": false
   },
   "outputs": [
    {
     "data": {
      "text/latex": [
       "$$\\beta^{2} h_{11}^{2} h_{32}^{2} - \\beta^{2} h_{11}^{2} - 2 \\beta^{2} h_{11} h_{12} h_{31} h_{32} + 2 \\beta^{2} h_{11} h_{31} u_{0} + \\beta^{2} h_{12}^{2} h_{31}^{2} - \\beta^{2} h_{12}^{2} + 2 \\beta^{2} h_{12} h_{32} u_{0} - \\beta^{2} h_{31}^{2} u_{0}^{2} - \\beta^{2} h_{32}^{2} u_{0}^{2} + h_{11}^{2} h_{22}^{2} - 2 h_{11}^{2} h_{22} h_{32} v_{0} + h_{11}^{2} h_{32}^{2} v_{0}^{2} - 2 h_{11} h_{12} h_{21} h_{22} + 2 h_{11} h_{12} h_{21} h_{32} v_{0} + 2 h_{11} h_{12} h_{22} h_{31} v_{0} - 2 h_{11} h_{12} h_{31} h_{32} v_{0}^{2} + 2 h_{11} h_{21} h_{22} h_{32} u_{0} - 2 h_{11} h_{21} h_{32}^{2} u_{0} v_{0} - 2 h_{11} h_{22}^{2} h_{31} u_{0} + 2 h_{11} h_{22} h_{31} h_{32} u_{0} v_{0} + h_{12}^{2} h_{21}^{2} - 2 h_{12}^{2} h_{21} h_{31} v_{0} + h_{12}^{2} h_{31}^{2} v_{0}^{2} - 2 h_{12} h_{21}^{2} h_{32} u_{0} + 2 h_{12} h_{21} h_{22} h_{31} u_{0} + 2 h_{12} h_{21} h_{31} h_{32} u_{0} v_{0} - 2 h_{12} h_{22} h_{31}^{2} u_{0} v_{0} + h_{21}^{2} h_{32}^{2} u_{0}^{2} - 2 h_{21} h_{22} h_{31} h_{32} u_{0}^{2} + h_{22}^{2} h_{31}^{2} u_{0}^{2}$$"
      ],
      "text/plain": [
       " 2    2    2    2    2      2                      2               2    2    2\n",
       "β ⋅h₁₁ ⋅h₃₂  - β ⋅h₁₁  - 2⋅β ⋅h₁₁⋅h₁₂⋅h₃₁⋅h₃₂ + 2⋅β ⋅h₁₁⋅h₃₁⋅u₀ + β ⋅h₁₂ ⋅h₃₁ \n",
       "\n",
       "    2    2      2               2    2   2    2    2   2      2    2        2 \n",
       " - β ⋅h₁₂  + 2⋅β ⋅h₁₂⋅h₃₂⋅u₀ - β ⋅h₃₁ ⋅u₀  - β ⋅h₃₂ ⋅u₀  + h₁₁ ⋅h₂₂  - 2⋅h₁₁ ⋅\n",
       "\n",
       "                2    2   2                                                    \n",
       "h₂₂⋅h₃₂⋅v₀ + h₁₁ ⋅h₃₂ ⋅v₀  - 2⋅h₁₁⋅h₁₂⋅h₂₁⋅h₂₂ + 2⋅h₁₁⋅h₁₂⋅h₂₁⋅h₃₂⋅v₀ + 2⋅h₁₁⋅\n",
       "\n",
       "                                     2                                       2\n",
       "h₁₂⋅h₂₂⋅h₃₁⋅v₀ - 2⋅h₁₁⋅h₁₂⋅h₃₁⋅h₃₂⋅v₀  + 2⋅h₁₁⋅h₂₁⋅h₂₂⋅h₃₂⋅u₀ - 2⋅h₁₁⋅h₂₁⋅h₃₂ \n",
       "\n",
       "                  2                                       2    2        2     \n",
       "⋅u₀⋅v₀ - 2⋅h₁₁⋅h₂₂ ⋅h₃₁⋅u₀ + 2⋅h₁₁⋅h₂₂⋅h₃₁⋅h₃₂⋅u₀⋅v₀ + h₁₂ ⋅h₂₁  - 2⋅h₁₂ ⋅h₂₁⋅\n",
       "\n",
       "            2    2   2            2                                           \n",
       "h₃₁⋅v₀ + h₁₂ ⋅h₃₁ ⋅v₀  - 2⋅h₁₂⋅h₂₁ ⋅h₃₂⋅u₀ + 2⋅h₁₂⋅h₂₁⋅h₂₂⋅h₃₁⋅u₀ + 2⋅h₁₂⋅h₂₁⋅\n",
       "\n",
       "                             2            2    2   2                       2  \n",
       "h₃₁⋅h₃₂⋅u₀⋅v₀ - 2⋅h₁₂⋅h₂₂⋅h₃₁ ⋅u₀⋅v₀ + h₂₁ ⋅h₃₂ ⋅u₀  - 2⋅h₂₁⋅h₂₂⋅h₃₁⋅h₃₂⋅u₀  +\n",
       "\n",
       "    2    2   2\n",
       " h₂₂ ⋅h₃₁ ⋅u₀ "
      ]
     },
     "execution_count": 150,
     "metadata": {},
     "output_type": "execute_result"
    }
   ],
   "source": [
    "numer4=simplify(numer3-a2*alpha**2)\n",
    "numer4"
   ]
  },
  {
   "cell_type": "code",
   "execution_count": 151,
   "metadata": {
    "collapsed": false
   },
   "outputs": [
    {
     "data": {
      "text/latex": [
       "$$- h_{31}^{2} - h_{32}^{2}$$"
      ],
      "text/plain": [
       "     2      2\n",
       "- h₃₁  - h₃₂ "
      ]
     },
     "execution_count": 151,
     "metadata": {},
     "output_type": "execute_result"
    }
   ],
   "source": [
    "b2u2=numer4.coeff(beta**2*u_0**2)\n",
    "b2u2"
   ]
  },
  {
   "cell_type": "code",
   "execution_count": 152,
   "metadata": {
    "collapsed": false
   },
   "outputs": [
    {
     "data": {
      "text/latex": [
       "$$\\beta^{2} h_{11}^{2} h_{32}^{2} - \\beta^{2} h_{11}^{2} - 2 \\beta^{2} h_{11} h_{12} h_{31} h_{32} + 2 \\beta^{2} h_{11} h_{31} u_{0} + \\beta^{2} h_{12}^{2} h_{31}^{2} - \\beta^{2} h_{12}^{2} + 2 \\beta^{2} h_{12} h_{32} u_{0} + h_{11}^{2} h_{22}^{2} - 2 h_{11}^{2} h_{22} h_{32} v_{0} + h_{11}^{2} h_{32}^{2} v_{0}^{2} - 2 h_{11} h_{12} h_{21} h_{22} + 2 h_{11} h_{12} h_{21} h_{32} v_{0} + 2 h_{11} h_{12} h_{22} h_{31} v_{0} - 2 h_{11} h_{12} h_{31} h_{32} v_{0}^{2} + 2 h_{11} h_{21} h_{22} h_{32} u_{0} - 2 h_{11} h_{21} h_{32}^{2} u_{0} v_{0} - 2 h_{11} h_{22}^{2} h_{31} u_{0} + 2 h_{11} h_{22} h_{31} h_{32} u_{0} v_{0} + h_{12}^{2} h_{21}^{2} - 2 h_{12}^{2} h_{21} h_{31} v_{0} + h_{12}^{2} h_{31}^{2} v_{0}^{2} - 2 h_{12} h_{21}^{2} h_{32} u_{0} + 2 h_{12} h_{21} h_{22} h_{31} u_{0} + 2 h_{12} h_{21} h_{31} h_{32} u_{0} v_{0} - 2 h_{12} h_{22} h_{31}^{2} u_{0} v_{0} + h_{21}^{2} h_{32}^{2} u_{0}^{2} - 2 h_{21} h_{22} h_{31} h_{32} u_{0}^{2} + h_{22}^{2} h_{31}^{2} u_{0}^{2}$$"
      ],
      "text/plain": [
       " 2    2    2    2    2      2                      2               2    2    2\n",
       "β ⋅h₁₁ ⋅h₃₂  - β ⋅h₁₁  - 2⋅β ⋅h₁₁⋅h₁₂⋅h₃₁⋅h₃₂ + 2⋅β ⋅h₁₁⋅h₃₁⋅u₀ + β ⋅h₁₂ ⋅h₃₁ \n",
       "\n",
       "    2    2      2                 2    2        2                 2    2   2  \n",
       " - β ⋅h₁₂  + 2⋅β ⋅h₁₂⋅h₃₂⋅u₀ + h₁₁ ⋅h₂₂  - 2⋅h₁₁ ⋅h₂₂⋅h₃₂⋅v₀ + h₁₁ ⋅h₃₂ ⋅v₀  -\n",
       "\n",
       "                                                                              \n",
       " 2⋅h₁₁⋅h₁₂⋅h₂₁⋅h₂₂ + 2⋅h₁₁⋅h₁₂⋅h₂₁⋅h₃₂⋅v₀ + 2⋅h₁₁⋅h₁₂⋅h₂₂⋅h₃₁⋅v₀ - 2⋅h₁₁⋅h₁₂⋅h\n",
       "\n",
       "         2                                       2                  2         \n",
       "₃₁⋅h₃₂⋅v₀  + 2⋅h₁₁⋅h₂₁⋅h₂₂⋅h₃₂⋅u₀ - 2⋅h₁₁⋅h₂₁⋅h₃₂ ⋅u₀⋅v₀ - 2⋅h₁₁⋅h₂₂ ⋅h₃₁⋅u₀ +\n",
       "\n",
       "                              2    2        2                 2    2   2      \n",
       " 2⋅h₁₁⋅h₂₂⋅h₃₁⋅h₃₂⋅u₀⋅v₀ + h₁₂ ⋅h₂₁  - 2⋅h₁₂ ⋅h₂₁⋅h₃₁⋅v₀ + h₁₂ ⋅h₃₁ ⋅v₀  - 2⋅h\n",
       "\n",
       "      2                                                                       \n",
       "₁₂⋅h₂₁ ⋅h₃₂⋅u₀ + 2⋅h₁₂⋅h₂₁⋅h₂₂⋅h₃₁⋅u₀ + 2⋅h₁₂⋅h₂₁⋅h₃₁⋅h₃₂⋅u₀⋅v₀ - 2⋅h₁₂⋅h₂₂⋅h₃\n",
       "\n",
       " 2            2    2   2                       2      2    2   2\n",
       "₁ ⋅u₀⋅v₀ + h₂₁ ⋅h₃₂ ⋅u₀  - 2⋅h₂₁⋅h₂₂⋅h₃₁⋅h₃₂⋅u₀  + h₂₂ ⋅h₃₁ ⋅u₀ "
      ]
     },
     "execution_count": 152,
     "metadata": {},
     "output_type": "execute_result"
    }
   ],
   "source": [
    "numer5=simplify(numer4-b2u2*beta**2*u_0**2)\n",
    "numer5"
   ]
  },
  {
   "cell_type": "code",
   "execution_count": 153,
   "metadata": {
    "collapsed": false
   },
   "outputs": [
    {
     "data": {
      "text/latex": [
       "$$2 h_{11} h_{31} + 2 h_{12} h_{32}$$"
      ],
      "text/plain": [
       "2⋅h₁₁⋅h₃₁ + 2⋅h₁₂⋅h₃₂"
      ]
     },
     "execution_count": 153,
     "metadata": {},
     "output_type": "execute_result"
    }
   ],
   "source": [
    "b2u=numer5.coeff(beta**2*u_0)\n",
    "b2u"
   ]
  },
  {
   "cell_type": "code",
   "execution_count": 154,
   "metadata": {
    "collapsed": false
   },
   "outputs": [
    {
     "data": {
      "text/latex": [
       "$$\\beta^{2} h_{11}^{2} h_{32}^{2} - \\beta^{2} h_{11}^{2} - 2 \\beta^{2} h_{11} h_{12} h_{31} h_{32} + \\beta^{2} h_{12}^{2} h_{31}^{2} - \\beta^{2} h_{12}^{2} + h_{11}^{2} h_{22}^{2} - 2 h_{11}^{2} h_{22} h_{32} v_{0} + h_{11}^{2} h_{32}^{2} v_{0}^{2} - 2 h_{11} h_{12} h_{21} h_{22} + 2 h_{11} h_{12} h_{21} h_{32} v_{0} + 2 h_{11} h_{12} h_{22} h_{31} v_{0} - 2 h_{11} h_{12} h_{31} h_{32} v_{0}^{2} + 2 h_{11} h_{21} h_{22} h_{32} u_{0} - 2 h_{11} h_{21} h_{32}^{2} u_{0} v_{0} - 2 h_{11} h_{22}^{2} h_{31} u_{0} + 2 h_{11} h_{22} h_{31} h_{32} u_{0} v_{0} + h_{12}^{2} h_{21}^{2} - 2 h_{12}^{2} h_{21} h_{31} v_{0} + h_{12}^{2} h_{31}^{2} v_{0}^{2} - 2 h_{12} h_{21}^{2} h_{32} u_{0} + 2 h_{12} h_{21} h_{22} h_{31} u_{0} + 2 h_{12} h_{21} h_{31} h_{32} u_{0} v_{0} - 2 h_{12} h_{22} h_{31}^{2} u_{0} v_{0} + h_{21}^{2} h_{32}^{2} u_{0}^{2} - 2 h_{21} h_{22} h_{31} h_{32} u_{0}^{2} + h_{22}^{2} h_{31}^{2} u_{0}^{2}$$"
      ],
      "text/plain": [
       " 2    2    2    2    2      2                    2    2    2    2    2      2 \n",
       "β ⋅h₁₁ ⋅h₃₂  - β ⋅h₁₁  - 2⋅β ⋅h₁₁⋅h₁₂⋅h₃₁⋅h₃₂ + β ⋅h₁₂ ⋅h₃₁  - β ⋅h₁₂  + h₁₁ ⋅\n",
       "\n",
       "   2        2                 2    2   2                                      \n",
       "h₂₂  - 2⋅h₁₁ ⋅h₂₂⋅h₃₂⋅v₀ + h₁₁ ⋅h₃₂ ⋅v₀  - 2⋅h₁₁⋅h₁₂⋅h₂₁⋅h₂₂ + 2⋅h₁₁⋅h₁₂⋅h₂₁⋅h\n",
       "\n",
       "                                                   2                          \n",
       "₃₂⋅v₀ + 2⋅h₁₁⋅h₁₂⋅h₂₂⋅h₃₁⋅v₀ - 2⋅h₁₁⋅h₁₂⋅h₃₁⋅h₃₂⋅v₀  + 2⋅h₁₁⋅h₂₁⋅h₂₂⋅h₃₂⋅u₀ - \n",
       "\n",
       "             2                  2                                       2    2\n",
       "2⋅h₁₁⋅h₂₁⋅h₃₂ ⋅u₀⋅v₀ - 2⋅h₁₁⋅h₂₂ ⋅h₃₁⋅u₀ + 2⋅h₁₁⋅h₂₂⋅h₃₁⋅h₃₂⋅u₀⋅v₀ + h₁₂ ⋅h₂₁ \n",
       "\n",
       "        2                 2    2   2            2                             \n",
       " - 2⋅h₁₂ ⋅h₂₁⋅h₃₁⋅v₀ + h₁₂ ⋅h₃₁ ⋅v₀  - 2⋅h₁₂⋅h₂₁ ⋅h₃₂⋅u₀ + 2⋅h₁₂⋅h₂₁⋅h₂₂⋅h₃₁⋅u\n",
       "\n",
       "                                           2            2    2   2            \n",
       "₀ + 2⋅h₁₂⋅h₂₁⋅h₃₁⋅h₃₂⋅u₀⋅v₀ - 2⋅h₁₂⋅h₂₂⋅h₃₁ ⋅u₀⋅v₀ + h₂₁ ⋅h₃₂ ⋅u₀  - 2⋅h₂₁⋅h₂₂\n",
       "\n",
       "           2      2    2   2\n",
       "⋅h₃₁⋅h₃₂⋅u₀  + h₂₂ ⋅h₃₁ ⋅u₀ "
      ]
     },
     "execution_count": 154,
     "metadata": {},
     "output_type": "execute_result"
    }
   ],
   "source": [
    "numer6=simplify(numer5-b2u*beta**2*u_0)\n",
    "numer6"
   ]
  },
  {
   "cell_type": "code",
   "execution_count": 155,
   "metadata": {
    "collapsed": false
   },
   "outputs": [
    {
     "data": {
      "text/latex": [
       "$$h_{11}^{2} h_{32}^{2} - h_{11}^{2} - 2 h_{11} h_{12} h_{31} h_{32} + h_{12}^{2} h_{31}^{2} - h_{12}^{2}$$"
      ],
      "text/plain": [
       "   2    2      2                          2    2      2\n",
       "h₁₁ ⋅h₃₂  - h₁₁  - 2⋅h₁₁⋅h₁₂⋅h₃₁⋅h₃₂ + h₁₂ ⋅h₃₁  - h₁₂ "
      ]
     },
     "execution_count": 155,
     "metadata": {},
     "output_type": "execute_result"
    }
   ],
   "source": [
    "b2=numer6.coeff(beta**2)\n",
    "b2"
   ]
  },
  {
   "cell_type": "code",
   "execution_count": 156,
   "metadata": {
    "collapsed": false
   },
   "outputs": [
    {
     "data": {
      "text/latex": [
       "$$h_{11}^{2} h_{22}^{2} - 2 h_{11}^{2} h_{22} h_{32} v_{0} + h_{11}^{2} h_{32}^{2} v_{0}^{2} - 2 h_{11} h_{12} h_{21} h_{22} + 2 h_{11} h_{12} h_{21} h_{32} v_{0} + 2 h_{11} h_{12} h_{22} h_{31} v_{0} - 2 h_{11} h_{12} h_{31} h_{32} v_{0}^{2} + 2 h_{11} h_{21} h_{22} h_{32} u_{0} - 2 h_{11} h_{21} h_{32}^{2} u_{0} v_{0} - 2 h_{11} h_{22}^{2} h_{31} u_{0} + 2 h_{11} h_{22} h_{31} h_{32} u_{0} v_{0} + h_{12}^{2} h_{21}^{2} - 2 h_{12}^{2} h_{21} h_{31} v_{0} + h_{12}^{2} h_{31}^{2} v_{0}^{2} - 2 h_{12} h_{21}^{2} h_{32} u_{0} + 2 h_{12} h_{21} h_{22} h_{31} u_{0} + 2 h_{12} h_{21} h_{31} h_{32} u_{0} v_{0} - 2 h_{12} h_{22} h_{31}^{2} u_{0} v_{0} + h_{21}^{2} h_{32}^{2} u_{0}^{2} - 2 h_{21} h_{22} h_{31} h_{32} u_{0}^{2} + h_{22}^{2} h_{31}^{2} u_{0}^{2}$$"
      ],
      "text/plain": [
       "   2    2        2                 2    2   2                                 \n",
       "h₁₁ ⋅h₂₂  - 2⋅h₁₁ ⋅h₂₂⋅h₃₂⋅v₀ + h₁₁ ⋅h₃₂ ⋅v₀  - 2⋅h₁₁⋅h₁₂⋅h₂₁⋅h₂₂ + 2⋅h₁₁⋅h₁₂⋅\n",
       "\n",
       "                                                        2                     \n",
       "h₂₁⋅h₃₂⋅v₀ + 2⋅h₁₁⋅h₁₂⋅h₂₂⋅h₃₁⋅v₀ - 2⋅h₁₁⋅h₁₂⋅h₃₁⋅h₃₂⋅v₀  + 2⋅h₁₁⋅h₂₁⋅h₂₂⋅h₃₂⋅\n",
       "\n",
       "                  2                  2                                       2\n",
       "u₀ - 2⋅h₁₁⋅h₂₁⋅h₃₂ ⋅u₀⋅v₀ - 2⋅h₁₁⋅h₂₂ ⋅h₃₁⋅u₀ + 2⋅h₁₁⋅h₂₂⋅h₃₁⋅h₃₂⋅u₀⋅v₀ + h₁₂ \n",
       "\n",
       "    2        2                 2    2   2            2                        \n",
       "⋅h₂₁  - 2⋅h₁₂ ⋅h₂₁⋅h₃₁⋅v₀ + h₁₂ ⋅h₃₁ ⋅v₀  - 2⋅h₁₂⋅h₂₁ ⋅h₃₂⋅u₀ + 2⋅h₁₂⋅h₂₁⋅h₂₂⋅\n",
       "\n",
       "                                                2            2    2   2       \n",
       "h₃₁⋅u₀ + 2⋅h₁₂⋅h₂₁⋅h₃₁⋅h₃₂⋅u₀⋅v₀ - 2⋅h₁₂⋅h₂₂⋅h₃₁ ⋅u₀⋅v₀ + h₂₁ ⋅h₃₂ ⋅u₀  - 2⋅h₂\n",
       "\n",
       "                2      2    2   2\n",
       "₁⋅h₂₂⋅h₃₁⋅h₃₂⋅u₀  + h₂₂ ⋅h₃₁ ⋅u₀ "
      ]
     },
     "execution_count": 156,
     "metadata": {},
     "output_type": "execute_result"
    }
   ],
   "source": [
    "numer7=simplify(numer6-b2*beta**2)\n",
    "numer7"
   ]
  },
  {
   "cell_type": "code",
   "execution_count": 157,
   "metadata": {
    "collapsed": false
   },
   "outputs": [
    {
     "data": {
      "text/latex": [
       "$$- 2 h_{11} h_{21} h_{32}^{2} + 2 h_{11} h_{22} h_{31} h_{32} + 2 h_{12} h_{21} h_{31} h_{32} - 2 h_{12} h_{22} h_{31}^{2}$$"
      ],
      "text/plain": [
       "               2                                                        2\n",
       "- 2⋅h₁₁⋅h₂₁⋅h₃₂  + 2⋅h₁₁⋅h₂₂⋅h₃₁⋅h₃₂ + 2⋅h₁₂⋅h₂₁⋅h₃₁⋅h₃₂ - 2⋅h₁₂⋅h₂₂⋅h₃₁ "
      ]
     },
     "execution_count": 157,
     "metadata": {},
     "output_type": "execute_result"
    }
   ],
   "source": [
    "uv=numer7.coeff(u_0*v_0)\n",
    "uv"
   ]
  },
  {
   "cell_type": "code",
   "execution_count": 158,
   "metadata": {
    "collapsed": false
   },
   "outputs": [
    {
     "data": {
      "text/latex": [
       "$$h_{11}^{2} h_{22}^{2} - 2 h_{11}^{2} h_{22} h_{32} v_{0} + h_{11}^{2} h_{32}^{2} v_{0}^{2} - 2 h_{11} h_{12} h_{21} h_{22} + 2 h_{11} h_{12} h_{21} h_{32} v_{0} + 2 h_{11} h_{12} h_{22} h_{31} v_{0} - 2 h_{11} h_{12} h_{31} h_{32} v_{0}^{2} + 2 h_{11} h_{21} h_{22} h_{32} u_{0} - 2 h_{11} h_{22}^{2} h_{31} u_{0} + h_{12}^{2} h_{21}^{2} - 2 h_{12}^{2} h_{21} h_{31} v_{0} + h_{12}^{2} h_{31}^{2} v_{0}^{2} - 2 h_{12} h_{21}^{2} h_{32} u_{0} + 2 h_{12} h_{21} h_{22} h_{31} u_{0} + h_{21}^{2} h_{32}^{2} u_{0}^{2} - 2 h_{21} h_{22} h_{31} h_{32} u_{0}^{2} + h_{22}^{2} h_{31}^{2} u_{0}^{2}$$"
      ],
      "text/plain": [
       "   2    2        2                 2    2   2                                 \n",
       "h₁₁ ⋅h₂₂  - 2⋅h₁₁ ⋅h₂₂⋅h₃₂⋅v₀ + h₁₁ ⋅h₃₂ ⋅v₀  - 2⋅h₁₁⋅h₁₂⋅h₂₁⋅h₂₂ + 2⋅h₁₁⋅h₁₂⋅\n",
       "\n",
       "                                                        2                     \n",
       "h₂₁⋅h₃₂⋅v₀ + 2⋅h₁₁⋅h₁₂⋅h₂₂⋅h₃₁⋅v₀ - 2⋅h₁₁⋅h₁₂⋅h₃₁⋅h₃₂⋅v₀  + 2⋅h₁₁⋅h₂₁⋅h₂₂⋅h₃₂⋅\n",
       "\n",
       "              2             2    2        2                 2    2   2        \n",
       "u₀ - 2⋅h₁₁⋅h₂₂ ⋅h₃₁⋅u₀ + h₁₂ ⋅h₂₁  - 2⋅h₁₂ ⋅h₂₁⋅h₃₁⋅v₀ + h₁₂ ⋅h₃₁ ⋅v₀  - 2⋅h₁₂\n",
       "\n",
       "    2                                    2    2   2                       2   \n",
       "⋅h₂₁ ⋅h₃₂⋅u₀ + 2⋅h₁₂⋅h₂₁⋅h₂₂⋅h₃₁⋅u₀ + h₂₁ ⋅h₃₂ ⋅u₀  - 2⋅h₂₁⋅h₂₂⋅h₃₁⋅h₃₂⋅u₀  + \n",
       "\n",
       "   2    2   2\n",
       "h₂₂ ⋅h₃₁ ⋅u₀ "
      ]
     },
     "execution_count": 158,
     "metadata": {},
     "output_type": "execute_result"
    }
   ],
   "source": [
    "numer8=simplify(numer7-uv*u_0*v_0)\n",
    "numer8"
   ]
  },
  {
   "cell_type": "code",
   "execution_count": 159,
   "metadata": {
    "collapsed": false
   },
   "outputs": [
    {
     "data": {
      "text/latex": [
       "$$h_{11}^{2} h_{32}^{2} - 2 h_{11} h_{12} h_{31} h_{32} + h_{12}^{2} h_{31}^{2}$$"
      ],
      "text/plain": [
       "   2    2                          2    2\n",
       "h₁₁ ⋅h₃₂  - 2⋅h₁₁⋅h₁₂⋅h₃₁⋅h₃₂ + h₁₂ ⋅h₃₁ "
      ]
     },
     "execution_count": 159,
     "metadata": {},
     "output_type": "execute_result"
    }
   ],
   "source": [
    "v2=numer8.coeff(v_0**2)\n",
    "v2"
   ]
  },
  {
   "cell_type": "code",
   "execution_count": 160,
   "metadata": {
    "collapsed": false
   },
   "outputs": [
    {
     "data": {
      "text/latex": [
       "$$h_{11}^{2} h_{22}^{2} - 2 h_{11}^{2} h_{22} h_{32} v_{0} - 2 h_{11} h_{12} h_{21} h_{22} + 2 h_{11} h_{12} h_{21} h_{32} v_{0} + 2 h_{11} h_{12} h_{22} h_{31} v_{0} + 2 h_{11} h_{21} h_{22} h_{32} u_{0} - 2 h_{11} h_{22}^{2} h_{31} u_{0} + h_{12}^{2} h_{21}^{2} - 2 h_{12}^{2} h_{21} h_{31} v_{0} - 2 h_{12} h_{21}^{2} h_{32} u_{0} + 2 h_{12} h_{21} h_{22} h_{31} u_{0} + h_{21}^{2} h_{32}^{2} u_{0}^{2} - 2 h_{21} h_{22} h_{31} h_{32} u_{0}^{2} + h_{22}^{2} h_{31}^{2} u_{0}^{2}$$"
      ],
      "text/plain": [
       "   2    2        2                                                            \n",
       "h₁₁ ⋅h₂₂  - 2⋅h₁₁ ⋅h₂₂⋅h₃₂⋅v₀ - 2⋅h₁₁⋅h₁₂⋅h₂₁⋅h₂₂ + 2⋅h₁₁⋅h₁₂⋅h₂₁⋅h₃₂⋅v₀ + 2⋅h\n",
       "\n",
       "                                                    2             2    2      \n",
       "₁₁⋅h₁₂⋅h₂₂⋅h₃₁⋅v₀ + 2⋅h₁₁⋅h₂₁⋅h₂₂⋅h₃₂⋅u₀ - 2⋅h₁₁⋅h₂₂ ⋅h₃₁⋅u₀ + h₁₂ ⋅h₂₁  - 2⋅h\n",
       "\n",
       "  2                       2                                    2    2   2     \n",
       "₁₂ ⋅h₂₁⋅h₃₁⋅v₀ - 2⋅h₁₂⋅h₂₁ ⋅h₃₂⋅u₀ + 2⋅h₁₂⋅h₂₁⋅h₂₂⋅h₃₁⋅u₀ + h₂₁ ⋅h₃₂ ⋅u₀  - 2⋅\n",
       "\n",
       "                  2      2    2   2\n",
       "h₂₁⋅h₂₂⋅h₃₁⋅h₃₂⋅u₀  + h₂₂ ⋅h₃₁ ⋅u₀ "
      ]
     },
     "execution_count": 160,
     "metadata": {},
     "output_type": "execute_result"
    }
   ],
   "source": [
    "numer9=simplify(numer8-v2*v_0**2)\n",
    "numer9"
   ]
  },
  {
   "cell_type": "code",
   "execution_count": 161,
   "metadata": {
    "collapsed": false
   },
   "outputs": [
    {
     "data": {
      "text/latex": [
       "$$h_{21}^{2} h_{32}^{2} - 2 h_{21} h_{22} h_{31} h_{32} + h_{22}^{2} h_{31}^{2}$$"
      ],
      "text/plain": [
       "   2    2                          2    2\n",
       "h₂₁ ⋅h₃₂  - 2⋅h₂₁⋅h₂₂⋅h₃₁⋅h₃₂ + h₂₂ ⋅h₃₁ "
      ]
     },
     "execution_count": 161,
     "metadata": {},
     "output_type": "execute_result"
    }
   ],
   "source": [
    "u2=numer9.coeff(u_0**2)\n",
    "u2"
   ]
  },
  {
   "cell_type": "code",
   "execution_count": 162,
   "metadata": {
    "collapsed": false
   },
   "outputs": [
    {
     "data": {
      "text/latex": [
       "$$h_{11}^{2} h_{22}^{2} - 2 h_{11}^{2} h_{22} h_{32} v_{0} - 2 h_{11} h_{12} h_{21} h_{22} + 2 h_{11} h_{12} h_{21} h_{32} v_{0} + 2 h_{11} h_{12} h_{22} h_{31} v_{0} + 2 h_{11} h_{21} h_{22} h_{32} u_{0} - 2 h_{11} h_{22}^{2} h_{31} u_{0} + h_{12}^{2} h_{21}^{2} - 2 h_{12}^{2} h_{21} h_{31} v_{0} - 2 h_{12} h_{21}^{2} h_{32} u_{0} + 2 h_{12} h_{21} h_{22} h_{31} u_{0}$$"
      ],
      "text/plain": [
       "   2    2        2                                                            \n",
       "h₁₁ ⋅h₂₂  - 2⋅h₁₁ ⋅h₂₂⋅h₃₂⋅v₀ - 2⋅h₁₁⋅h₁₂⋅h₂₁⋅h₂₂ + 2⋅h₁₁⋅h₁₂⋅h₂₁⋅h₃₂⋅v₀ + 2⋅h\n",
       "\n",
       "                                                    2             2    2      \n",
       "₁₁⋅h₁₂⋅h₂₂⋅h₃₁⋅v₀ + 2⋅h₁₁⋅h₂₁⋅h₂₂⋅h₃₂⋅u₀ - 2⋅h₁₁⋅h₂₂ ⋅h₃₁⋅u₀ + h₁₂ ⋅h₂₁  - 2⋅h\n",
       "\n",
       "  2                       2                              \n",
       "₁₂ ⋅h₂₁⋅h₃₁⋅v₀ - 2⋅h₁₂⋅h₂₁ ⋅h₃₂⋅u₀ + 2⋅h₁₂⋅h₂₁⋅h₂₂⋅h₃₁⋅u₀"
      ]
     },
     "execution_count": 162,
     "metadata": {},
     "output_type": "execute_result"
    }
   ],
   "source": [
    "numer10 = simplify(numer9-u2*u_0**2)\n",
    "numer10"
   ]
  },
  {
   "cell_type": "code",
   "execution_count": 163,
   "metadata": {
    "collapsed": false
   },
   "outputs": [
    {
     "data": {
      "text/latex": [
       "$$2 h_{11} h_{21} h_{22} h_{32} - 2 h_{11} h_{22}^{2} h_{31} - 2 h_{12} h_{21}^{2} h_{32} + 2 h_{12} h_{21} h_{22} h_{31}$$"
      ],
      "text/plain": [
       "                             2                2                        \n",
       "2⋅h₁₁⋅h₂₁⋅h₂₂⋅h₃₂ - 2⋅h₁₁⋅h₂₂ ⋅h₃₁ - 2⋅h₁₂⋅h₂₁ ⋅h₃₂ + 2⋅h₁₂⋅h₂₁⋅h₂₂⋅h₃₁"
      ]
     },
     "execution_count": 163,
     "metadata": {},
     "output_type": "execute_result"
    }
   ],
   "source": [
    "u=numer10.coeff(u_0)\n",
    "u"
   ]
  },
  {
   "cell_type": "code",
   "execution_count": 164,
   "metadata": {
    "collapsed": false
   },
   "outputs": [
    {
     "data": {
      "text/latex": [
       "$$h_{11}^{2} h_{22}^{2} - 2 h_{11}^{2} h_{22} h_{32} v_{0} - 2 h_{11} h_{12} h_{21} h_{22} + 2 h_{11} h_{12} h_{21} h_{32} v_{0} + 2 h_{11} h_{12} h_{22} h_{31} v_{0} + h_{12}^{2} h_{21}^{2} - 2 h_{12}^{2} h_{21} h_{31} v_{0}$$"
      ],
      "text/plain": [
       "   2    2        2                                                            \n",
       "h₁₁ ⋅h₂₂  - 2⋅h₁₁ ⋅h₂₂⋅h₃₂⋅v₀ - 2⋅h₁₁⋅h₁₂⋅h₂₁⋅h₂₂ + 2⋅h₁₁⋅h₁₂⋅h₂₁⋅h₃₂⋅v₀ + 2⋅h\n",
       "\n",
       "                       2    2        2           \n",
       "₁₁⋅h₁₂⋅h₂₂⋅h₃₁⋅v₀ + h₁₂ ⋅h₂₁  - 2⋅h₁₂ ⋅h₂₁⋅h₃₁⋅v₀"
      ]
     },
     "execution_count": 164,
     "metadata": {},
     "output_type": "execute_result"
    }
   ],
   "source": [
    "numer11=simplify(numer10-u*u_0)\n",
    "numer11"
   ]
  },
  {
   "cell_type": "code",
   "execution_count": 165,
   "metadata": {
    "collapsed": false
   },
   "outputs": [
    {
     "data": {
      "text/latex": [
       "$$- 2 h_{11}^{2} h_{22} h_{32} + 2 h_{11} h_{12} h_{21} h_{32} + 2 h_{11} h_{12} h_{22} h_{31} - 2 h_{12}^{2} h_{21} h_{31}$$"
      ],
      "text/plain": [
       "       2                                                        2        \n",
       "- 2⋅h₁₁ ⋅h₂₂⋅h₃₂ + 2⋅h₁₁⋅h₁₂⋅h₂₁⋅h₃₂ + 2⋅h₁₁⋅h₁₂⋅h₂₂⋅h₃₁ - 2⋅h₁₂ ⋅h₂₁⋅h₃₁"
      ]
     },
     "execution_count": 165,
     "metadata": {},
     "output_type": "execute_result"
    }
   ],
   "source": [
    "v=numer11.coeff(v_0)\n",
    "v"
   ]
  },
  {
   "cell_type": "code",
   "execution_count": 166,
   "metadata": {
    "collapsed": false
   },
   "outputs": [
    {
     "data": {
      "text/latex": [
       "$$h_{11}^{2} h_{22}^{2} - 2 h_{11} h_{12} h_{21} h_{22} + h_{12}^{2} h_{21}^{2}$$"
      ],
      "text/plain": [
       "   2    2                          2    2\n",
       "h₁₁ ⋅h₂₂  - 2⋅h₁₁⋅h₁₂⋅h₂₁⋅h₂₂ + h₁₂ ⋅h₂₁ "
      ]
     },
     "execution_count": 166,
     "metadata": {},
     "output_type": "execute_result"
    }
   ],
   "source": [
    "numer12=simplify(numer11-v*v_0)\n",
    "numer12"
   ]
  },
  {
   "cell_type": "code",
   "execution_count": 167,
   "metadata": {
    "collapsed": true
   },
   "outputs": [],
   "source": [
    "known = numer12"
   ]
  },
  {
   "cell_type": "code",
   "execution_count": 168,
   "metadata": {
    "collapsed": false
   },
   "outputs": [
    {
     "data": {
      "text/latex": [
       "$$0$$"
      ],
      "text/plain": [
       "0"
      ]
     },
     "execution_count": 168,
     "metadata": {},
     "output_type": "execute_result"
    }
   ],
   "source": [
    "simplify(known+\\\n",
    "v*v_0+\\\n",
    "u*u_0+\\\n",
    "u2*u_0**2+\\\n",
    "v2*v_0**2+\\\n",
    "uv*u_0*v_0+\\\n",
    "b2*beta**2+\\\n",
    "b2u*beta**2*u_0+\\\n",
    "b2u2*beta**2*u_0**2+\\\n",
    "a2*alpha**2+\\\n",
    "a2v*alpha**2*v_0+\\\n",
    "a2v2*alpha**2*v_0**2+\\\n",
    "a2b2*alpha**2*beta**2-numer)"
   ]
  },
  {
   "cell_type": "code",
   "execution_count": 224,
   "metadata": {
    "collapsed": false
   },
   "outputs": [
    {
     "data": {
      "text/plain": [
       "'pow(h_11, 2)*pow(h_22, 2) - 2*h_11*h_12*h_21*h_22 + pow(h_12, 2)*pow(h_21, 2)'"
      ]
     },
     "execution_count": 224,
     "metadata": {},
     "output_type": "execute_result"
    }
   ],
   "source": [
    "ccode(known)"
   ]
  },
  {
   "cell_type": "code",
   "execution_count": 201,
   "metadata": {
    "collapsed": true
   },
   "outputs": [],
   "source": [
    "coeffs = []"
   ]
  },
  {
   "cell_type": "code",
   "execution_count": 202,
   "metadata": {
    "collapsed": false
   },
   "outputs": [
    {
     "data": {
      "text/plain": [
       "'-2*pow(h_11, 2)*h_22*h_32 + 2*h_11*h_12*h_21*h_32 + 2*h_11*h_12*h_22*h_31 - 2*pow(h_12, 2)*h_21*h_31'"
      ]
     },
     "execution_count": 202,
     "metadata": {},
     "output_type": "execute_result"
    }
   ],
   "source": [
    "coeffs.append(ccode(v))\n",
    "ccode(v)"
   ]
  },
  {
   "cell_type": "code",
   "execution_count": 203,
   "metadata": {
    "collapsed": false
   },
   "outputs": [
    {
     "data": {
      "text/plain": [
       "'2*h_11*h_21*h_22*h_32 - 2*h_11*pow(h_22, 2)*h_31 - 2*h_12*pow(h_21, 2)*h_32 + 2*h_12*h_21*h_22*h_31'"
      ]
     },
     "execution_count": 203,
     "metadata": {},
     "output_type": "execute_result"
    }
   ],
   "source": [
    "coeffs.append(ccode(u))\n",
    "ccode(u)"
   ]
  },
  {
   "cell_type": "code",
   "execution_count": 204,
   "metadata": {
    "collapsed": false
   },
   "outputs": [
    {
     "data": {
      "text/plain": [
       "'pow(h_21, 2)*pow(h_32, 2) - 2*h_21*h_22*h_31*h_32 + pow(h_22, 2)*pow(h_31, 2)'"
      ]
     },
     "execution_count": 204,
     "metadata": {},
     "output_type": "execute_result"
    }
   ],
   "source": [
    "coeffs.append(ccode(u2))\n",
    "ccode(u2)"
   ]
  },
  {
   "cell_type": "code",
   "execution_count": 205,
   "metadata": {
    "collapsed": false
   },
   "outputs": [
    {
     "data": {
      "text/plain": [
       "'pow(h_11, 2)*pow(h_32, 2) - 2*h_11*h_12*h_31*h_32 + pow(h_12, 2)*pow(h_31, 2)'"
      ]
     },
     "execution_count": 205,
     "metadata": {},
     "output_type": "execute_result"
    }
   ],
   "source": [
    "coeffs.append(ccode(v2))\n",
    "ccode(v2)"
   ]
  },
  {
   "cell_type": "code",
   "execution_count": 207,
   "metadata": {
    "collapsed": false
   },
   "outputs": [
    {
     "data": {
      "text/plain": [
       "'-2*h_11*h_21*pow(h_32, 2) + 2*h_11*h_22*h_31*h_32 + 2*h_12*h_21*h_31*h_32 - 2*h_12*h_22*pow(h_31, 2)'"
      ]
     },
     "execution_count": 207,
     "metadata": {},
     "output_type": "execute_result"
    }
   ],
   "source": [
    "coeffs.append(ccode(uv))\n",
    "ccode(uv)"
   ]
  },
  {
   "cell_type": "code",
   "execution_count": 208,
   "metadata": {
    "collapsed": false
   },
   "outputs": [
    {
     "data": {
      "text/plain": [
       "'pow(h_11, 2)*pow(h_32, 2) - pow(h_11, 2) - 2*h_11*h_12*h_31*h_32 + pow(h_12, 2)*pow(h_31, 2) - pow(h_12, 2)'"
      ]
     },
     "execution_count": 208,
     "metadata": {},
     "output_type": "execute_result"
    }
   ],
   "source": [
    "coeffs.append(ccode(b2))\n",
    "ccode(b2)"
   ]
  },
  {
   "cell_type": "code",
   "execution_count": 209,
   "metadata": {
    "collapsed": false
   },
   "outputs": [
    {
     "data": {
      "text/plain": [
       "'2*h_11*h_31 + 2*h_12*h_32'"
      ]
     },
     "execution_count": 209,
     "metadata": {},
     "output_type": "execute_result"
    }
   ],
   "source": [
    "coeffs.append(ccode(b2u))\n",
    "ccode(b2u)"
   ]
  },
  {
   "cell_type": "code",
   "execution_count": 210,
   "metadata": {
    "collapsed": false
   },
   "outputs": [
    {
     "data": {
      "text/plain": [
       "'-pow(h_31, 2) - pow(h_32, 2)'"
      ]
     },
     "execution_count": 210,
     "metadata": {},
     "output_type": "execute_result"
    }
   ],
   "source": [
    "coeffs.append(ccode(b2u2))\n",
    "ccode(b2u2)"
   ]
  },
  {
   "cell_type": "code",
   "execution_count": 211,
   "metadata": {
    "collapsed": false
   },
   "outputs": [
    {
     "data": {
      "text/plain": [
       "'pow(h_21, 2)*pow(h_32, 2) - pow(h_21, 2) - 2*h_21*h_22*h_31*h_32 + pow(h_22, 2)*pow(h_31, 2) - pow(h_22, 2)'"
      ]
     },
     "execution_count": 211,
     "metadata": {},
     "output_type": "execute_result"
    }
   ],
   "source": [
    "coeffs.append(ccode(a2))\n",
    "ccode(a2)"
   ]
  },
  {
   "cell_type": "code",
   "execution_count": 212,
   "metadata": {
    "collapsed": false
   },
   "outputs": [
    {
     "data": {
      "text/plain": [
       "'2*h_21*h_31 + 2*h_22*h_32'"
      ]
     },
     "execution_count": 212,
     "metadata": {},
     "output_type": "execute_result"
    }
   ],
   "source": [
    "coeffs.append(ccode(a2v))\n",
    "ccode(a2v)"
   ]
  },
  {
   "cell_type": "code",
   "execution_count": 213,
   "metadata": {
    "collapsed": false
   },
   "outputs": [
    {
     "data": {
      "text/plain": [
       "'-pow(h_31, 2) - pow(h_32, 2)'"
      ]
     },
     "execution_count": 213,
     "metadata": {},
     "output_type": "execute_result"
    }
   ],
   "source": [
    "coeffs.append(ccode(a2v2))\n",
    "ccode(a2v2)"
   ]
  },
  {
   "cell_type": "code",
   "execution_count": 214,
   "metadata": {
    "collapsed": false
   },
   "outputs": [
    {
     "data": {
      "text/plain": [
       "'-pow(h_31, 2) - pow(h_32, 2) + 1'"
      ]
     },
     "execution_count": 214,
     "metadata": {},
     "output_type": "execute_result"
    }
   ],
   "source": [
    "coeffs.append(ccode(a2b2))\n",
    "ccode(a2b2)"
   ]
  },
  {
   "cell_type": "code",
   "execution_count": 223,
   "metadata": {
    "collapsed": false
   },
   "outputs": [
    {
     "name": "stdout",
     "output_type": "stream",
     "text": [
      "7 10\n",
      "10 7\n"
     ]
    }
   ],
   "source": [
    "index = range(0,len(coeffs))\n",
    "for i in index:\n",
    "    for j in index:\n",
    "        if ( i!=j and coeffs[i]==coeffs[j]):\n",
    "            print i,j"
   ]
  }
 ],
 "metadata": {
  "kernelspec": {
   "display_name": "Python 2",
   "language": "python",
   "name": "python2"
  },
  "language_info": {
   "codemirror_mode": {
    "name": "ipython",
    "version": 2
   },
   "file_extension": ".py",
   "mimetype": "text/x-python",
   "name": "python",
   "nbconvert_exporter": "python",
   "pygments_lexer": "ipython2",
   "version": "2.7.11"
  }
 },
 "nbformat": 4,
 "nbformat_minor": 0
}
