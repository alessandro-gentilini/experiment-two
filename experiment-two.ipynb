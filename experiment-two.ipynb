{
 "cells": [
  {
   "cell_type": "code",
   "execution_count": 1,
   "metadata": {
    "collapsed": false,
    "scrolled": false
   },
   "outputs": [
    {
     "data": {
      "text/latex": [
       "$$\\left[\\begin{matrix}\\alpha & \\gamma & 0 & u_{0}\\\\0 & \\beta & 0 & v_{0}\\\\0 & 0 & 0 & 1\\end{matrix}\\right]$$"
      ],
      "text/plain": [
       "⎡α  γ  0  u₀⎤\n",
       "⎢           ⎥\n",
       "⎢0  β  0  v₀⎥\n",
       "⎢           ⎥\n",
       "⎣0  0  0  1 ⎦"
      ]
     },
     "execution_count": 1,
     "metadata": {},
     "output_type": "execute_result"
    }
   ],
   "source": [
    "from sympy import *\n",
    "init_printing(use_latex='mathjax')\n",
    "r11, r12, r13 = symbols('r_11 r_12 r_13')\n",
    "r21, r22, r23 = symbols('r_21 r_22 r_23')\n",
    "r31, r32, r33 = symbols('r_31 r_32 r_33')\n",
    "R = Matrix([[r11, r12, r13], [r21, r22, r23], [r31, r32, r33]])\n",
    "\n",
    "t_1, t_2, t_3 = symbols('t_1 t_2 t_3')\n",
    "T = Matrix([[t_1], [t_2], [t_3]])\n",
    "\n",
    "X, Y, Z = symbols('X Y Z')\n",
    "P = Matrix([[X], [Y], [Z], [1]])\n",
    "\n",
    "\n",
    "\n",
    "alpha, beta, gamma = symbols('alpha beta gamma')\n",
    "u_0, v_0 = symbols('u_0 v_0')\n",
    "g = symbols('g')\n",
    "K= Matrix([[alpha, gamma, 0, u_0], [0, beta, 0, v_0], [0,0,0,1]] )\n",
    "\n",
    "K"
   ]
  },
  {
   "cell_type": "code",
   "execution_count": 2,
   "metadata": {
    "collapsed": false
   },
   "outputs": [
    {
     "data": {
      "text/latex": [
       "$$\\left[\\begin{matrix}r_{11} & r_{12} & r_{13}\\\\r_{21} & r_{22} & r_{23}\\\\r_{31} & r_{32} & r_{33}\\end{matrix}\\right]$$"
      ],
      "text/plain": [
       "⎡r₁₁  r₁₂  r₁₃⎤\n",
       "⎢             ⎥\n",
       "⎢r₂₁  r₂₂  r₂₃⎥\n",
       "⎢             ⎥\n",
       "⎣r₃₁  r₃₂  r₃₃⎦"
      ]
     },
     "execution_count": 2,
     "metadata": {},
     "output_type": "execute_result"
    }
   ],
   "source": [
    "R"
   ]
  },
  {
   "cell_type": "code",
   "execution_count": 3,
   "metadata": {
    "collapsed": false
   },
   "outputs": [
    {
     "data": {
      "text/latex": [
       "$$\\left[\\begin{matrix}t_{1}\\\\t_{2}\\\\t_{3}\\end{matrix}\\right]$$"
      ],
      "text/plain": [
       "⎡t₁⎤\n",
       "⎢  ⎥\n",
       "⎢t₂⎥\n",
       "⎢  ⎥\n",
       "⎣t₃⎦"
      ]
     },
     "execution_count": 3,
     "metadata": {},
     "output_type": "execute_result"
    }
   ],
   "source": [
    "T"
   ]
  },
  {
   "cell_type": "code",
   "execution_count": 4,
   "metadata": {
    "collapsed": false
   },
   "outputs": [
    {
     "data": {
      "text/latex": [
       "$$\\left[\\begin{matrix}r_{11} & r_{12} & r_{13} & t_{1}\\\\r_{21} & r_{22} & r_{23} & t_{2}\\\\r_{31} & r_{32} & r_{33} & t_{3}\\end{matrix}\\right]$$"
      ],
      "text/plain": [
       "⎡r₁₁  r₁₂  r₁₃  t₁⎤\n",
       "⎢                 ⎥\n",
       "⎢r₂₁  r₂₂  r₂₃  t₂⎥\n",
       "⎢                 ⎥\n",
       "⎣r₃₁  r₃₂  r₃₃  t₃⎦"
      ]
     },
     "execution_count": 4,
     "metadata": {},
     "output_type": "execute_result"
    }
   ],
   "source": [
    "E=R.row_join(T)\n",
    "E"
   ]
  },
  {
   "cell_type": "code",
   "execution_count": 5,
   "metadata": {
    "collapsed": false
   },
   "outputs": [],
   "source": [
    "last_row = Matrix([[0],[0],[0],[1]])\n",
    "last_row.T\n",
    "E=E.col_join(last_row.T)"
   ]
  },
  {
   "cell_type": "code",
   "execution_count": 6,
   "metadata": {
    "collapsed": false
   },
   "outputs": [
    {
     "data": {
      "text/latex": [
       "$$\\left[\\begin{matrix}r_{11} & r_{12} & r_{13} & t_{1}\\\\r_{21} & r_{22} & r_{23} & t_{2}\\\\r_{31} & r_{32} & r_{33} & t_{3}\\\\0 & 0 & 0 & 1\\end{matrix}\\right]$$"
      ],
      "text/plain": [
       "⎡r₁₁  r₁₂  r₁₃  t₁⎤\n",
       "⎢                 ⎥\n",
       "⎢r₂₁  r₂₂  r₂₃  t₂⎥\n",
       "⎢                 ⎥\n",
       "⎢r₃₁  r₃₂  r₃₃  t₃⎥\n",
       "⎢                 ⎥\n",
       "⎣ 0    0    0   1 ⎦"
      ]
     },
     "execution_count": 6,
     "metadata": {},
     "output_type": "execute_result"
    }
   ],
   "source": [
    "E"
   ]
  },
  {
   "cell_type": "code",
   "execution_count": 7,
   "metadata": {
    "collapsed": false
   },
   "outputs": [
    {
     "data": {
      "text/latex": [
       "$$\\left[\\begin{matrix}X \\left(\\alpha r_{11} + \\gamma r_{21}\\right) + Y \\left(\\alpha r_{12} + \\gamma r_{22}\\right) + Z \\left(\\alpha r_{13} + \\gamma r_{23}\\right) + \\alpha t_{1} + \\gamma t_{2} + u_{0}\\\\X \\beta r_{21} + Y \\beta r_{22} + Z \\beta r_{23} + \\beta t_{2} + v_{0}\\\\1\\end{matrix}\\right]$$"
      ],
      "text/plain": [
       "⎡X⋅(α⋅r₁₁ + γ⋅r₂₁) + Y⋅(α⋅r₁₂ + γ⋅r₂₂) + Z⋅(α⋅r₁₃ + γ⋅r₂₃) + α⋅t₁ + γ⋅t₂ + u₀⎤\n",
       "⎢                                                                            ⎥\n",
       "⎢                  X⋅β⋅r₂₁ + Y⋅β⋅r₂₂ + Z⋅β⋅r₂₃ + β⋅t₂ + v₀                   ⎥\n",
       "⎢                                                                            ⎥\n",
       "⎣                                     1                                      ⎦"
      ]
     },
     "execution_count": 7,
     "metadata": {},
     "output_type": "execute_result"
    }
   ],
   "source": [
    "K*E*P"
   ]
  },
  {
   "cell_type": "code",
   "execution_count": 8,
   "metadata": {
    "collapsed": false
   },
   "outputs": [
    {
     "data": {
      "text/latex": [
       "$$\\left[\\begin{matrix}\\alpha & \\gamma & u_{0}\\\\0 & \\beta & v_{0}\\\\0 & 0 & 1\\end{matrix}\\right]$$"
      ],
      "text/plain": [
       "⎡α  γ  u₀⎤\n",
       "⎢        ⎥\n",
       "⎢0  β  v₀⎥\n",
       "⎢        ⎥\n",
       "⎣0  0  1 ⎦"
      ]
     },
     "execution_count": 8,
     "metadata": {},
     "output_type": "execute_result"
    }
   ],
   "source": [
    "K_s=Matrix([[alpha, gamma, u_0], [0, beta, v_0], [0,0,1]] )\n",
    "K_s"
   ]
  },
  {
   "cell_type": "code",
   "execution_count": 9,
   "metadata": {
    "collapsed": false
   },
   "outputs": [
    {
     "data": {
      "text/latex": [
       "$$\\left[\\begin{matrix}\\alpha & 0 & u_{0}\\\\0 & \\beta & v_{0}\\\\0 & 0 & 1\\end{matrix}\\right]$$"
      ],
      "text/plain": [
       "⎡α  0  u₀⎤\n",
       "⎢        ⎥\n",
       "⎢0  β  v₀⎥\n",
       "⎢        ⎥\n",
       "⎣0  0  1 ⎦"
      ]
     },
     "execution_count": 9,
     "metadata": {},
     "output_type": "execute_result"
    }
   ],
   "source": [
    "#K_s = K_s.subs(u_0,0)\n",
    "#K_s = K_s.subs(v_0,0)\n",
    "K_s = K_s.subs(gamma,0)\n",
    "K_s"
   ]
  },
  {
   "cell_type": "code",
   "execution_count": 10,
   "metadata": {
    "collapsed": false
   },
   "outputs": [
    {
     "data": {
      "text/latex": [
       "$$\\left[\\begin{matrix}r_{11} & r_{12} & t_{1}\\\\r_{21} & r_{22} & t_{2}\\\\0 & 0 & 1\\end{matrix}\\right]$$"
      ],
      "text/plain": [
       "⎡r₁₁  r₁₂  t₁⎤\n",
       "⎢            ⎥\n",
       "⎢r₂₁  r₂₂  t₂⎥\n",
       "⎢            ⎥\n",
       "⎣ 0    0   1 ⎦"
      ]
     },
     "execution_count": 10,
     "metadata": {},
     "output_type": "execute_result"
    }
   ],
   "source": [
    "E_s= Matrix([[r11, r12, t_1], [r21, r22, t_2], [0, 0, 1]])\n",
    "E_s"
   ]
  },
  {
   "cell_type": "code",
   "execution_count": 11,
   "metadata": {
    "collapsed": true
   },
   "outputs": [],
   "source": [
    "P_s=Matrix([[X], [Y], [1]])"
   ]
  },
  {
   "cell_type": "code",
   "execution_count": 12,
   "metadata": {
    "collapsed": false
   },
   "outputs": [
    {
     "data": {
      "text/latex": [
       "$$\\left[\\begin{matrix}X \\alpha r_{11} + Y \\alpha r_{12} + \\alpha t_{1} + u_{0}\\\\X \\beta r_{21} + Y \\beta r_{22} + \\beta t_{2} + v_{0}\\\\1\\end{matrix}\\right]$$"
      ],
      "text/plain": [
       "⎡X⋅α⋅r₁₁ + Y⋅α⋅r₁₂ + α⋅t₁ + u₀⎤\n",
       "⎢                             ⎥\n",
       "⎢X⋅β⋅r₂₁ + Y⋅β⋅r₂₂ + β⋅t₂ + v₀⎥\n",
       "⎢                             ⎥\n",
       "⎣              1              ⎦"
      ]
     },
     "execution_count": 12,
     "metadata": {},
     "output_type": "execute_result"
    }
   ],
   "source": [
    "K_s*E_s*P_s"
   ]
  },
  {
   "cell_type": "code",
   "execution_count": 13,
   "metadata": {
    "collapsed": false
   },
   "outputs": [
    {
     "data": {
      "text/latex": [
       "$$\\left[\\begin{matrix}h_{11} & h_{12} & h_{13}\\\\h_{21} & h_{22} & h_{23}\\\\h_{31} & h_{32} & h_{33}\\end{matrix}\\right]$$"
      ],
      "text/plain": [
       "⎡h₁₁  h₁₂  h₁₃⎤\n",
       "⎢             ⎥\n",
       "⎢h₂₁  h₂₂  h₂₃⎥\n",
       "⎢             ⎥\n",
       "⎣h₃₁  h₃₂  h₃₃⎦"
      ]
     },
     "execution_count": 13,
     "metadata": {},
     "output_type": "execute_result"
    }
   ],
   "source": [
    "h11, h12, h13 = symbols('h_11 h_12 h_13')\n",
    "h21, h22, h23 = symbols('h_21 h_22 h_23')\n",
    "h31, h32, h33 = symbols('h_31 h_32 h_33')\n",
    "H = Matrix([[h11, h12, h13], [h21, h22, h23], [h31, h32, h33]])\n",
    "H"
   ]
  },
  {
   "cell_type": "code",
   "execution_count": 14,
   "metadata": {
    "collapsed": false
   },
   "outputs": [
    {
     "data": {
      "text/latex": [
       "$$\\left[\\begin{matrix}\\frac{1}{\\alpha} & 0 & - \\frac{u_{0}}{\\alpha}\\\\0 & \\frac{1}{\\beta} & - \\frac{v_{0}}{\\beta}\\\\0 & 0 & 1\\end{matrix}\\right]$$"
      ],
      "text/plain": [
       "⎡1     -u₀ ⎤\n",
       "⎢─  0  ────⎥\n",
       "⎢α      α  ⎥\n",
       "⎢          ⎥\n",
       "⎢   1  -v₀ ⎥\n",
       "⎢0  ─  ────⎥\n",
       "⎢   β   β  ⎥\n",
       "⎢          ⎥\n",
       "⎣0  0   1  ⎦"
      ]
     },
     "execution_count": 14,
     "metadata": {},
     "output_type": "execute_result"
    }
   ],
   "source": [
    "K_s.inv()"
   ]
  },
  {
   "cell_type": "code",
   "execution_count": 15,
   "metadata": {
    "collapsed": false
   },
   "outputs": [
    {
     "data": {
      "text/latex": [
       "$$\\left[\\begin{matrix}\\frac{h_{11}}{\\alpha} - \\frac{h_{31} u_{0}}{\\alpha} & \\frac{h_{12}}{\\alpha} - \\frac{h_{32} u_{0}}{\\alpha} & \\frac{h_{13}}{\\alpha} - \\frac{h_{33} u_{0}}{\\alpha}\\\\\\frac{h_{21}}{\\beta} - \\frac{h_{31} v_{0}}{\\beta} & \\frac{h_{22}}{\\beta} - \\frac{h_{32} v_{0}}{\\beta} & \\frac{h_{23}}{\\beta} - \\frac{h_{33} v_{0}}{\\beta}\\\\h_{31} & h_{32} & h_{33}\\end{matrix}\\right]$$"
      ],
      "text/plain": [
       "⎡h₁₁   h₃₁⋅u₀  h₁₂   h₃₂⋅u₀  h₁₃   h₃₃⋅u₀⎤\n",
       "⎢─── - ──────  ─── - ──────  ─── - ──────⎥\n",
       "⎢ α      α      α      α      α      α   ⎥\n",
       "⎢                                        ⎥\n",
       "⎢h₂₁   h₃₁⋅v₀  h₂₂   h₃₂⋅v₀  h₂₃   h₃₃⋅v₀⎥\n",
       "⎢─── - ──────  ─── - ──────  ─── - ──────⎥\n",
       "⎢ β      β      β      β      β      β   ⎥\n",
       "⎢                                        ⎥\n",
       "⎣    h₃₁           h₃₂           h₃₃     ⎦"
      ]
     },
     "execution_count": 15,
     "metadata": {},
     "output_type": "execute_result"
    }
   ],
   "source": [
    "K_s.inv()*H"
   ]
  },
  {
   "cell_type": "code",
   "execution_count": 16,
   "metadata": {
    "collapsed": false
   },
   "outputs": [
    {
     "data": {
      "text/latex": [
       "$$\\left[\\begin{matrix}h_{31}^{2} + \\left(\\frac{h_{11}}{\\alpha} - \\frac{h_{31} u_{0}}{\\alpha}\\right)^{2} + \\left(\\frac{h_{21}}{\\beta} - \\frac{h_{31} v_{0}}{\\beta}\\right)^{2} & h_{31} h_{32} + \\left(\\frac{h_{11}}{\\alpha} - \\frac{h_{31} u_{0}}{\\alpha}\\right) \\left(\\frac{h_{12}}{\\alpha} - \\frac{h_{32} u_{0}}{\\alpha}\\right) + \\left(\\frac{h_{21}}{\\beta} - \\frac{h_{31} v_{0}}{\\beta}\\right) \\left(\\frac{h_{22}}{\\beta} - \\frac{h_{32} v_{0}}{\\beta}\\right) & h_{31} h_{33} + \\left(\\frac{h_{11}}{\\alpha} - \\frac{h_{31} u_{0}}{\\alpha}\\right) \\left(\\frac{h_{13}}{\\alpha} - \\frac{h_{33} u_{0}}{\\alpha}\\right) + \\left(\\frac{h_{21}}{\\beta} - \\frac{h_{31} v_{0}}{\\beta}\\right) \\left(\\frac{h_{23}}{\\beta} - \\frac{h_{33} v_{0}}{\\beta}\\right)\\\\h_{31} h_{32} + \\left(\\frac{h_{11}}{\\alpha} - \\frac{h_{31} u_{0}}{\\alpha}\\right) \\left(\\frac{h_{12}}{\\alpha} - \\frac{h_{32} u_{0}}{\\alpha}\\right) + \\left(\\frac{h_{21}}{\\beta} - \\frac{h_{31} v_{0}}{\\beta}\\right) \\left(\\frac{h_{22}}{\\beta} - \\frac{h_{32} v_{0}}{\\beta}\\right) & h_{32}^{2} + \\left(\\frac{h_{12}}{\\alpha} - \\frac{h_{32} u_{0}}{\\alpha}\\right)^{2} + \\left(\\frac{h_{22}}{\\beta} - \\frac{h_{32} v_{0}}{\\beta}\\right)^{2} & h_{32} h_{33} + \\left(\\frac{h_{12}}{\\alpha} - \\frac{h_{32} u_{0}}{\\alpha}\\right) \\left(\\frac{h_{13}}{\\alpha} - \\frac{h_{33} u_{0}}{\\alpha}\\right) + \\left(\\frac{h_{22}}{\\beta} - \\frac{h_{32} v_{0}}{\\beta}\\right) \\left(\\frac{h_{23}}{\\beta} - \\frac{h_{33} v_{0}}{\\beta}\\right)\\\\h_{31} h_{33} + \\left(\\frac{h_{11}}{\\alpha} - \\frac{h_{31} u_{0}}{\\alpha}\\right) \\left(\\frac{h_{13}}{\\alpha} - \\frac{h_{33} u_{0}}{\\alpha}\\right) + \\left(\\frac{h_{21}}{\\beta} - \\frac{h_{31} v_{0}}{\\beta}\\right) \\left(\\frac{h_{23}}{\\beta} - \\frac{h_{33} v_{0}}{\\beta}\\right) & h_{32} h_{33} + \\left(\\frac{h_{12}}{\\alpha} - \\frac{h_{32} u_{0}}{\\alpha}\\right) \\left(\\frac{h_{13}}{\\alpha} - \\frac{h_{33} u_{0}}{\\alpha}\\right) + \\left(\\frac{h_{22}}{\\beta} - \\frac{h_{32} v_{0}}{\\beta}\\right) \\left(\\frac{h_{23}}{\\beta} - \\frac{h_{33} v_{0}}{\\beta}\\right) & h_{33}^{2} + \\left(\\frac{h_{13}}{\\alpha} - \\frac{h_{33} u_{0}}{\\alpha}\\right)^{2} + \\left(\\frac{h_{23}}{\\beta} - \\frac{h_{33} v_{0}}{\\beta}\\right)^{2}\\end{matrix}\\right]$$"
      ],
      "text/plain": [
       "⎡                                    2                 2                      \n",
       "⎢                  2   ⎛h₁₁   h₃₁⋅u₀⎞    ⎛h₂₁   h₃₁⋅v₀⎞                       \n",
       "⎢               h₃₁  + ⎜─── - ──────⎟  + ⎜─── - ──────⎟                   h₃₁⋅\n",
       "⎢                      ⎝ α      α   ⎠    ⎝ β      β   ⎠                       \n",
       "⎢                                                                             \n",
       "⎢                                                                             \n",
       "⎢          ⎛h₁₁   h₃₁⋅u₀⎞ ⎛h₁₂   h₃₂⋅u₀⎞   ⎛h₂₁   h₃₁⋅v₀⎞ ⎛h₂₂   h₃₂⋅v₀⎞      \n",
       "⎢h₃₁⋅h₃₂ + ⎜─── - ──────⎟⋅⎜─── - ──────⎟ + ⎜─── - ──────⎟⋅⎜─── - ──────⎟      \n",
       "⎢          ⎝ α      α   ⎠ ⎝ α      α   ⎠   ⎝ β      β   ⎠ ⎝ β      β   ⎠      \n",
       "⎢                                                                             \n",
       "⎢                                                                             \n",
       "⎢          ⎛h₁₁   h₃₁⋅u₀⎞ ⎛h₁₃   h₃₃⋅u₀⎞   ⎛h₂₁   h₃₁⋅v₀⎞ ⎛h₂₃   h₃₃⋅v₀⎞      \n",
       "⎢h₃₁⋅h₃₃ + ⎜─── - ──────⎟⋅⎜─── - ──────⎟ + ⎜─── - ──────⎟⋅⎜─── - ──────⎟  h₃₂⋅\n",
       "⎣          ⎝ α      α   ⎠ ⎝ α      α   ⎠   ⎝ β      β   ⎠ ⎝ β      β   ⎠      \n",
       "\n",
       "                                                                              \n",
       "      ⎛h₁₁   h₃₁⋅u₀⎞ ⎛h₁₂   h₃₂⋅u₀⎞   ⎛h₂₁   h₃₁⋅v₀⎞ ⎛h₂₂   h₃₂⋅v₀⎞           \n",
       "h₃₂ + ⎜─── - ──────⎟⋅⎜─── - ──────⎟ + ⎜─── - ──────⎟⋅⎜─── - ──────⎟  h₃₁⋅h₃₃ +\n",
       "      ⎝ α      α   ⎠ ⎝ α      α   ⎠   ⎝ β      β   ⎠ ⎝ β      β   ⎠           \n",
       "                                                                              \n",
       "                                2                 2                           \n",
       "              2   ⎛h₁₂   h₃₂⋅u₀⎞    ⎛h₂₂   h₃₂⋅v₀⎞                            \n",
       "           h₃₂  + ⎜─── - ──────⎟  + ⎜─── - ──────⎟                   h₃₂⋅h₃₃ +\n",
       "                  ⎝ α      α   ⎠    ⎝ β      β   ⎠                            \n",
       "                                                                              \n",
       "                                                                              \n",
       "      ⎛h₁₂   h₃₂⋅u₀⎞ ⎛h₁₃   h₃₃⋅u₀⎞   ⎛h₂₂   h₃₂⋅v₀⎞ ⎛h₂₃   h₃₃⋅v₀⎞           \n",
       "h₃₃ + ⎜─── - ──────⎟⋅⎜─── - ──────⎟ + ⎜─── - ──────⎟⋅⎜─── - ──────⎟           \n",
       "      ⎝ α      α   ⎠ ⎝ α      α   ⎠   ⎝ β      β   ⎠ ⎝ β      β   ⎠           \n",
       "\n",
       "                                                              ⎤\n",
       " ⎛h₁₁   h₃₁⋅u₀⎞ ⎛h₁₃   h₃₃⋅u₀⎞   ⎛h₂₁   h₃₁⋅v₀⎞ ⎛h₂₃   h₃₃⋅v₀⎞⎥\n",
       " ⎜─── - ──────⎟⋅⎜─── - ──────⎟ + ⎜─── - ──────⎟⋅⎜─── - ──────⎟⎥\n",
       " ⎝ α      α   ⎠ ⎝ α      α   ⎠   ⎝ β      β   ⎠ ⎝ β      β   ⎠⎥\n",
       "                                                              ⎥\n",
       "                                                              ⎥\n",
       " ⎛h₁₂   h₃₂⋅u₀⎞ ⎛h₁₃   h₃₃⋅u₀⎞   ⎛h₂₂   h₃₂⋅v₀⎞ ⎛h₂₃   h₃₃⋅v₀⎞⎥\n",
       " ⎜─── - ──────⎟⋅⎜─── - ──────⎟ + ⎜─── - ──────⎟⋅⎜─── - ──────⎟⎥\n",
       " ⎝ α      α   ⎠ ⎝ α      α   ⎠   ⎝ β      β   ⎠ ⎝ β      β   ⎠⎥\n",
       "                                                              ⎥\n",
       "                           2                 2                ⎥\n",
       "         2   ⎛h₁₃   h₃₃⋅u₀⎞    ⎛h₂₃   h₃₃⋅v₀⎞                 ⎥\n",
       "      h₃₃  + ⎜─── - ──────⎟  + ⎜─── - ──────⎟                 ⎥\n",
       "             ⎝ α      α   ⎠    ⎝ β      β   ⎠                 ⎦"
      ]
     },
     "execution_count": 16,
     "metadata": {},
     "output_type": "execute_result"
    }
   ],
   "source": [
    "((K_s.inv()*H).T)*(K_s.inv()*H)"
   ]
  },
  {
   "cell_type": "code",
   "execution_count": 17,
   "metadata": {
    "collapsed": false
   },
   "outputs": [],
   "source": [
    "LHS_7=(H.T*K_s.inv().T)*(K_s.inv()*H)"
   ]
  },
  {
   "cell_type": "code",
   "execution_count": 18,
   "metadata": {
    "collapsed": false
   },
   "outputs": [
    {
     "data": {
      "text/latex": [
       "$$\\left[\\begin{matrix}h_{31}^{2} + \\left(\\frac{h_{11}}{\\alpha} - \\frac{h_{31} u_{0}}{\\alpha}\\right)^{2} + \\left(\\frac{h_{21}}{\\beta} - \\frac{h_{31} v_{0}}{\\beta}\\right)^{2} & h_{31} h_{32} + \\left(\\frac{h_{11}}{\\alpha} - \\frac{h_{31} u_{0}}{\\alpha}\\right) \\left(\\frac{h_{12}}{\\alpha} - \\frac{h_{32} u_{0}}{\\alpha}\\right) + \\left(\\frac{h_{21}}{\\beta} - \\frac{h_{31} v_{0}}{\\beta}\\right) \\left(\\frac{h_{22}}{\\beta} - \\frac{h_{32} v_{0}}{\\beta}\\right) & h_{31} h_{33} + \\left(\\frac{h_{11}}{\\alpha} - \\frac{h_{31} u_{0}}{\\alpha}\\right) \\left(\\frac{h_{13}}{\\alpha} - \\frac{h_{33} u_{0}}{\\alpha}\\right) + \\left(\\frac{h_{21}}{\\beta} - \\frac{h_{31} v_{0}}{\\beta}\\right) \\left(\\frac{h_{23}}{\\beta} - \\frac{h_{33} v_{0}}{\\beta}\\right)\\\\h_{31} h_{32} + \\left(\\frac{h_{11}}{\\alpha} - \\frac{h_{31} u_{0}}{\\alpha}\\right) \\left(\\frac{h_{12}}{\\alpha} - \\frac{h_{32} u_{0}}{\\alpha}\\right) + \\left(\\frac{h_{21}}{\\beta} - \\frac{h_{31} v_{0}}{\\beta}\\right) \\left(\\frac{h_{22}}{\\beta} - \\frac{h_{32} v_{0}}{\\beta}\\right) & h_{32}^{2} + \\left(\\frac{h_{12}}{\\alpha} - \\frac{h_{32} u_{0}}{\\alpha}\\right)^{2} + \\left(\\frac{h_{22}}{\\beta} - \\frac{h_{32} v_{0}}{\\beta}\\right)^{2} & h_{32} h_{33} + \\left(\\frac{h_{12}}{\\alpha} - \\frac{h_{32} u_{0}}{\\alpha}\\right) \\left(\\frac{h_{13}}{\\alpha} - \\frac{h_{33} u_{0}}{\\alpha}\\right) + \\left(\\frac{h_{22}}{\\beta} - \\frac{h_{32} v_{0}}{\\beta}\\right) \\left(\\frac{h_{23}}{\\beta} - \\frac{h_{33} v_{0}}{\\beta}\\right)\\\\h_{31} h_{33} + \\left(\\frac{h_{11}}{\\alpha} - \\frac{h_{31} u_{0}}{\\alpha}\\right) \\left(\\frac{h_{13}}{\\alpha} - \\frac{h_{33} u_{0}}{\\alpha}\\right) + \\left(\\frac{h_{21}}{\\beta} - \\frac{h_{31} v_{0}}{\\beta}\\right) \\left(\\frac{h_{23}}{\\beta} - \\frac{h_{33} v_{0}}{\\beta}\\right) & h_{32} h_{33} + \\left(\\frac{h_{12}}{\\alpha} - \\frac{h_{32} u_{0}}{\\alpha}\\right) \\left(\\frac{h_{13}}{\\alpha} - \\frac{h_{33} u_{0}}{\\alpha}\\right) + \\left(\\frac{h_{22}}{\\beta} - \\frac{h_{32} v_{0}}{\\beta}\\right) \\left(\\frac{h_{23}}{\\beta} - \\frac{h_{33} v_{0}}{\\beta}\\right) & h_{33}^{2} + \\left(\\frac{h_{13}}{\\alpha} - \\frac{h_{33} u_{0}}{\\alpha}\\right)^{2} + \\left(\\frac{h_{23}}{\\beta} - \\frac{h_{33} v_{0}}{\\beta}\\right)^{2}\\end{matrix}\\right]$$"
      ],
      "text/plain": [
       "⎡                                    2                 2                      \n",
       "⎢                  2   ⎛h₁₁   h₃₁⋅u₀⎞    ⎛h₂₁   h₃₁⋅v₀⎞                       \n",
       "⎢               h₃₁  + ⎜─── - ──────⎟  + ⎜─── - ──────⎟                   h₃₁⋅\n",
       "⎢                      ⎝ α      α   ⎠    ⎝ β      β   ⎠                       \n",
       "⎢                                                                             \n",
       "⎢                                                                             \n",
       "⎢          ⎛h₁₁   h₃₁⋅u₀⎞ ⎛h₁₂   h₃₂⋅u₀⎞   ⎛h₂₁   h₃₁⋅v₀⎞ ⎛h₂₂   h₃₂⋅v₀⎞      \n",
       "⎢h₃₁⋅h₃₂ + ⎜─── - ──────⎟⋅⎜─── - ──────⎟ + ⎜─── - ──────⎟⋅⎜─── - ──────⎟      \n",
       "⎢          ⎝ α      α   ⎠ ⎝ α      α   ⎠   ⎝ β      β   ⎠ ⎝ β      β   ⎠      \n",
       "⎢                                                                             \n",
       "⎢                                                                             \n",
       "⎢          ⎛h₁₁   h₃₁⋅u₀⎞ ⎛h₁₃   h₃₃⋅u₀⎞   ⎛h₂₁   h₃₁⋅v₀⎞ ⎛h₂₃   h₃₃⋅v₀⎞      \n",
       "⎢h₃₁⋅h₃₃ + ⎜─── - ──────⎟⋅⎜─── - ──────⎟ + ⎜─── - ──────⎟⋅⎜─── - ──────⎟  h₃₂⋅\n",
       "⎣          ⎝ α      α   ⎠ ⎝ α      α   ⎠   ⎝ β      β   ⎠ ⎝ β      β   ⎠      \n",
       "\n",
       "                                                                              \n",
       "      ⎛h₁₁   h₃₁⋅u₀⎞ ⎛h₁₂   h₃₂⋅u₀⎞   ⎛h₂₁   h₃₁⋅v₀⎞ ⎛h₂₂   h₃₂⋅v₀⎞           \n",
       "h₃₂ + ⎜─── - ──────⎟⋅⎜─── - ──────⎟ + ⎜─── - ──────⎟⋅⎜─── - ──────⎟  h₃₁⋅h₃₃ +\n",
       "      ⎝ α      α   ⎠ ⎝ α      α   ⎠   ⎝ β      β   ⎠ ⎝ β      β   ⎠           \n",
       "                                                                              \n",
       "                                2                 2                           \n",
       "              2   ⎛h₁₂   h₃₂⋅u₀⎞    ⎛h₂₂   h₃₂⋅v₀⎞                            \n",
       "           h₃₂  + ⎜─── - ──────⎟  + ⎜─── - ──────⎟                   h₃₂⋅h₃₃ +\n",
       "                  ⎝ α      α   ⎠    ⎝ β      β   ⎠                            \n",
       "                                                                              \n",
       "                                                                              \n",
       "      ⎛h₁₂   h₃₂⋅u₀⎞ ⎛h₁₃   h₃₃⋅u₀⎞   ⎛h₂₂   h₃₂⋅v₀⎞ ⎛h₂₃   h₃₃⋅v₀⎞           \n",
       "h₃₃ + ⎜─── - ──────⎟⋅⎜─── - ──────⎟ + ⎜─── - ──────⎟⋅⎜─── - ──────⎟           \n",
       "      ⎝ α      α   ⎠ ⎝ α      α   ⎠   ⎝ β      β   ⎠ ⎝ β      β   ⎠           \n",
       "\n",
       "                                                              ⎤\n",
       " ⎛h₁₁   h₃₁⋅u₀⎞ ⎛h₁₃   h₃₃⋅u₀⎞   ⎛h₂₁   h₃₁⋅v₀⎞ ⎛h₂₃   h₃₃⋅v₀⎞⎥\n",
       " ⎜─── - ──────⎟⋅⎜─── - ──────⎟ + ⎜─── - ──────⎟⋅⎜─── - ──────⎟⎥\n",
       " ⎝ α      α   ⎠ ⎝ α      α   ⎠   ⎝ β      β   ⎠ ⎝ β      β   ⎠⎥\n",
       "                                                              ⎥\n",
       "                                                              ⎥\n",
       " ⎛h₁₂   h₃₂⋅u₀⎞ ⎛h₁₃   h₃₃⋅u₀⎞   ⎛h₂₂   h₃₂⋅v₀⎞ ⎛h₂₃   h₃₃⋅v₀⎞⎥\n",
       " ⎜─── - ──────⎟⋅⎜─── - ──────⎟ + ⎜─── - ──────⎟⋅⎜─── - ──────⎟⎥\n",
       " ⎝ α      α   ⎠ ⎝ α      α   ⎠   ⎝ β      β   ⎠ ⎝ β      β   ⎠⎥\n",
       "                                                              ⎥\n",
       "                           2                 2                ⎥\n",
       "         2   ⎛h₁₃   h₃₃⋅u₀⎞    ⎛h₂₃   h₃₃⋅v₀⎞                 ⎥\n",
       "      h₃₃  + ⎜─── - ──────⎟  + ⎜─── - ──────⎟                 ⎥\n",
       "             ⎝ α      α   ⎠    ⎝ β      β   ⎠                 ⎦"
      ]
     },
     "execution_count": 18,
     "metadata": {},
     "output_type": "execute_result"
    }
   ],
   "source": [
    "LHS_7"
   ]
  },
  {
   "cell_type": "code",
   "execution_count": 19,
   "metadata": {
    "collapsed": false
   },
   "outputs": [
    {
     "data": {
      "text/latex": [
       "$$\\left[\\begin{matrix}h_{31}^{2} + \\left(\\frac{h_{11}}{\\alpha} - \\frac{h_{31} u_{0}}{\\alpha}\\right)^{2} + \\left(\\frac{h_{21}}{\\beta} - \\frac{h_{31} v_{0}}{\\beta}\\right)^{2} & h_{31} h_{32} + \\left(\\frac{h_{11}}{\\alpha} - \\frac{h_{31} u_{0}}{\\alpha}\\right) \\left(\\frac{h_{12}}{\\alpha} - \\frac{h_{32} u_{0}}{\\alpha}\\right) + \\left(\\frac{h_{21}}{\\beta} - \\frac{h_{31} v_{0}}{\\beta}\\right) \\left(\\frac{h_{22}}{\\beta} - \\frac{h_{32} v_{0}}{\\beta}\\right)\\\\h_{31} h_{32} + \\left(\\frac{h_{11}}{\\alpha} - \\frac{h_{31} u_{0}}{\\alpha}\\right) \\left(\\frac{h_{12}}{\\alpha} - \\frac{h_{32} u_{0}}{\\alpha}\\right) + \\left(\\frac{h_{21}}{\\beta} - \\frac{h_{31} v_{0}}{\\beta}\\right) \\left(\\frac{h_{22}}{\\beta} - \\frac{h_{32} v_{0}}{\\beta}\\right) & h_{32}^{2} + \\left(\\frac{h_{12}}{\\alpha} - \\frac{h_{32} u_{0}}{\\alpha}\\right)^{2} + \\left(\\frac{h_{22}}{\\beta} - \\frac{h_{32} v_{0}}{\\beta}\\right)^{2}\\end{matrix}\\right]$$"
      ],
      "text/plain": [
       "⎡                                    2                 2                      \n",
       "⎢                  2   ⎛h₁₁   h₃₁⋅u₀⎞    ⎛h₂₁   h₃₁⋅v₀⎞                       \n",
       "⎢               h₃₁  + ⎜─── - ──────⎟  + ⎜─── - ──────⎟                   h₃₁⋅\n",
       "⎢                      ⎝ α      α   ⎠    ⎝ β      β   ⎠                       \n",
       "⎢                                                                             \n",
       "⎢                                                                             \n",
       "⎢          ⎛h₁₁   h₃₁⋅u₀⎞ ⎛h₁₂   h₃₂⋅u₀⎞   ⎛h₂₁   h₃₁⋅v₀⎞ ⎛h₂₂   h₃₂⋅v₀⎞      \n",
       "⎢h₃₁⋅h₃₂ + ⎜─── - ──────⎟⋅⎜─── - ──────⎟ + ⎜─── - ──────⎟⋅⎜─── - ──────⎟      \n",
       "⎣          ⎝ α      α   ⎠ ⎝ α      α   ⎠   ⎝ β      β   ⎠ ⎝ β      β   ⎠      \n",
       "\n",
       "                                                                   ⎤\n",
       "      ⎛h₁₁   h₃₁⋅u₀⎞ ⎛h₁₂   h₃₂⋅u₀⎞   ⎛h₂₁   h₃₁⋅v₀⎞ ⎛h₂₂   h₃₂⋅v₀⎞⎥\n",
       "h₃₂ + ⎜─── - ──────⎟⋅⎜─── - ──────⎟ + ⎜─── - ──────⎟⋅⎜─── - ──────⎟⎥\n",
       "      ⎝ α      α   ⎠ ⎝ α      α   ⎠   ⎝ β      β   ⎠ ⎝ β      β   ⎠⎥\n",
       "                                                                   ⎥\n",
       "                                2                 2                ⎥\n",
       "              2   ⎛h₁₂   h₃₂⋅u₀⎞    ⎛h₂₂   h₃₂⋅v₀⎞                 ⎥\n",
       "           h₃₂  + ⎜─── - ──────⎟  + ⎜─── - ──────⎟                 ⎥\n",
       "                  ⎝ α      α   ⎠    ⎝ β      β   ⎠                 ⎦"
      ]
     },
     "execution_count": 19,
     "metadata": {},
     "output_type": "execute_result"
    }
   ],
   "source": [
    "LHS_7[0:2,0:2]"
   ]
  },
  {
   "cell_type": "code",
   "execution_count": 20,
   "metadata": {
    "collapsed": false
   },
   "outputs": [
    {
     "data": {
      "text/latex": [
       "$$\\left[\\begin{matrix}r_{11}^{2} + r_{21}^{2} & r_{11} r_{12} + r_{21} r_{22} & r_{11} t_{1} + r_{21} t_{2}\\\\r_{11} r_{12} + r_{21} r_{22} & r_{12}^{2} + r_{22}^{2} & r_{12} t_{1} + r_{22} t_{2}\\\\r_{11} t_{1} + r_{21} t_{2} & r_{12} t_{1} + r_{22} t_{2} & t_{1}^{2} + t_{2}^{2} + 1\\end{matrix}\\right]$$"
      ],
      "text/plain": [
       "⎡      2      2                                       ⎤\n",
       "⎢   r₁₁  + r₂₁      r₁₁⋅r₁₂ + r₂₁⋅r₂₂  r₁₁⋅t₁ + r₂₁⋅t₂⎥\n",
       "⎢                                                     ⎥\n",
       "⎢                         2      2                    ⎥\n",
       "⎢r₁₁⋅r₁₂ + r₂₁⋅r₂₂     r₁₂  + r₂₂      r₁₂⋅t₁ + r₂₂⋅t₂⎥\n",
       "⎢                                                     ⎥\n",
       "⎢                                         2     2     ⎥\n",
       "⎣ r₁₁⋅t₁ + r₂₁⋅t₂    r₁₂⋅t₁ + r₂₂⋅t₂    t₁  + t₂  + 1 ⎦"
      ]
     },
     "execution_count": 20,
     "metadata": {},
     "output_type": "execute_result"
    }
   ],
   "source": [
    "E_s.T*E_s"
   ]
  },
  {
   "cell_type": "code",
   "execution_count": 21,
   "metadata": {
    "collapsed": false
   },
   "outputs": [
    {
     "data": {
      "text/latex": [
       "$$\\left[\\begin{matrix}r_{11} & r_{12}\\\\r_{21} & r_{22}\\end{matrix}\\right]$$"
      ],
      "text/plain": [
       "⎡r₁₁  r₁₂⎤\n",
       "⎢        ⎥\n",
       "⎣r₂₁  r₂₂⎦"
      ]
     },
     "execution_count": 21,
     "metadata": {},
     "output_type": "execute_result"
    }
   ],
   "source": [
    "R_s=Matrix([[r11, r12],[r21, r22]])\n",
    "R_s"
   ]
  },
  {
   "cell_type": "code",
   "execution_count": 22,
   "metadata": {
    "collapsed": false
   },
   "outputs": [
    {
     "data": {
      "text/latex": [
       "$$\\left[\\begin{matrix}t_{1}\\\\t_{2}\\end{matrix}\\right]$$"
      ],
      "text/plain": [
       "⎡t₁⎤\n",
       "⎢  ⎥\n",
       "⎣t₂⎦"
      ]
     },
     "execution_count": 22,
     "metadata": {},
     "output_type": "execute_result"
    }
   ],
   "source": [
    "T_s=Matrix([[t_1],[t_2]])\n",
    "T_s\n",
    "            "
   ]
  },
  {
   "cell_type": "code",
   "execution_count": 23,
   "metadata": {
    "collapsed": false
   },
   "outputs": [
    {
     "data": {
      "text/latex": [
       "$$\\left[\\begin{matrix}\\alpha r_{11} & \\alpha r_{12} & \\alpha t_{1} + u_{0}\\\\\\beta r_{21} & \\beta r_{22} & \\beta t_{2} + v_{0}\\\\0 & 0 & 1\\end{matrix}\\right]$$"
      ],
      "text/plain": [
       "⎡α⋅r₁₁  α⋅r₁₂  α⋅t₁ + u₀⎤\n",
       "⎢                       ⎥\n",
       "⎢β⋅r₂₁  β⋅r₂₂  β⋅t₂ + v₀⎥\n",
       "⎢                       ⎥\n",
       "⎣  0      0        1    ⎦"
      ]
     },
     "execution_count": 23,
     "metadata": {},
     "output_type": "execute_result"
    }
   ],
   "source": [
    "K_s*E_s"
   ]
  },
  {
   "cell_type": "code",
   "execution_count": 24,
   "metadata": {
    "collapsed": false
   },
   "outputs": [
    {
     "data": {
      "text/latex": [
       "$$\\left[\\begin{matrix}r_{11}^{2} + r_{21}^{2} & r_{11} r_{12} + r_{21} r_{22}\\\\r_{11} r_{12} + r_{21} r_{22} & r_{12}^{2} + r_{22}^{2}\\end{matrix}\\right]$$"
      ],
      "text/plain": [
       "⎡      2      2                      ⎤\n",
       "⎢   r₁₁  + r₂₁      r₁₁⋅r₁₂ + r₂₁⋅r₂₂⎥\n",
       "⎢                                    ⎥\n",
       "⎢                         2      2   ⎥\n",
       "⎣r₁₁⋅r₁₂ + r₂₁⋅r₂₂     r₁₂  + r₂₂    ⎦"
      ]
     },
     "execution_count": 24,
     "metadata": {},
     "output_type": "execute_result"
    }
   ],
   "source": [
    "R_s.T*R_s"
   ]
  },
  {
   "cell_type": "code",
   "execution_count": 25,
   "metadata": {
    "collapsed": false
   },
   "outputs": [
    {
     "data": {
      "text/latex": [
       "$$\\left[\\begin{matrix}r_{11} t_{1} + r_{21} t_{2}\\\\r_{12} t_{1} + r_{22} t_{2}\\end{matrix}\\right]$$"
      ],
      "text/plain": [
       "⎡r₁₁⋅t₁ + r₂₁⋅t₂⎤\n",
       "⎢               ⎥\n",
       "⎣r₁₂⋅t₁ + r₂₂⋅t₂⎦"
      ]
     },
     "execution_count": 25,
     "metadata": {},
     "output_type": "execute_result"
    }
   ],
   "source": [
    "R_s.T*T_s"
   ]
  },
  {
   "cell_type": "code",
   "execution_count": 26,
   "metadata": {
    "collapsed": false
   },
   "outputs": [
    {
     "data": {
      "text/latex": [
       "$$\\left[\\begin{matrix}r_{11} t_{1} + r_{21} t_{2} & r_{12} t_{1} + r_{22} t_{2}\\end{matrix}\\right]$$"
      ],
      "text/plain": [
       "[r₁₁⋅t₁ + r₂₁⋅t₂  r₁₂⋅t₁ + r₂₂⋅t₂]"
      ]
     },
     "execution_count": 26,
     "metadata": {},
     "output_type": "execute_result"
    }
   ],
   "source": [
    "T_s.T*R_s"
   ]
  },
  {
   "cell_type": "code",
   "execution_count": 27,
   "metadata": {
    "collapsed": false
   },
   "outputs": [
    {
     "data": {
      "text/latex": [
       "$$\\left[\\begin{matrix}t_{1}^{2} + t_{2}^{2}\\end{matrix}\\right]$$"
      ],
      "text/plain": [
       "⎡  2     2⎤\n",
       "⎣t₁  + t₂ ⎦"
      ]
     },
     "execution_count": 27,
     "metadata": {},
     "output_type": "execute_result"
    }
   ],
   "source": [
    "T_s.T*T_s"
   ]
  },
  {
   "cell_type": "code",
   "execution_count": 28,
   "metadata": {
    "collapsed": false
   },
   "outputs": [
    {
     "data": {
      "text/latex": [
       "$$\\left[\\begin{matrix}1 & 0\\\\0 & 1\\end{matrix}\\right]$$"
      ],
      "text/plain": [
       "⎡1  0⎤\n",
       "⎢    ⎥\n",
       "⎣0  1⎦"
      ]
     },
     "execution_count": 28,
     "metadata": {},
     "output_type": "execute_result"
    }
   ],
   "source": [
    "I_2=Matrix([[1,0],[0,1]])\n",
    "I_2"
   ]
  },
  {
   "cell_type": "code",
   "execution_count": 29,
   "metadata": {
    "collapsed": false
   },
   "outputs": [
    {
     "data": {
      "text/latex": [
       "$$r_{11}^{2} r_{22}^{2} - r_{11}^{2} - 2 r_{11} r_{12} r_{21} r_{22} + r_{12}^{2} r_{21}^{2} - r_{12}^{2} - r_{21}^{2} - r_{22}^{2} + 1$$"
      ],
      "text/plain": [
       "   2    2      2                          2    2      2      2      2    \n",
       "r₁₁ ⋅r₂₂  - r₁₁  - 2⋅r₁₁⋅r₁₂⋅r₂₁⋅r₂₂ + r₁₂ ⋅r₂₁  - r₁₂  - r₂₁  - r₂₂  + 1"
      ]
     },
     "execution_count": 29,
     "metadata": {},
     "output_type": "execute_result"
    }
   ],
   "source": [
    "(R_s.T*R_s-I_2).det()"
   ]
  },
  {
   "cell_type": "code",
   "execution_count": 30,
   "metadata": {
    "collapsed": false
   },
   "outputs": [
    {
     "data": {
      "text/latex": [
       "$$- h_{31}^{2} - h_{32}^{2} + 1 + \\frac{1}{\\alpha^{2} \\beta^{2}} \\left(\\alpha^{2} h_{21}^{2} h_{32}^{2} - \\alpha^{2} h_{21}^{2} - 2 \\alpha^{2} h_{21} h_{22} h_{31} h_{32} + 2 \\alpha^{2} h_{21} h_{31} v_{0} + \\alpha^{2} h_{22}^{2} h_{31}^{2} - \\alpha^{2} h_{22}^{2} + 2 \\alpha^{2} h_{22} h_{32} v_{0} - \\alpha^{2} h_{31}^{2} v_{0}^{2} - \\alpha^{2} h_{32}^{2} v_{0}^{2} + \\beta^{2} h_{11}^{2} h_{32}^{2} - \\beta^{2} h_{11}^{2} - 2 \\beta^{2} h_{11} h_{12} h_{31} h_{32} + 2 \\beta^{2} h_{11} h_{31} u_{0} + \\beta^{2} h_{12}^{2} h_{31}^{2} - \\beta^{2} h_{12}^{2} + 2 \\beta^{2} h_{12} h_{32} u_{0} - \\beta^{2} h_{31}^{2} u_{0}^{2} - \\beta^{2} h_{32}^{2} u_{0}^{2} + h_{11}^{2} h_{22}^{2} - 2 h_{11}^{2} h_{22} h_{32} v_{0} + h_{11}^{2} h_{32}^{2} v_{0}^{2} - 2 h_{11} h_{12} h_{21} h_{22} + 2 h_{11} h_{12} h_{21} h_{32} v_{0} + 2 h_{11} h_{12} h_{22} h_{31} v_{0} - 2 h_{11} h_{12} h_{31} h_{32} v_{0}^{2} + 2 h_{11} h_{21} h_{22} h_{32} u_{0} - 2 h_{11} h_{21} h_{32}^{2} u_{0} v_{0} - 2 h_{11} h_{22}^{2} h_{31} u_{0} + 2 h_{11} h_{22} h_{31} h_{32} u_{0} v_{0} + h_{12}^{2} h_{21}^{2} - 2 h_{12}^{2} h_{21} h_{31} v_{0} + h_{12}^{2} h_{31}^{2} v_{0}^{2} - 2 h_{12} h_{21}^{2} h_{32} u_{0} + 2 h_{12} h_{21} h_{22} h_{31} u_{0} + 2 h_{12} h_{21} h_{31} h_{32} u_{0} v_{0} - 2 h_{12} h_{22} h_{31}^{2} u_{0} v_{0} + h_{21}^{2} h_{32}^{2} u_{0}^{2} - 2 h_{21} h_{22} h_{31} h_{32} u_{0}^{2} + h_{22}^{2} h_{31}^{2} u_{0}^{2}\\right)$$"
      ],
      "text/plain": [
       "                     2    2    2    2    2      2                      2      \n",
       "     2      2       α ⋅h₂₁ ⋅h₃₂  - α ⋅h₂₁  - 2⋅α ⋅h₂₁⋅h₂₂⋅h₃₁⋅h₃₂ + 2⋅α ⋅h₂₁⋅h\n",
       "- h₃₁  - h₃₂  + 1 + ──────────────────────────────────────────────────────────\n",
       "                                                                              \n",
       "                                                                              \n",
       "\n",
       "         2    2    2    2    2      2               2    2   2    2    2   2  \n",
       "₃₁⋅v₀ + α ⋅h₂₂ ⋅h₃₁  - α ⋅h₂₂  + 2⋅α ⋅h₂₂⋅h₃₂⋅v₀ - α ⋅h₃₁ ⋅v₀  - α ⋅h₃₂ ⋅v₀  +\n",
       "──────────────────────────────────────────────────────────────────────────────\n",
       "                                                                              \n",
       "                                                                              \n",
       "\n",
       "  2    2    2    2    2      2                      2               2    2    \n",
       " β ⋅h₁₁ ⋅h₃₂  - β ⋅h₁₁  - 2⋅β ⋅h₁₁⋅h₁₂⋅h₃₁⋅h₃₂ + 2⋅β ⋅h₁₁⋅h₃₁⋅u₀ + β ⋅h₁₂ ⋅h₃₁\n",
       "──────────────────────────────────────────────────────────────────────────────\n",
       "                                                                              \n",
       "                                                                              \n",
       "\n",
       "2    2    2      2               2    2   2    2    2   2      2    2        2\n",
       "  - β ⋅h₁₂  + 2⋅β ⋅h₁₂⋅h₃₂⋅u₀ - β ⋅h₃₁ ⋅u₀  - β ⋅h₃₂ ⋅u₀  + h₁₁ ⋅h₂₂  - 2⋅h₁₁ \n",
       "──────────────────────────────────────────────────────────────────────────────\n",
       "                                                                              \n",
       "                                                                              \n",
       "\n",
       "                 2    2   2                                                   \n",
       "⋅h₂₂⋅h₃₂⋅v₀ + h₁₁ ⋅h₃₂ ⋅v₀  - 2⋅h₁₁⋅h₁₂⋅h₂₁⋅h₂₂ + 2⋅h₁₁⋅h₁₂⋅h₂₁⋅h₃₂⋅v₀ + 2⋅h₁₁\n",
       "──────────────────────────────────────────────────────────────────────────────\n",
       "                                                       2  2                   \n",
       "                                                      α ⋅β                    \n",
       "\n",
       "                                      2                                       \n",
       "⋅h₁₂⋅h₂₂⋅h₃₁⋅v₀ - 2⋅h₁₁⋅h₁₂⋅h₃₁⋅h₃₂⋅v₀  + 2⋅h₁₁⋅h₂₁⋅h₂₂⋅h₃₂⋅u₀ - 2⋅h₁₁⋅h₂₁⋅h₃₂\n",
       "──────────────────────────────────────────────────────────────────────────────\n",
       "                                                                              \n",
       "                                                                              \n",
       "\n",
       "2                  2                                       2    2        2    \n",
       " ⋅u₀⋅v₀ - 2⋅h₁₁⋅h₂₂ ⋅h₃₁⋅u₀ + 2⋅h₁₁⋅h₂₂⋅h₃₁⋅h₃₂⋅u₀⋅v₀ + h₁₂ ⋅h₂₁  - 2⋅h₁₂ ⋅h₂₁\n",
       "──────────────────────────────────────────────────────────────────────────────\n",
       "                                                                              \n",
       "                                                                              \n",
       "\n",
       "             2    2   2            2                                          \n",
       "⋅h₃₁⋅v₀ + h₁₂ ⋅h₃₁ ⋅v₀  - 2⋅h₁₂⋅h₂₁ ⋅h₃₂⋅u₀ + 2⋅h₁₂⋅h₂₁⋅h₂₂⋅h₃₁⋅u₀ + 2⋅h₁₂⋅h₂₁\n",
       "──────────────────────────────────────────────────────────────────────────────\n",
       "                                                                              \n",
       "                                                                              \n",
       "\n",
       "                              2            2    2   2                       2 \n",
       "⋅h₃₁⋅h₃₂⋅u₀⋅v₀ - 2⋅h₁₂⋅h₂₂⋅h₃₁ ⋅u₀⋅v₀ + h₂₁ ⋅h₃₂ ⋅u₀  - 2⋅h₂₁⋅h₂₂⋅h₃₁⋅h₃₂⋅u₀  \n",
       "──────────────────────────────────────────────────────────────────────────────\n",
       "                                                                              \n",
       "                                                                              \n",
       "\n",
       "     2    2   2\n",
       "+ h₂₂ ⋅h₃₁ ⋅u₀ \n",
       "───────────────\n",
       "               \n",
       "               "
      ]
     },
     "execution_count": 30,
     "metadata": {},
     "output_type": "execute_result"
    }
   ],
   "source": [
    "formula_8 = ratsimp(det(LHS_7[0:2,0:2]-I_2))\n",
    "formula_8"
   ]
  },
  {
   "cell_type": "code",
   "execution_count": 31,
   "metadata": {
    "collapsed": false
   },
   "outputs": [
    {
     "data": {
      "text/latex": [
       "$$\\alpha^{2} h_{21}^{2} h_{32}^{2} - \\alpha^{2} h_{21}^{2} - 2 \\alpha^{2} h_{21} h_{22} h_{31} h_{32} + 2 \\alpha^{2} h_{21} h_{31} v_{0} + \\alpha^{2} h_{22}^{2} h_{31}^{2} - \\alpha^{2} h_{22}^{2} + 2 \\alpha^{2} h_{22} h_{32} v_{0} - \\alpha^{2} h_{31}^{2} v_{0}^{2} - \\alpha^{2} h_{32}^{2} v_{0}^{2} + \\beta^{2} h_{11}^{2} h_{32}^{2} - \\beta^{2} h_{11}^{2} - 2 \\beta^{2} h_{11} h_{12} h_{31} h_{32} + 2 \\beta^{2} h_{11} h_{31} u_{0} + \\beta^{2} h_{12}^{2} h_{31}^{2} - \\beta^{2} h_{12}^{2} + 2 \\beta^{2} h_{12} h_{32} u_{0} - \\beta^{2} h_{31}^{2} u_{0}^{2} - \\beta^{2} h_{32}^{2} u_{0}^{2} + h_{11}^{2} h_{22}^{2} - 2 h_{11}^{2} h_{22} h_{32} v_{0} + h_{11}^{2} h_{32}^{2} v_{0}^{2} - 2 h_{11} h_{12} h_{21} h_{22} + 2 h_{11} h_{12} h_{21} h_{32} v_{0} + 2 h_{11} h_{12} h_{22} h_{31} v_{0} - 2 h_{11} h_{12} h_{31} h_{32} v_{0}^{2} + 2 h_{11} h_{21} h_{22} h_{32} u_{0} - 2 h_{11} h_{21} h_{32}^{2} u_{0} v_{0} - 2 h_{11} h_{22}^{2} h_{31} u_{0} + 2 h_{11} h_{22} h_{31} h_{32} u_{0} v_{0} + h_{12}^{2} h_{21}^{2} - 2 h_{12}^{2} h_{21} h_{31} v_{0} + h_{12}^{2} h_{31}^{2} v_{0}^{2} - 2 h_{12} h_{21}^{2} h_{32} u_{0} + 2 h_{12} h_{21} h_{22} h_{31} u_{0} + 2 h_{12} h_{21} h_{31} h_{32} u_{0} v_{0} - 2 h_{12} h_{22} h_{31}^{2} u_{0} v_{0} + h_{21}^{2} h_{32}^{2} u_{0}^{2} - 2 h_{21} h_{22} h_{31} h_{32} u_{0}^{2} + h_{22}^{2} h_{31}^{2} u_{0}^{2}$$"
      ],
      "text/plain": [
       " 2    2    2    2    2      2                      2               2    2    2\n",
       "α ⋅h₂₁ ⋅h₃₂  - α ⋅h₂₁  - 2⋅α ⋅h₂₁⋅h₂₂⋅h₃₁⋅h₃₂ + 2⋅α ⋅h₂₁⋅h₃₁⋅v₀ + α ⋅h₂₂ ⋅h₃₁ \n",
       "\n",
       "    2    2      2               2    2   2    2    2   2    2    2    2    2  \n",
       " - α ⋅h₂₂  + 2⋅α ⋅h₂₂⋅h₃₂⋅v₀ - α ⋅h₃₁ ⋅v₀  - α ⋅h₃₂ ⋅v₀  + β ⋅h₁₁ ⋅h₃₂  - β ⋅h\n",
       "\n",
       "  2      2                      2               2    2    2    2    2      2  \n",
       "₁₁  - 2⋅β ⋅h₁₁⋅h₁₂⋅h₃₁⋅h₃₂ + 2⋅β ⋅h₁₁⋅h₃₁⋅u₀ + β ⋅h₁₂ ⋅h₃₁  - β ⋅h₁₂  + 2⋅β ⋅h\n",
       "\n",
       "             2    2   2    2    2   2      2    2        2                 2  \n",
       "₁₂⋅h₃₂⋅u₀ - β ⋅h₃₁ ⋅u₀  - β ⋅h₃₂ ⋅u₀  + h₁₁ ⋅h₂₂  - 2⋅h₁₁ ⋅h₂₂⋅h₃₂⋅v₀ + h₁₁ ⋅h\n",
       "\n",
       "  2   2                                                                       \n",
       "₃₂ ⋅v₀  - 2⋅h₁₁⋅h₁₂⋅h₂₁⋅h₂₂ + 2⋅h₁₁⋅h₁₂⋅h₂₁⋅h₃₂⋅v₀ + 2⋅h₁₁⋅h₁₂⋅h₂₂⋅h₃₁⋅v₀ - 2⋅\n",
       "\n",
       "                  2                                       2                  2\n",
       "h₁₁⋅h₁₂⋅h₃₁⋅h₃₂⋅v₀  + 2⋅h₁₁⋅h₂₁⋅h₂₂⋅h₃₂⋅u₀ - 2⋅h₁₁⋅h₂₁⋅h₃₂ ⋅u₀⋅v₀ - 2⋅h₁₁⋅h₂₂ \n",
       "\n",
       "                                       2    2        2                 2    2 \n",
       "⋅h₃₁⋅u₀ + 2⋅h₁₁⋅h₂₂⋅h₃₁⋅h₃₂⋅u₀⋅v₀ + h₁₂ ⋅h₂₁  - 2⋅h₁₂ ⋅h₂₁⋅h₃₁⋅v₀ + h₁₂ ⋅h₃₁ ⋅\n",
       "\n",
       "  2            2                                                              \n",
       "v₀  - 2⋅h₁₂⋅h₂₁ ⋅h₃₂⋅u₀ + 2⋅h₁₂⋅h₂₁⋅h₂₂⋅h₃₁⋅u₀ + 2⋅h₁₂⋅h₂₁⋅h₃₁⋅h₃₂⋅u₀⋅v₀ - 2⋅h\n",
       "\n",
       "          2            2    2   2                       2      2    2   2\n",
       "₁₂⋅h₂₂⋅h₃₁ ⋅u₀⋅v₀ + h₂₁ ⋅h₃₂ ⋅u₀  - 2⋅h₂₁⋅h₂₂⋅h₃₁⋅h₃₂⋅u₀  + h₂₂ ⋅h₃₁ ⋅u₀ "
      ]
     },
     "execution_count": 31,
     "metadata": {},
     "output_type": "execute_result"
    }
   ],
   "source": [
    "exp=alpha**2*beta**2*(formula_8+h31**2+h32**2-1)\n",
    "exp"
   ]
  },
  {
   "cell_type": "code",
   "execution_count": 32,
   "metadata": {
    "collapsed": false
   },
   "outputs": [
    {
     "data": {
      "text/latex": [
       "$$\\alpha^{2} v_{0}^{2} \\left(- h_{31}^{2} - h_{32}^{2}\\right) + \\alpha^{2} v_{0} \\left(2 h_{21} h_{31} + 2 h_{22} h_{32}\\right) + \\alpha^{2} \\left(h_{21}^{2} h_{32}^{2} - h_{21}^{2} - 2 h_{21} h_{22} h_{31} h_{32} + h_{22}^{2} h_{31}^{2} - h_{22}^{2}\\right) + \\beta^{2} u_{0}^{2} \\left(- h_{31}^{2} - h_{32}^{2}\\right) + \\beta^{2} u_{0} \\left(2 h_{11} h_{31} + 2 h_{12} h_{32}\\right) + \\beta^{2} \\left(h_{11}^{2} h_{32}^{2} - h_{11}^{2} - 2 h_{11} h_{12} h_{31} h_{32} + h_{12}^{2} h_{31}^{2} - h_{12}^{2}\\right) + h_{11}^{2} h_{22}^{2} - 2 h_{11} h_{12} h_{21} h_{22} + h_{12}^{2} h_{21}^{2} + u_{0}^{2} \\left(h_{21}^{2} h_{32}^{2} - 2 h_{21} h_{22} h_{31} h_{32} + h_{22}^{2} h_{31}^{2}\\right) + u_{0} \\left(2 h_{11} h_{21} h_{22} h_{32} - 2 h_{11} h_{21} h_{32}^{2} v_{0} - 2 h_{11} h_{22}^{2} h_{31} + 2 h_{11} h_{22} h_{31} h_{32} v_{0} - 2 h_{12} h_{21}^{2} h_{32} + 2 h_{12} h_{21} h_{22} h_{31} + 2 h_{12} h_{21} h_{31} h_{32} v_{0} - 2 h_{12} h_{22} h_{31}^{2} v_{0}\\right) + v_{0}^{2} \\left(h_{11}^{2} h_{32}^{2} - 2 h_{11} h_{12} h_{31} h_{32} + h_{12}^{2} h_{31}^{2}\\right) + v_{0} \\left(- 2 h_{11}^{2} h_{22} h_{32} + 2 h_{11} h_{12} h_{21} h_{32} + 2 h_{11} h_{12} h_{22} h_{31} - 2 h_{12}^{2} h_{21} h_{31}\\right)$$"
      ],
      "text/plain": [
       " 2   2 ⎛     2      2⎞    2                               2 ⎛   2    2      2 \n",
       "α ⋅v₀ ⋅⎝- h₃₁  - h₃₂ ⎠ + α ⋅v₀⋅(2⋅h₂₁⋅h₃₁ + 2⋅h₂₂⋅h₃₂) + α ⋅⎝h₂₁ ⋅h₃₂  - h₂₁  \n",
       "\n",
       "                         2    2      2⎞    2   2 ⎛     2      2⎞    2         \n",
       "- 2⋅h₂₁⋅h₂₂⋅h₃₁⋅h₃₂ + h₂₂ ⋅h₃₁  - h₂₂ ⎠ + β ⋅u₀ ⋅⎝- h₃₁  - h₃₂ ⎠ + β ⋅u₀⋅(2⋅h₁\n",
       "\n",
       "                      2 ⎛   2    2      2                          2    2     \n",
       "₁⋅h₃₁ + 2⋅h₁₂⋅h₃₂) + β ⋅⎝h₁₁ ⋅h₃₂  - h₁₁  - 2⋅h₁₁⋅h₁₂⋅h₃₁⋅h₃₂ + h₁₂ ⋅h₃₁  - h₁\n",
       "\n",
       " 2⎞      2    2                          2    2     2 ⎛   2    2              \n",
       "₂ ⎠ + h₁₁ ⋅h₂₂  - 2⋅h₁₁⋅h₁₂⋅h₂₁⋅h₂₂ + h₁₂ ⋅h₂₁  + u₀ ⋅⎝h₂₁ ⋅h₃₂  - 2⋅h₂₁⋅h₂₂⋅h\n",
       "\n",
       "            2    2⎞      ⎛                                 2               2  \n",
       "₃₁⋅h₃₂ + h₂₂ ⋅h₃₁ ⎠ + u₀⋅⎝2⋅h₁₁⋅h₂₁⋅h₂₂⋅h₃₂ - 2⋅h₁₁⋅h₂₁⋅h₃₂ ⋅v₀ - 2⋅h₁₁⋅h₂₂ ⋅h\n",
       "\n",
       "                                     2                                        \n",
       "₃₁ + 2⋅h₁₁⋅h₂₂⋅h₃₁⋅h₃₂⋅v₀ - 2⋅h₁₂⋅h₂₁ ⋅h₃₂ + 2⋅h₁₂⋅h₂₁⋅h₂₂⋅h₃₁ + 2⋅h₁₂⋅h₂₁⋅h₃₁\n",
       "\n",
       "                       2   ⎞     2 ⎛   2    2                          2    2⎞\n",
       "⋅h₃₂⋅v₀ - 2⋅h₁₂⋅h₂₂⋅h₃₁ ⋅v₀⎠ + v₀ ⋅⎝h₁₁ ⋅h₃₂  - 2⋅h₁₁⋅h₁₂⋅h₃₁⋅h₃₂ + h₁₂ ⋅h₃₁ ⎠\n",
       "\n",
       "      ⎛       2                                                        2      \n",
       " + v₀⋅⎝- 2⋅h₁₁ ⋅h₂₂⋅h₃₂ + 2⋅h₁₁⋅h₁₂⋅h₂₁⋅h₃₂ + 2⋅h₁₁⋅h₁₂⋅h₂₂⋅h₃₁ - 2⋅h₁₂ ⋅h₂₁⋅h\n",
       "\n",
       "  ⎞\n",
       "₃₁⎠"
      ]
     },
     "execution_count": 32,
     "metadata": {},
     "output_type": "execute_result"
    }
   ],
   "source": [
    "collect(exp,[alpha**2*v_0**2,alpha**2*v_0,alpha**2,beta**2*u_0**2,beta**2*u_0,beta**2,u_0**2,v_0**2,u_0,v_0])"
   ]
  },
  {
   "cell_type": "code",
   "execution_count": null,
   "metadata": {
    "collapsed": true
   },
   "outputs": [],
   "source": []
  }
 ],
 "metadata": {
  "kernelspec": {
   "display_name": "Python 2",
   "language": "python",
   "name": "python2"
  },
  "language_info": {
   "codemirror_mode": {
    "name": "ipython",
    "version": 2
   },
   "file_extension": ".py",
   "mimetype": "text/x-python",
   "name": "python",
   "nbconvert_exporter": "python",
   "pygments_lexer": "ipython2",
   "version": "2.7.11"
  }
 },
 "nbformat": 4,
 "nbformat_minor": 0
}
